{
 "cells": [
  {
   "cell_type": "code",
   "execution_count": 1,
   "metadata": {},
   "outputs": [],
   "source": [
    "chat_id = '42478249'\n",
    "TOKEN = '880339082:AAEa3xDy1tX5mWGja91s1BqO2Ydr6RQlX9Q'  # FIXME: 토큰 지정"
   ]
  },
  {
   "cell_type": "code",
   "execution_count": 4,
   "metadata": {},
   "outputs": [
    {
     "data": {
      "text/plain": [
       "<telegram.message.Message at 0x103c78ba8>"
      ]
     },
     "execution_count": 4,
     "metadata": {},
     "output_type": "execute_result"
    }
   ],
   "source": [
    "import telegram\n",
    "bot = telegram.Bot(token=TOKEN)\n",
    "bot.send_message(chat_id=chat_id, text='안녕 ~~~ :D')"
   ]
  },
  {
   "cell_type": "code",
   "execution_count": null,
   "metadata": {},
   "outputs": [],
   "source": []
  },
  {
   "cell_type": "code",
   "execution_count": 5,
   "metadata": {},
   "outputs": [],
   "source": [
    "import requests\n",
    "from bs4 import BeautifulSoup\n",
    "\n",
    "def 네이버_실검():\n",
    "    res = requests.get(\"http://naver.com\")\n",
    "    html = res.text\n",
    "    soup = BeautifulSoup(html, 'html.parser')\n",
    "    tag_list = soup.select('.PM_CL_realtimeKeyword_rolling .ah_k')\n",
    "\n",
    "    keyword_list = []\n",
    "    for rank, tag in enumerate(tag_list, 1): # 항상 하위 block 전에 콤마(:)를 씁니다.\n",
    "        keyword = tag.text\n",
    "        keyword_list.append(keyword)\n",
    "\n",
    "    return keyword_list"
   ]
  },
  {
   "cell_type": "code",
   "execution_count": 6,
   "metadata": {},
   "outputs": [
    {
     "data": {
      "text/plain": [
       "<telegram.message.Message at 0x1043b0550>"
      ]
     },
     "execution_count": 6,
     "metadata": {},
     "output_type": "execute_result"
    }
   ],
   "source": [
    "text = '\\n'.join(네이버_실검())\n",
    "bot.send_message(chat_id=chat_id, text=text)"
   ]
  },
  {
   "cell_type": "code",
   "execution_count": null,
   "metadata": {},
   "outputs": [],
   "source": []
  },
  {
   "cell_type": "code",
   "execution_count": 7,
   "metadata": {},
   "outputs": [],
   "source": [
    "def 네이버_블로그_검색(keyword):\n",
    "    url = 'https://search.naver.com/search.naver'\n",
    "    params = {\n",
    "        'where': 'post',\n",
    "        'sm': 'tab_jum',\n",
    "        'query': keyword,\n",
    "    }\n",
    "    res = requests.get(url, params=params)\n",
    "    html = res.text\n",
    "    soup = BeautifulSoup(html, 'html.parser')\n",
    "    \n",
    "    post_list = []\n",
    "    for tag in soup.select('.sh_blog_title'):\n",
    "        title = tag.text\n",
    "        url = tag['href']\n",
    "        # TODO: 요약문, 대표이미지, 글쓴날짜\n",
    "        post_list.append({\n",
    "            'url': url,\n",
    "            'title': title,\n",
    "        })\n",
    "    return post_list"
   ]
  },
  {
   "cell_type": "code",
   "execution_count": 17,
   "metadata": {},
   "outputs": [
    {
     "data": {
      "text/plain": [
       "<telegram.message.Message at 0x1083cf6d8>"
      ]
     },
     "execution_count": 17,
     "metadata": {},
     "output_type": "execute_result"
    }
   ],
   "source": [
    "line_list = []\n",
    "for post in 네이버_블로그_검색('LS그룹'):\n",
    "    line = '{}\\n{}'.format(post['title'], post['url'])\n",
    "    line_list.append(line)\n",
    "\n",
    "text = '\\n\\n'.join(line_list)\n",
    "bot.send_message(chat_id=chat_id, text=text)"
   ]
  },
  {
   "cell_type": "code",
   "execution_count": null,
   "metadata": {},
   "outputs": [],
   "source": []
  },
  {
   "cell_type": "code",
   "execution_count": 35,
   "metadata": {},
   "outputs": [
    {
     "name": "stdout",
     "output_type": "stream",
     "text": [
      "네이버 블로그 검색을 시작합니다.\n",
      " LS 그룹 \n"
     ]
    }
   ],
   "source": [
    "# 블로그 검색:\n",
    "\n",
    "# 네이버 블로그에서 맛집 검색해줘\n",
    "# 네이버 블로그에서 맛집 검색해줄래?\n",
    "# 네이버 블로그에서 맛집 검색해주지 않으련?\n",
    "# 네이버 블로그에서 맛집 검색 고고\n",
    "# 네이버 블로그 맛집 검색\n",
    "# 블로그에서 맛집 검색\n",
    "\n",
    "import re\n",
    "\n",
    "네이버_블로그_검색_키워드_패턴 = r\"블로그에?서?(.+)검색\"\n",
    "\n",
    "matched = re.search(네이버_블로그_검색_키워드_패턴, '네이버 블로그에서 LS 그룹 검색해줄래?')\n",
    "if matched:\n",
    "    print(\"네이버 블로그 검색을 시작합니다.\")\n",
    "#     검색어 = matched.groups()[0]\n",
    "    검색어 = matched.group(1)\n",
    "    print(검색어)"
   ]
  },
  {
   "cell_type": "code",
   "execution_count": 21,
   "metadata": {},
   "outputs": [],
   "source": [
    "re.search(네이버_블로그_검색_키워드_패턴, '블로 맛집 검색해줄래?')"
   ]
  },
  {
   "cell_type": "code",
   "execution_count": null,
   "metadata": {},
   "outputs": [],
   "source": []
  },
  {
   "cell_type": "code",
   "execution_count": null,
   "metadata": {},
   "outputs": [],
   "source": []
  },
  {
   "cell_type": "code",
   "execution_count": null,
   "metadata": {},
   "outputs": [],
   "source": []
  },
  {
   "cell_type": "code",
   "execution_count": null,
   "metadata": {},
   "outputs": [],
   "source": []
  },
  {
   "cell_type": "code",
   "execution_count": null,
   "metadata": {},
   "outputs": [],
   "source": []
  },
  {
   "cell_type": "code",
   "execution_count": null,
   "metadata": {},
   "outputs": [],
   "source": []
  },
  {
   "cell_type": "code",
   "execution_count": null,
   "metadata": {},
   "outputs": [],
   "source": []
  }
 ],
 "metadata": {
  "kernelspec": {
   "display_name": "Python 3",
   "language": "python",
   "name": "python3"
  },
  "language_info": {
   "codemirror_mode": {
    "name": "ipython",
    "version": 3
   },
   "file_extension": ".py",
   "mimetype": "text/x-python",
   "name": "python",
   "nbconvert_exporter": "python",
   "pygments_lexer": "ipython3",
   "version": "3.7.2"
  }
 },
 "nbformat": 4,
 "nbformat_minor": 2
}
