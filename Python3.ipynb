{
 "cells": [
  {
   "cell_type": "markdown",
   "metadata": {},
   "source": [
    "# 빌트인 함수"
   ]
  },
  {
   "cell_type": "code",
   "execution_count": 1,
   "metadata": {},
   "outputs": [],
   "source": [
    "import csv\n",
    "\n",
    "with open(\"melon_chart.csv\", \"rt\", encoding=\"utf8\") as f:\n",
    "    reader = csv.DictReader(f)\n",
    "    멜론_TOP100_리스트 = list(reader)"
   ]
  },
  {
   "cell_type": "markdown",
   "metadata": {},
   "source": [
    "### filter"
   ]
  },
  {
   "cell_type": "code",
   "execution_count": 3,
   "metadata": {
    "collapsed": true
   },
   "outputs": [
    {
     "name": "stdout",
     "output_type": "stream",
     "text": [
      "IDOL 방탄소년단 173279\n",
      "I`m Fine 방탄소년단 132847\n",
      "FAKE LOVE 방탄소년단 253847\n",
      "Euphoria 방탄소년단 129017\n",
      "Answer : Love Myself 방탄소년단 108151\n",
      "전하지 못한 진심 (Feat. Steve Aoki) 방탄소년단 176653\n",
      "Epiphany 방탄소년단 101011\n",
      "Trivia 轉 : Seesaw 방탄소년단 98436\n",
      "Trivia 起 : Just Dance 방탄소년단 88970\n",
      "Trivia 承 : Love 방탄소년단 83610\n",
      "Anpanman 방탄소년단 138694\n",
      "봄날 방탄소년단 359130\n",
      "DNA 방탄소년단 323911\n",
      "Airplane pt.2 방탄소년단 127355\n"
     ]
    }
   ],
   "source": [
    "for 곡 in 멜론_TOP100_리스트:\n",
    "    if 곡['가수'] == '방탄소년단':\n",
    "        print(곡['곡명'], 곡['가수'], 곡['좋아요'])"
   ]
  },
  {
   "cell_type": "code",
   "execution_count": 19,
   "metadata": {
    "collapsed": true
   },
   "outputs": [
    {
     "name": "stdout",
     "output_type": "stream",
     "text": [
      "5 [LOVE YOURSELF 結 `Answer`] IDOL 방탄소년단 (173279)\n",
      "8 [LOVE YOURSELF 結 `Answer`] I`m Fine 방탄소년단 (132847)\n",
      "10 [LOVE YOURSELF 轉 `Tear`] FAKE LOVE 방탄소년단 (253847)\n",
      "12 [LOVE YOURSELF 結 `Answer`] Euphoria 방탄소년단 (129017)\n",
      "14 [LOVE YOURSELF 結 `Answer`] Answer : Love Myself 방탄소년단 (108151)\n",
      "15 [LOVE YOURSELF 轉 `Tear`] 전하지 못한 진심 (Feat. Steve Aoki) 방탄소년단 (176653)\n",
      "16 [LOVE YOURSELF 結 `Answer`] Epiphany 방탄소년단 (101011)\n",
      "17 [LOVE YOURSELF 結 `Answer`] Trivia 轉 : Seesaw 방탄소년단 (98436)\n",
      "20 [LOVE YOURSELF 結 `Answer`] Trivia 起 : Just Dance 방탄소년단 (88970)\n",
      "22 [LOVE YOURSELF 結 `Answer`] Trivia 承 : Love 방탄소년단 (83610)\n",
      "25 [LOVE YOURSELF 轉 `Tear`] Anpanman 방탄소년단 (138694)\n",
      "26 [YOU NEVER WALK ALONE] 봄날 방탄소년단 (359130)\n",
      "27 [LOVE YOURSELF 承 `Her`] DNA 방탄소년단 (323911)\n",
      "28 [LOVE YOURSELF 轉 `Tear`] Airplane pt.2 방탄소년단 (127355)\n"
     ]
    }
   ],
   "source": [
    "def filter_fn(곡):\n",
    "    return 곡['가수'] == '방탄소년단'\n",
    "    \n",
    "for 곡 in filter(filter_fn, 멜론_TOP100_리스트):\n",
    "    print('{순위} [{앨범}] {곡명} {가수} ({좋아요})'.format(**곡))  # unpack 문법\n",
    "#     print('[{}] {} {} ({})'.format(곡['앨범'], 곡['곡명'], 곡['가수'], 곡['좋아요']))\n",
    "#     print('[{앨범}] {곡명} {가수} ({좋아요})'.format(앨범=곡['앨범'], 곡명=곡['곡명'], 가수=곡['가수'], 좋아요=곡['좋아요']))\n"
   ]
  },
  {
   "cell_type": "markdown",
   "metadata": {},
   "source": [
    "## map"
   ]
  },
  {
   "cell_type": "code",
   "execution_count": 20,
   "metadata": {},
   "outputs": [],
   "source": [
    "mylist = [1, 2, 3, 4, 5]"
   ]
  },
  {
   "cell_type": "code",
   "execution_count": 21,
   "metadata": {},
   "outputs": [
    {
     "data": {
      "text/plain": [
       "[1, 4, 9, 16, 25]"
      ]
     },
     "execution_count": 21,
     "metadata": {},
     "output_type": "execute_result"
    }
   ],
   "source": [
    "powered_list = []\n",
    "for i in mylist:\n",
    "    powered_list.append(i ** 2)\n",
    "powered_list"
   ]
  },
  {
   "cell_type": "code",
   "execution_count": 22,
   "metadata": {},
   "outputs": [
    {
     "data": {
      "text/plain": [
       "[1, 4, 9, 16, 25]"
      ]
     },
     "execution_count": 22,
     "metadata": {},
     "output_type": "execute_result"
    }
   ],
   "source": [
    "[i**2 for i in mylist]"
   ]
  },
  {
   "cell_type": "code",
   "execution_count": 24,
   "metadata": {},
   "outputs": [
    {
     "data": {
      "text/plain": [
       "[1, 4, 9, 16, 25]"
      ]
     },
     "execution_count": 24,
     "metadata": {},
     "output_type": "execute_result"
    }
   ],
   "source": [
    "def map_fn(value):\n",
    "    return value ** 2\n",
    "\n",
    "list(map(map_fn, mylist))  # Generator"
   ]
  },
  {
   "cell_type": "markdown",
   "metadata": {},
   "source": [
    "## min/max"
   ]
  },
  {
   "cell_type": "code",
   "execution_count": 25,
   "metadata": {},
   "outputs": [
    {
     "data": {
      "text/plain": [
       "39"
      ]
     },
     "execution_count": 25,
     "metadata": {},
     "output_type": "execute_result"
    }
   ],
   "source": [
    "import random\n",
    "\n",
    "random.randint(1, 100)"
   ]
  },
  {
   "cell_type": "code",
   "execution_count": 26,
   "metadata": {},
   "outputs": [
    {
     "data": {
      "text/plain": [
       "[91, 77, 51, 1, 12, 95]"
      ]
     },
     "execution_count": 26,
     "metadata": {},
     "output_type": "execute_result"
    }
   ],
   "source": [
    "random.sample(range(1, 101), 6)"
   ]
  },
  {
   "cell_type": "code",
   "execution_count": 31,
   "metadata": {},
   "outputs": [
    {
     "data": {
      "text/plain": [
       "[56, 49, 69, 8, 21, 89]"
      ]
     },
     "execution_count": 31,
     "metadata": {},
     "output_type": "execute_result"
    }
   ],
   "source": [
    "number_list = random.sample(range(1, 101), 6)\n",
    "number_list"
   ]
  },
  {
   "cell_type": "code",
   "execution_count": 33,
   "metadata": {},
   "outputs": [
    {
     "data": {
      "text/plain": [
       "8"
      ]
     },
     "execution_count": 33,
     "metadata": {},
     "output_type": "execute_result"
    }
   ],
   "source": [
    "min(number_list)"
   ]
  },
  {
   "cell_type": "code",
   "execution_count": 40,
   "metadata": {},
   "outputs": [
    {
     "data": {
      "text/plain": [
       "OrderedDict([('곡일련번호', '30962526'),\n",
       "             ('순위', '18'),\n",
       "             ('앨범', '`키스 먼저 할까요?` OST Part.3'),\n",
       "             ('곡명', '모든 날, 모든 순간 (Every day, Every Moment)'),\n",
       "             ('가수', '폴킴'),\n",
       "             ('커버이미지_주소',\n",
       "              'https://cdnimg.melon.co.kr/cm/album/images/101/49/492/10149492_500.jpg/melon/resize/120/quality/80/optimize'),\n",
       "             ('좋아요', '185706')])"
      ]
     },
     "execution_count": 40,
     "metadata": {},
     "output_type": "execute_result"
    }
   ],
   "source": [
    "def max_fn(곡):\n",
    "    return len(곡['곡명'])\n",
    "#     return int(곡['좋아요'])\n",
    "\n",
    "max(멜론_TOP100_리스트, key=max_fn)"
   ]
  },
  {
   "cell_type": "markdown",
   "metadata": {},
   "source": [
    "## 이메일 보내기"
   ]
  },
  {
   "cell_type": "code",
   "execution_count": 52,
   "metadata": {},
   "outputs": [],
   "source": [
    "from getpass import getpass"
   ]
  },
  {
   "cell_type": "code",
   "execution_count": 53,
   "metadata": {},
   "outputs": [
    {
     "name": "stdout",
     "output_type": "stream",
     "text": [
      "Enter Password : ········\n"
     ]
    }
   ],
   "source": [
    "smtp_server = 'smtp.naver.com'\n",
    "smtp_user = 'allieuslee'  # FIXME: 여러분의 아이디\n",
    "smtp_password = getpass('Enter Password : ')"
   ]
  },
  {
   "cell_type": "code",
   "execution_count": 54,
   "metadata": {},
   "outputs": [
    {
     "name": "stdout",
     "output_type": "stream",
     "text": [
      "Requirement already satisfied: envelopes in /Users/allieus/anaconda3/lib/python3.7/site-packages (0.4)\r\n"
     ]
    }
   ],
   "source": [
    "!pip install envelopes"
   ]
  },
  {
   "cell_type": "markdown",
   "metadata": {},
   "source": [
    "네이버 실검"
   ]
  },
  {
   "cell_type": "code",
   "execution_count": 56,
   "metadata": {},
   "outputs": [],
   "source": [
    "import requests\n",
    "from bs4 import BeautifulSoup\n",
    "\n",
    "def 네이버_실검():\n",
    "    res = requests.get(\"http://naver.com\")\n",
    "    html = res.text\n",
    "    soup = BeautifulSoup(html, 'html.parser')\n",
    "    tag_list = soup.select('.PM_CL_realtimeKeyword_rolling .ah_k')\n",
    "\n",
    "    keyword_list = []\n",
    "    for rank, tag in enumerate(tag_list, 1): # 항상 하위 block 전에 콤마(:)를 씁니다.\n",
    "        keyword = tag.text\n",
    "        keyword_list.append(keyword)\n",
    "    \n",
    "    return keyword_list"
   ]
  },
  {
   "cell_type": "code",
   "execution_count": 60,
   "metadata": {},
   "outputs": [],
   "source": [
    "text_body = \"\\n\".join(네이버_실검())"
   ]
  },
  {
   "cell_type": "code",
   "execution_count": 61,
   "metadata": {},
   "outputs": [
    {
     "data": {
      "text/plain": [
       "(<envelopes.conn.SMTP at 0x10ce2d4a8>, {})"
      ]
     },
     "execution_count": 61,
     "metadata": {},
     "output_type": "execute_result"
    }
   ],
   "source": [
    "from envelopes import Envelope, GMailSMTP\n",
    "\n",
    "envelope = Envelope(\n",
    "    from_addr=('allieuslee@naver.com', 'Chinseok Lee'),  # FIXME: 보내는 사람\n",
    "    to_addr=('me@askcompany.kr', 'Chinseok Lee'),        # FIXME: 받는 사람\n",
    "    subject='네이버 실검 현황',\n",
    "    text_body=text_body\n",
    ")\n",
    "# envelope.add_attachment('/Users/bilbo/Pictures/helicopter.jpg')\n",
    "\n",
    "# Send the envelope using an ad-hoc connection...\n",
    "envelope.send(smtp_server, login=smtp_user,\n",
    "              password=smtp_password, tls=True)"
   ]
  },
  {
   "cell_type": "code",
   "execution_count": null,
   "metadata": {},
   "outputs": [],
   "source": []
  },
  {
   "cell_type": "code",
   "execution_count": 62,
   "metadata": {},
   "outputs": [],
   "source": [
    "TELEGRAM_TOKEN = '880339082:AAEa3xDy1tX5mWGja91s1BqO2Ydr6RQlX9Q'"
   ]
  },
  {
   "cell_type": "markdown",
   "metadata": {},
   "source": [
    "## 크롤링"
   ]
  },
  {
   "cell_type": "markdown",
   "metadata": {},
   "source": [
    "### 네이버 실검"
   ]
  },
  {
   "cell_type": "code",
   "execution_count": 63,
   "metadata": {},
   "outputs": [],
   "source": [
    "import requests\n",
    "from bs4 import BeautifulSoup  # HTML Parser"
   ]
  },
  {
   "cell_type": "code",
   "execution_count": 65,
   "metadata": {},
   "outputs": [
    {
     "data": {
      "text/plain": [
       "<Response [200]>"
      ]
     },
     "execution_count": 65,
     "metadata": {},
     "output_type": "execute_result"
    }
   ],
   "source": [
    "res = requests.get(\"https://www.naver.com\")\n",
    "res"
   ]
  },
  {
   "cell_type": "code",
   "execution_count": 67,
   "metadata": {},
   "outputs": [],
   "source": [
    "html = res.text  # 응답 문자열"
   ]
  },
  {
   "cell_type": "code",
   "execution_count": 68,
   "metadata": {},
   "outputs": [
    {
     "data": {
      "text/plain": [
       "166444"
      ]
     },
     "execution_count": 68,
     "metadata": {},
     "output_type": "execute_result"
    }
   ],
   "source": [
    "len(html)"
   ]
  },
  {
   "cell_type": "code",
   "execution_count": 69,
   "metadata": {},
   "outputs": [
    {
     "data": {
      "text/plain": [
       "True"
      ]
     },
     "execution_count": 69,
     "metadata": {},
     "output_type": "execute_result"
    }
   ],
   "source": [
    "'포항지진' in html"
   ]
  },
  {
   "cell_type": "code",
   "execution_count": 71,
   "metadata": {},
   "outputs": [],
   "source": [
    "soup = BeautifulSoup(html, 'html.parser')"
   ]
  },
  {
   "cell_type": "code",
   "execution_count": 73,
   "metadata": {},
   "outputs": [
    {
     "data": {
      "text/plain": [
       "40"
      ]
     },
     "execution_count": 73,
     "metadata": {},
     "output_type": "execute_result"
    }
   ],
   "source": [
    "# HTML 상에서의 Rule -> CSS Selector\n",
    "tag_list = soup.select('.ah_k')\n",
    "len(tag_list)"
   ]
  },
  {
   "cell_type": "code",
   "execution_count": 75,
   "metadata": {},
   "outputs": [
    {
     "data": {
      "text/plain": [
       "bs4.element.Tag"
      ]
     },
     "execution_count": 75,
     "metadata": {},
     "output_type": "execute_result"
    }
   ],
   "source": [
    "type(tag_list[0])"
   ]
  },
  {
   "cell_type": "code",
   "execution_count": 76,
   "metadata": {},
   "outputs": [
    {
     "data": {
      "text/plain": [
       "<span class=\"ah_k\">박정아</span>"
      ]
     },
     "execution_count": 76,
     "metadata": {},
     "output_type": "execute_result"
    }
   ],
   "source": [
    "tag_list[0]"
   ]
  },
  {
   "cell_type": "code",
   "execution_count": 77,
   "metadata": {},
   "outputs": [
    {
     "data": {
      "text/plain": [
       "'박정아'"
      ]
     },
     "execution_count": 77,
     "metadata": {},
     "output_type": "execute_result"
    }
   ],
   "source": [
    "tag_list[0].text"
   ]
  },
  {
   "cell_type": "code",
   "execution_count": 78,
   "metadata": {},
   "outputs": [
    {
     "data": {
      "text/plain": [
       "['박정아',\n",
       " '포항지진',\n",
       " '애나',\n",
       " '민방위훈련',\n",
       " '주피터 어센딩',\n",
       " '2019 나훈아 콘서트',\n",
       " '외식하는날 소갈비',\n",
       " '아디다스 깔깔이',\n",
       " '리스본행 야간열차',\n",
       " '눈이 부시게 줄거리',\n",
       " '이상화 강남',\n",
       " '스피드스케이팅 이상화',\n",
       " '라페라리',\n",
       " '버닝썬 애나',\n",
       " '엘비세미콘',\n",
       " '부라더',\n",
       " '현대바이오',\n",
       " '강남',\n",
       " '지열 발전소',\n",
       " '지진',\n",
       " '박정아',\n",
       " '포항지진',\n",
       " '애나',\n",
       " '민방위훈련',\n",
       " '주피터 어센딩',\n",
       " '2019 나훈아 콘서트',\n",
       " '외식하는날 소갈비',\n",
       " '아디다스 깔깔이',\n",
       " '리스본행 야간열차',\n",
       " '눈이 부시게 줄거리',\n",
       " '이상화 강남',\n",
       " '스피드스케이팅 이상화',\n",
       " '라페라리',\n",
       " '버닝썬 애나',\n",
       " '엘비세미콘',\n",
       " '부라더',\n",
       " '현대바이오',\n",
       " '강남',\n",
       " '지열 발전소',\n",
       " '지진']"
      ]
     },
     "execution_count": 78,
     "metadata": {},
     "output_type": "execute_result"
    }
   ],
   "source": [
    "[tag.text for tag in tag_list]"
   ]
  },
  {
   "cell_type": "markdown",
   "metadata": {},
   "source": [
    "코드 정리"
   ]
  },
  {
   "cell_type": "code",
   "execution_count": 81,
   "metadata": {},
   "outputs": [
    {
     "data": {
      "text/plain": [
       "['박정아',\n",
       " '민방위훈련',\n",
       " '포항지진',\n",
       " '애나',\n",
       " '2019 나훈아 콘서트',\n",
       " '주피터 어센딩',\n",
       " '아디다스 깔깔이',\n",
       " '엘비세미콘',\n",
       " '외식하는날 소갈비',\n",
       " '스피드스케이팅 이상화',\n",
       " '이상화 강남',\n",
       " '라페라리',\n",
       " '버닝썬 애나',\n",
       " '부라더',\n",
       " '현대바이오',\n",
       " '리스본행 야간열차',\n",
       " '눈이 부시게 줄거리',\n",
       " '강남',\n",
       " '고퇴경',\n",
       " '지열 발전소']"
      ]
     },
     "execution_count": 81,
     "metadata": {},
     "output_type": "execute_result"
    }
   ],
   "source": [
    "import requests\n",
    "from bs4 import BeautifulSoup  # HTML Parser\n",
    "\n",
    "res = requests.get(\"https://www.naver.com\")  # 웹페이지 방문(요청)해서 응답을 획득\n",
    "html = res.text                  # 응답 문자열을 html 변수에 저장\n",
    "soup = BeautifulSoup(html, 'html.parser')  # BeautifulSoup4를 통해서 원하는 Tag를 찾아보자.\n",
    "tag_list = soup.select('.PM_CL_realtimeKeyword_rolling .ah_k')  # class에 ah_k가 포함된 모든 태그를 찾아서, 리스트화\n",
    "[tag.text for tag in tag_list]   # tag_list에서 tag별 .text 속성으로 리스트를 만들어보자."
   ]
  },
  {
   "cell_type": "code",
   "execution_count": null,
   "metadata": {},
   "outputs": [],
   "source": []
  },
  {
   "cell_type": "code",
   "execution_count": null,
   "metadata": {},
   "outputs": [],
   "source": []
  },
  {
   "cell_type": "code",
   "execution_count": null,
   "metadata": {},
   "outputs": [],
   "source": []
  },
  {
   "cell_type": "code",
   "execution_count": null,
   "metadata": {},
   "outputs": [],
   "source": []
  }
 ],
 "metadata": {
  "kernelspec": {
   "display_name": "Python 3",
   "language": "python",
   "name": "python3"
  },
  "language_info": {
   "codemirror_mode": {
    "name": "ipython",
    "version": 3
   },
   "file_extension": ".py",
   "mimetype": "text/x-python",
   "name": "python",
   "nbconvert_exporter": "python",
   "pygments_lexer": "ipython3",
   "version": "3.7.0"
  }
 },
 "nbformat": 4,
 "nbformat_minor": 2
}
