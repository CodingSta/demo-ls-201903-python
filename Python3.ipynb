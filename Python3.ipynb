{
 "cells": [
  {
   "cell_type": "markdown",
   "metadata": {},
   "source": [
    "# 빌트인 함수"
   ]
  },
  {
   "cell_type": "code",
   "execution_count": 1,
   "metadata": {},
   "outputs": [],
   "source": [
    "import csv\n",
    "\n",
    "with open(\"melon_chart.csv\", \"rt\", encoding=\"utf8\") as f:\n",
    "    reader = csv.DictReader(f)\n",
    "    멜론_TOP100_리스트 = list(reader)"
   ]
  },
  {
   "cell_type": "markdown",
   "metadata": {},
   "source": [
    "### filter"
   ]
  },
  {
   "cell_type": "code",
   "execution_count": 3,
   "metadata": {
    "collapsed": true
   },
   "outputs": [
    {
     "name": "stdout",
     "output_type": "stream",
     "text": [
      "IDOL 방탄소년단 173279\n",
      "I`m Fine 방탄소년단 132847\n",
      "FAKE LOVE 방탄소년단 253847\n",
      "Euphoria 방탄소년단 129017\n",
      "Answer : Love Myself 방탄소년단 108151\n",
      "전하지 못한 진심 (Feat. Steve Aoki) 방탄소년단 176653\n",
      "Epiphany 방탄소년단 101011\n",
      "Trivia 轉 : Seesaw 방탄소년단 98436\n",
      "Trivia 起 : Just Dance 방탄소년단 88970\n",
      "Trivia 承 : Love 방탄소년단 83610\n",
      "Anpanman 방탄소년단 138694\n",
      "봄날 방탄소년단 359130\n",
      "DNA 방탄소년단 323911\n",
      "Airplane pt.2 방탄소년단 127355\n"
     ]
    }
   ],
   "source": [
    "for 곡 in 멜론_TOP100_리스트:\n",
    "    if 곡['가수'] == '방탄소년단':\n",
    "        print(곡['곡명'], 곡['가수'], 곡['좋아요'])"
   ]
  },
  {
   "cell_type": "code",
   "execution_count": 19,
   "metadata": {
    "collapsed": true
   },
   "outputs": [
    {
     "name": "stdout",
     "output_type": "stream",
     "text": [
      "5 [LOVE YOURSELF 結 `Answer`] IDOL 방탄소년단 (173279)\n",
      "8 [LOVE YOURSELF 結 `Answer`] I`m Fine 방탄소년단 (132847)\n",
      "10 [LOVE YOURSELF 轉 `Tear`] FAKE LOVE 방탄소년단 (253847)\n",
      "12 [LOVE YOURSELF 結 `Answer`] Euphoria 방탄소년단 (129017)\n",
      "14 [LOVE YOURSELF 結 `Answer`] Answer : Love Myself 방탄소년단 (108151)\n",
      "15 [LOVE YOURSELF 轉 `Tear`] 전하지 못한 진심 (Feat. Steve Aoki) 방탄소년단 (176653)\n",
      "16 [LOVE YOURSELF 結 `Answer`] Epiphany 방탄소년단 (101011)\n",
      "17 [LOVE YOURSELF 結 `Answer`] Trivia 轉 : Seesaw 방탄소년단 (98436)\n",
      "20 [LOVE YOURSELF 結 `Answer`] Trivia 起 : Just Dance 방탄소년단 (88970)\n",
      "22 [LOVE YOURSELF 結 `Answer`] Trivia 承 : Love 방탄소년단 (83610)\n",
      "25 [LOVE YOURSELF 轉 `Tear`] Anpanman 방탄소년단 (138694)\n",
      "26 [YOU NEVER WALK ALONE] 봄날 방탄소년단 (359130)\n",
      "27 [LOVE YOURSELF 承 `Her`] DNA 방탄소년단 (323911)\n",
      "28 [LOVE YOURSELF 轉 `Tear`] Airplane pt.2 방탄소년단 (127355)\n"
     ]
    }
   ],
   "source": [
    "def filter_fn(곡):\n",
    "    return 곡['가수'] == '방탄소년단'\n",
    "    \n",
    "for 곡 in filter(filter_fn, 멜론_TOP100_리스트):\n",
    "    print('{순위} [{앨범}] {곡명} {가수} ({좋아요})'.format(**곡))  # unpack 문법\n",
    "#     print('[{}] {} {} ({})'.format(곡['앨범'], 곡['곡명'], 곡['가수'], 곡['좋아요']))\n",
    "#     print('[{앨범}] {곡명} {가수} ({좋아요})'.format(앨범=곡['앨범'], 곡명=곡['곡명'], 가수=곡['가수'], 좋아요=곡['좋아요']))\n"
   ]
  },
  {
   "cell_type": "markdown",
   "metadata": {},
   "source": [
    "## map"
   ]
  },
  {
   "cell_type": "code",
   "execution_count": 20,
   "metadata": {},
   "outputs": [],
   "source": [
    "mylist = [1, 2, 3, 4, 5]"
   ]
  },
  {
   "cell_type": "code",
   "execution_count": 21,
   "metadata": {},
   "outputs": [
    {
     "data": {
      "text/plain": [
       "[1, 4, 9, 16, 25]"
      ]
     },
     "execution_count": 21,
     "metadata": {},
     "output_type": "execute_result"
    }
   ],
   "source": [
    "powered_list = []\n",
    "for i in mylist:\n",
    "    powered_list.append(i ** 2)\n",
    "powered_list"
   ]
  },
  {
   "cell_type": "code",
   "execution_count": 22,
   "metadata": {},
   "outputs": [
    {
     "data": {
      "text/plain": [
       "[1, 4, 9, 16, 25]"
      ]
     },
     "execution_count": 22,
     "metadata": {},
     "output_type": "execute_result"
    }
   ],
   "source": [
    "[i**2 for i in mylist]"
   ]
  },
  {
   "cell_type": "code",
   "execution_count": 24,
   "metadata": {},
   "outputs": [
    {
     "data": {
      "text/plain": [
       "[1, 4, 9, 16, 25]"
      ]
     },
     "execution_count": 24,
     "metadata": {},
     "output_type": "execute_result"
    }
   ],
   "source": [
    "def map_fn(value):\n",
    "    return value ** 2\n",
    "\n",
    "list(map(map_fn, mylist))  # Generator"
   ]
  },
  {
   "cell_type": "markdown",
   "metadata": {},
   "source": [
    "## min/max"
   ]
  },
  {
   "cell_type": "code",
   "execution_count": 25,
   "metadata": {},
   "outputs": [
    {
     "data": {
      "text/plain": [
       "39"
      ]
     },
     "execution_count": 25,
     "metadata": {},
     "output_type": "execute_result"
    }
   ],
   "source": [
    "import random\n",
    "\n",
    "random.randint(1, 100)"
   ]
  },
  {
   "cell_type": "code",
   "execution_count": 26,
   "metadata": {},
   "outputs": [
    {
     "data": {
      "text/plain": [
       "[91, 77, 51, 1, 12, 95]"
      ]
     },
     "execution_count": 26,
     "metadata": {},
     "output_type": "execute_result"
    }
   ],
   "source": [
    "random.sample(range(1, 101), 6)"
   ]
  },
  {
   "cell_type": "code",
   "execution_count": 31,
   "metadata": {},
   "outputs": [
    {
     "data": {
      "text/plain": [
       "[56, 49, 69, 8, 21, 89]"
      ]
     },
     "execution_count": 31,
     "metadata": {},
     "output_type": "execute_result"
    }
   ],
   "source": [
    "number_list = random.sample(range(1, 101), 6)\n",
    "number_list"
   ]
  },
  {
   "cell_type": "code",
   "execution_count": 33,
   "metadata": {},
   "outputs": [
    {
     "data": {
      "text/plain": [
       "8"
      ]
     },
     "execution_count": 33,
     "metadata": {},
     "output_type": "execute_result"
    }
   ],
   "source": [
    "min(number_list)"
   ]
  },
  {
   "cell_type": "code",
   "execution_count": 40,
   "metadata": {},
   "outputs": [
    {
     "data": {
      "text/plain": [
       "OrderedDict([('곡일련번호', '30962526'),\n",
       "             ('순위', '18'),\n",
       "             ('앨범', '`키스 먼저 할까요?` OST Part.3'),\n",
       "             ('곡명', '모든 날, 모든 순간 (Every day, Every Moment)'),\n",
       "             ('가수', '폴킴'),\n",
       "             ('커버이미지_주소',\n",
       "              'https://cdnimg.melon.co.kr/cm/album/images/101/49/492/10149492_500.jpg/melon/resize/120/quality/80/optimize'),\n",
       "             ('좋아요', '185706')])"
      ]
     },
     "execution_count": 40,
     "metadata": {},
     "output_type": "execute_result"
    }
   ],
   "source": [
    "def max_fn(곡):\n",
    "    return len(곡['곡명'])\n",
    "#     return int(곡['좋아요'])\n",
    "\n",
    "max(멜론_TOP100_리스트, key=max_fn)"
   ]
  },
  {
   "cell_type": "markdown",
   "metadata": {},
   "source": [
    "## 이메일 보내기"
   ]
  },
  {
   "cell_type": "code",
   "execution_count": 52,
   "metadata": {},
   "outputs": [],
   "source": [
    "from getpass import getpass"
   ]
  },
  {
   "cell_type": "code",
   "execution_count": 53,
   "metadata": {},
   "outputs": [
    {
     "name": "stdout",
     "output_type": "stream",
     "text": [
      "Enter Password : ········\n"
     ]
    }
   ],
   "source": [
    "smtp_server = 'smtp.naver.com'\n",
    "smtp_user = 'allieuslee'  # FIXME: 여러분의 아이디\n",
    "smtp_password = getpass('Enter Password : ')"
   ]
  },
  {
   "cell_type": "code",
   "execution_count": 54,
   "metadata": {},
   "outputs": [
    {
     "name": "stdout",
     "output_type": "stream",
     "text": [
      "Requirement already satisfied: envelopes in /Users/allieus/anaconda3/lib/python3.7/site-packages (0.4)\r\n"
     ]
    }
   ],
   "source": [
    "!pip install envelopes"
   ]
  },
  {
   "cell_type": "markdown",
   "metadata": {},
   "source": [
    "네이버 실검"
   ]
  },
  {
   "cell_type": "code",
   "execution_count": 56,
   "metadata": {},
   "outputs": [],
   "source": [
    "import requests\n",
    "from bs4 import BeautifulSoup\n",
    "\n",
    "def 네이버_실검():\n",
    "    res = requests.get(\"http://naver.com\")\n",
    "    html = res.text\n",
    "    soup = BeautifulSoup(html, 'html.parser')\n",
    "    tag_list = soup.select('.PM_CL_realtimeKeyword_rolling .ah_k')\n",
    "\n",
    "    keyword_list = []\n",
    "    for rank, tag in enumerate(tag_list, 1): # 항상 하위 block 전에 콤마(:)를 씁니다.\n",
    "        keyword = tag.text\n",
    "        keyword_list.append(keyword)\n",
    "    \n",
    "    return keyword_list"
   ]
  },
  {
   "cell_type": "code",
   "execution_count": 60,
   "metadata": {},
   "outputs": [],
   "source": [
    "text_body = \"\\n\".join(네이버_실검())"
   ]
  },
  {
   "cell_type": "code",
   "execution_count": 61,
   "metadata": {},
   "outputs": [
    {
     "data": {
      "text/plain": [
       "(<envelopes.conn.SMTP at 0x10ce2d4a8>, {})"
      ]
     },
     "execution_count": 61,
     "metadata": {},
     "output_type": "execute_result"
    }
   ],
   "source": [
    "from envelopes import Envelope, GMailSMTP\n",
    "\n",
    "envelope = Envelope(\n",
    "    from_addr=('allieuslee@naver.com', 'Chinseok Lee'),  # FIXME: 보내는 사람\n",
    "    to_addr=('me@askcompany.kr', 'Chinseok Lee'),        # FIXME: 받는 사람\n",
    "    subject='네이버 실검 현황',\n",
    "    text_body=text_body\n",
    ")\n",
    "# envelope.add_attachment('/Users/bilbo/Pictures/helicopter.jpg')\n",
    "\n",
    "# Send the envelope using an ad-hoc connection...\n",
    "envelope.send(smtp_server, login=smtp_user,\n",
    "              password=smtp_password, tls=True)"
   ]
  },
  {
   "cell_type": "code",
   "execution_count": null,
   "metadata": {},
   "outputs": [],
   "source": []
  },
  {
   "cell_type": "code",
   "execution_count": 62,
   "metadata": {},
   "outputs": [],
   "source": [
    "TELEGRAM_TOKEN = '880339082:AAEa3xDy1tX5mWGja91s1BqO2Ydr6RQlX9Q'"
   ]
  },
  {
   "cell_type": "markdown",
   "metadata": {},
   "source": [
    "## 크롤링"
   ]
  },
  {
   "cell_type": "markdown",
   "metadata": {},
   "source": [
    "### 네이버 실검"
   ]
  },
  {
   "cell_type": "code",
   "execution_count": 63,
   "metadata": {},
   "outputs": [],
   "source": [
    "import requests\n",
    "from bs4 import BeautifulSoup  # HTML Parser"
   ]
  },
  {
   "cell_type": "code",
   "execution_count": 65,
   "metadata": {},
   "outputs": [
    {
     "data": {
      "text/plain": [
       "<Response [200]>"
      ]
     },
     "execution_count": 65,
     "metadata": {},
     "output_type": "execute_result"
    }
   ],
   "source": [
    "res = requests.get(\"https://www.naver.com\")\n",
    "res"
   ]
  },
  {
   "cell_type": "code",
   "execution_count": 67,
   "metadata": {},
   "outputs": [],
   "source": [
    "html = res.text  # 응답 문자열"
   ]
  },
  {
   "cell_type": "code",
   "execution_count": 68,
   "metadata": {},
   "outputs": [
    {
     "data": {
      "text/plain": [
       "166444"
      ]
     },
     "execution_count": 68,
     "metadata": {},
     "output_type": "execute_result"
    }
   ],
   "source": [
    "len(html)"
   ]
  },
  {
   "cell_type": "code",
   "execution_count": 69,
   "metadata": {},
   "outputs": [
    {
     "data": {
      "text/plain": [
       "True"
      ]
     },
     "execution_count": 69,
     "metadata": {},
     "output_type": "execute_result"
    }
   ],
   "source": [
    "'포항지진' in html"
   ]
  },
  {
   "cell_type": "code",
   "execution_count": 71,
   "metadata": {},
   "outputs": [],
   "source": [
    "soup = BeautifulSoup(html, 'html.parser')"
   ]
  },
  {
   "cell_type": "code",
   "execution_count": 73,
   "metadata": {},
   "outputs": [
    {
     "data": {
      "text/plain": [
       "40"
      ]
     },
     "execution_count": 73,
     "metadata": {},
     "output_type": "execute_result"
    }
   ],
   "source": [
    "# HTML 상에서의 Rule -> CSS Selector\n",
    "tag_list = soup.select('.ah_k')\n",
    "len(tag_list)"
   ]
  },
  {
   "cell_type": "code",
   "execution_count": 75,
   "metadata": {},
   "outputs": [
    {
     "data": {
      "text/plain": [
       "bs4.element.Tag"
      ]
     },
     "execution_count": 75,
     "metadata": {},
     "output_type": "execute_result"
    }
   ],
   "source": [
    "type(tag_list[0])"
   ]
  },
  {
   "cell_type": "code",
   "execution_count": 76,
   "metadata": {},
   "outputs": [
    {
     "data": {
      "text/plain": [
       "<span class=\"ah_k\">박정아</span>"
      ]
     },
     "execution_count": 76,
     "metadata": {},
     "output_type": "execute_result"
    }
   ],
   "source": [
    "tag_list[0]"
   ]
  },
  {
   "cell_type": "code",
   "execution_count": 77,
   "metadata": {},
   "outputs": [
    {
     "data": {
      "text/plain": [
       "'박정아'"
      ]
     },
     "execution_count": 77,
     "metadata": {},
     "output_type": "execute_result"
    }
   ],
   "source": [
    "tag_list[0].text"
   ]
  },
  {
   "cell_type": "code",
   "execution_count": 78,
   "metadata": {},
   "outputs": [
    {
     "data": {
      "text/plain": [
       "['박정아',\n",
       " '포항지진',\n",
       " '애나',\n",
       " '민방위훈련',\n",
       " '주피터 어센딩',\n",
       " '2019 나훈아 콘서트',\n",
       " '외식하는날 소갈비',\n",
       " '아디다스 깔깔이',\n",
       " '리스본행 야간열차',\n",
       " '눈이 부시게 줄거리',\n",
       " '이상화 강남',\n",
       " '스피드스케이팅 이상화',\n",
       " '라페라리',\n",
       " '버닝썬 애나',\n",
       " '엘비세미콘',\n",
       " '부라더',\n",
       " '현대바이오',\n",
       " '강남',\n",
       " '지열 발전소',\n",
       " '지진',\n",
       " '박정아',\n",
       " '포항지진',\n",
       " '애나',\n",
       " '민방위훈련',\n",
       " '주피터 어센딩',\n",
       " '2019 나훈아 콘서트',\n",
       " '외식하는날 소갈비',\n",
       " '아디다스 깔깔이',\n",
       " '리스본행 야간열차',\n",
       " '눈이 부시게 줄거리',\n",
       " '이상화 강남',\n",
       " '스피드스케이팅 이상화',\n",
       " '라페라리',\n",
       " '버닝썬 애나',\n",
       " '엘비세미콘',\n",
       " '부라더',\n",
       " '현대바이오',\n",
       " '강남',\n",
       " '지열 발전소',\n",
       " '지진']"
      ]
     },
     "execution_count": 78,
     "metadata": {},
     "output_type": "execute_result"
    }
   ],
   "source": [
    "[tag.text for tag in tag_list]"
   ]
  },
  {
   "cell_type": "markdown",
   "metadata": {},
   "source": [
    "코드 정리"
   ]
  },
  {
   "cell_type": "code",
   "execution_count": 81,
   "metadata": {},
   "outputs": [
    {
     "data": {
      "text/plain": [
       "['박정아',\n",
       " '민방위훈련',\n",
       " '포항지진',\n",
       " '애나',\n",
       " '2019 나훈아 콘서트',\n",
       " '주피터 어센딩',\n",
       " '아디다스 깔깔이',\n",
       " '엘비세미콘',\n",
       " '외식하는날 소갈비',\n",
       " '스피드스케이팅 이상화',\n",
       " '이상화 강남',\n",
       " '라페라리',\n",
       " '버닝썬 애나',\n",
       " '부라더',\n",
       " '현대바이오',\n",
       " '리스본행 야간열차',\n",
       " '눈이 부시게 줄거리',\n",
       " '강남',\n",
       " '고퇴경',\n",
       " '지열 발전소']"
      ]
     },
     "execution_count": 81,
     "metadata": {},
     "output_type": "execute_result"
    }
   ],
   "source": [
    "import requests\n",
    "from bs4 import BeautifulSoup  # HTML Parser\n",
    "\n",
    "res = requests.get(\"https://www.naver.com\")  # 웹페이지 방문(요청)해서 응답을 획득\n",
    "html = res.text                  # 응답 문자열을 html 변수에 저장\n",
    "soup = BeautifulSoup(html, 'html.parser')  # BeautifulSoup4를 통해서 원하는 Tag를 찾아보자.\n",
    "tag_list = soup.select('.PM_CL_realtimeKeyword_rolling .ah_k')  # class에 ah_k가 포함된 모든 태그를 찾아서, 리스트화\n",
    "[tag.text for tag in tag_list]   # tag_list에서 tag별 .text 속성으로 리스트를 만들어보자."
   ]
  },
  {
   "cell_type": "markdown",
   "metadata": {},
   "source": [
    "Daum 실검"
   ]
  },
  {
   "cell_type": "code",
   "execution_count": 125,
   "metadata": {},
   "outputs": [],
   "source": [
    "res = requests.get(\"https://www.daum.net/\")\n",
    "html = res.text\n",
    "soup = BeautifulSoup(html, 'html.parser')"
   ]
  },
  {
   "cell_type": "code",
   "execution_count": 126,
   "metadata": {},
   "outputs": [],
   "source": [
    "for tag in soup.select('[aria-hidden]'):  # 속성으로 aria-hidden이 있다면?\n",
    "    tag.extract()  # 해당 태그를 제거"
   ]
  },
  {
   "cell_type": "code",
   "execution_count": 127,
   "metadata": {},
   "outputs": [
    {
     "data": {
      "text/plain": [
       "10"
      ]
     },
     "execution_count": 127,
     "metadata": {},
     "output_type": "execute_result"
    }
   ],
   "source": [
    "# tag_list = soup.select('.hotissue_mini .link_issue')  # 풀이#1\n",
    "tag_list = soup.select('.realtime_part .link_issue')\n",
    "len(tag_list)"
   ]
  },
  {
   "cell_type": "code",
   "execution_count": 128,
   "metadata": {},
   "outputs": [
    {
     "name": "stdout",
     "output_type": "stream",
     "text": [
      "민방위 훈련\n",
      "홍문종\n",
      "안현모\n",
      "애나\n",
      "김혜자\n",
      "이상화\n",
      "포항 지진\n",
      "박예진\n",
      "강남\n",
      "차바이오텍\n"
     ]
    }
   ],
   "source": [
    "for tag in tag_list:\n",
    "    print(tag.text)"
   ]
  },
  {
   "cell_type": "code",
   "execution_count": null,
   "metadata": {},
   "outputs": [],
   "source": []
  },
  {
   "cell_type": "code",
   "execution_count": 121,
   "metadata": {},
   "outputs": [
    {
     "name": "stdout",
     "output_type": "stream",
     "text": [
      "민방위 훈련\n",
      "포항 지진\n",
      "김혜자\n",
      "안현모\n",
      "차바이오텍\n",
      "이상화\n",
      "애나\n",
      "강남\n",
      "박예진\n",
      "박정아\n"
     ]
    }
   ],
   "source": [
    "# 꾸역꾸역 ~~~ : 풀이#2\n",
    "keyword_list = []\n",
    "for tag in tag_list[:20]:\n",
    "    keyword_list.append(tag.text)\n",
    "\n",
    "for i in range(0, len(keyword_list), 2):\n",
    "    print(keyword_list[i])"
   ]
  },
  {
   "cell_type": "code",
   "execution_count": null,
   "metadata": {},
   "outputs": [],
   "source": []
  },
  {
   "cell_type": "markdown",
   "metadata": {},
   "source": [
    "## 문자열 인코딩과 디코딩"
   ]
  },
  {
   "cell_type": "code",
   "execution_count": 131,
   "metadata": {},
   "outputs": [
    {
     "data": {
      "text/plain": [
       "4"
      ]
     },
     "execution_count": 131,
     "metadata": {},
     "output_type": "execute_result"
    }
   ],
   "source": [
    "len(\"가나다라\")"
   ]
  },
  {
   "cell_type": "code",
   "execution_count": 133,
   "metadata": {},
   "outputs": [
    {
     "data": {
      "text/plain": [
       "'가나'"
      ]
     },
     "execution_count": 133,
     "metadata": {},
     "output_type": "execute_result"
    }
   ],
   "source": [
    "\"가나다라\"[:2]"
   ]
  },
  {
   "cell_type": "code",
   "execution_count": 135,
   "metadata": {},
   "outputs": [
    {
     "data": {
      "text/plain": [
       "'AC00'"
      ]
     },
     "execution_count": 135,
     "metadata": {},
     "output_type": "execute_result"
    }
   ],
   "source": [
    "\"%X\" % ord(\"가\")  # 16진수로 유니코드 코드값 확인"
   ]
  },
  {
   "cell_type": "code",
   "execution_count": 140,
   "metadata": {},
   "outputs": [
    {
     "data": {
      "text/plain": [
       "b'\\xea\\xb0\\x80\\xeb\\x82\\x98\\xeb\\x8b\\xa4'"
      ]
     },
     "execution_count": 140,
     "metadata": {},
     "output_type": "execute_result"
    }
   ],
   "source": [
    "\"가나다\".encode(\"utf8\")"
   ]
  },
  {
   "cell_type": "code",
   "execution_count": 141,
   "metadata": {},
   "outputs": [
    {
     "data": {
      "text/plain": [
       "b'\\xb0\\xa1\\xb3\\xaa\\xb4\\xd9'"
      ]
     },
     "execution_count": 141,
     "metadata": {},
     "output_type": "execute_result"
    }
   ],
   "source": [
    "\"가나다\".encode(\"cp949\")"
   ]
  },
  {
   "cell_type": "code",
   "execution_count": null,
   "metadata": {},
   "outputs": [],
   "source": []
  },
  {
   "cell_type": "code",
   "execution_count": 142,
   "metadata": {},
   "outputs": [],
   "source": [
    "with open(\"sample1.txt\", \"wb\") as f:\n",
    "    data = \"가나다\".encode(\"utf8\")\n",
    "    f.write(data)"
   ]
  },
  {
   "cell_type": "code",
   "execution_count": 151,
   "metadata": {},
   "outputs": [
    {
     "name": "stdout",
     "output_type": "stream",
     "text": [
      "b'\\xea\\xb0\\x80\\xeb\\x82\\x98\\xeb\\x8b\\xa4'\n",
      "나다\n"
     ]
    }
   ],
   "source": [
    "with open(\"sample1.txt\", \"rb\") as f:\n",
    "    data = f.read()\n",
    "    print(data)\n",
    "    s = data.decode('utf8')  # to unicode\n",
    "    print(s[1:])"
   ]
  },
  {
   "cell_type": "code",
   "execution_count": 146,
   "metadata": {},
   "outputs": [
    {
     "data": {
      "text/plain": [
       "'나다'"
      ]
     },
     "execution_count": 146,
     "metadata": {},
     "output_type": "execute_result"
    }
   ],
   "source": [
    "\"가나다\"[1:]"
   ]
  },
  {
   "cell_type": "code",
   "execution_count": null,
   "metadata": {},
   "outputs": [],
   "source": []
  },
  {
   "cell_type": "code",
   "execution_count": 152,
   "metadata": {},
   "outputs": [
    {
     "data": {
      "text/plain": [
       "<Response [200]>"
      ]
     },
     "execution_count": 152,
     "metadata": {},
     "output_type": "execute_result"
    }
   ],
   "source": [
    "res = requests.get(\"https://www.naver.com\")\n",
    "res"
   ]
  },
  {
   "cell_type": "code",
   "execution_count": 157,
   "metadata": {},
   "outputs": [
    {
     "data": {
      "text/plain": [
       "{'Server': 'NWS', 'Date': 'Wed, 20 Mar 2019 06:03:10 GMT', 'Content-Type': 'text/html; charset=UTF-8', 'Transfer-Encoding': 'chunked', 'Connection': 'keep-alive', 'Cache-Control': 'no-cache, no-store, must-revalidate', 'Pragma': 'no-cache', 'P3P': 'CP=\"CAO DSP CURa ADMa TAIa PSAa OUR LAW STP PHY ONL UNI PUR FIN COM NAV INT DEM STA PRE\"', 'X-Frame-Options': 'DENY', 'X-XSS-Protection': '1; mode=block', 'Content-Encoding': 'gzip', 'Strict-Transport-Security': 'max-age=63072000; includeSubdomains', 'Referrer-Policy': 'unsafe-url'}"
      ]
     },
     "execution_count": 157,
     "metadata": {},
     "output_type": "execute_result"
    }
   ],
   "source": [
    "res.headers"
   ]
  },
  {
   "cell_type": "code",
   "execution_count": 159,
   "metadata": {},
   "outputs": [],
   "source": [
    "# res.content.decode(\"utf8\")\n",
    "# res.text"
   ]
  },
  {
   "cell_type": "code",
   "execution_count": null,
   "metadata": {},
   "outputs": [],
   "source": []
  },
  {
   "cell_type": "code",
   "execution_count": 186,
   "metadata": {},
   "outputs": [],
   "source": [
    "with open(\"sample2.txt\", \"wb\") as f:\n",
    "    f.write(\"가나다\".encode(\"utf8\"))\n",
    "    f.write(\"라마바\".encode(\"utf8\"))\n",
    "    f.write(\"사아자\".encode(\"utf8\"))\n",
    "    f.write(\"차카타\".encode(\"utf8\"))"
   ]
  },
  {
   "cell_type": "code",
   "execution_count": 187,
   "metadata": {},
   "outputs": [],
   "source": [
    "with open(\"sample2.txt\", \"wt\", encoding=\"utf8\") as f:\n",
    "    f.write(\"가나다\")\n",
    "    f.write(\"라마바\")\n",
    "    f.write(\"사아자\")\n",
    "    f.write(\"차카타\")"
   ]
  },
  {
   "cell_type": "code",
   "execution_count": 188,
   "metadata": {},
   "outputs": [
    {
     "name": "stdout",
     "output_type": "stream",
     "text": [
      "가나다라마바사아자차카타\n"
     ]
    }
   ],
   "source": [
    "with open(\"sample2.txt\", \"rb\") as f:\n",
    "    s = f.read().decode(\"utf8\")  # 한 방에 다 읽어옵니다.\n",
    "    print(s)"
   ]
  },
  {
   "cell_type": "code",
   "execution_count": 189,
   "metadata": {},
   "outputs": [
    {
     "name": "stdout",
     "output_type": "stream",
     "text": [
      "가나다라마바사아자차카타\n"
     ]
    }
   ],
   "source": [
    "with open(\"sample2.txt\", \"rt\", encoding=\"utf8\") as f:\n",
    "    s = f.read()  # 한 방에 다 읽어옵니다.\n",
    "    print(s)"
   ]
  },
  {
   "cell_type": "markdown",
   "metadata": {},
   "source": [
    "샘플 데이터 생성"
   ]
  },
  {
   "cell_type": "code",
   "execution_count": 194,
   "metadata": {},
   "outputs": [],
   "source": [
    "with open(\"네이버_실검.txt\", \"wt\", encoding=\"utf8\") as f:\n",
    "    keyword_list = 네이버_실검()\n",
    "    for keyword in keyword_list:\n",
    "        f.write(keyword + \"\\n\")"
   ]
  },
  {
   "cell_type": "code",
   "execution_count": 201,
   "metadata": {},
   "outputs": [
    {
     "name": "stdout",
     "output_type": "stream",
     "text": [
      "1 에뛰드 옴니클럽데이\n",
      "2 박정아\n",
      "3 잃어버린 도시 z\n",
      "4 포항지진\n",
      "5 셀루메드\n",
      "6 민방위훈련\n",
      "7 애나\n",
      "8 론\n",
      "9 이사강\n",
      "10 아디다스 깔깔이\n",
      "11 엘비세미콘\n",
      "12 권혁수\n",
      "13 베베멜리사\n",
      "14 리니지 리마스터\n",
      "15 개복치\n",
      "16 문형배\n",
      "17 2019 나훈아 콘서트\n",
      "18 이미선\n",
      "19 현대바이오\n",
      "20 차바이오텍\n"
     ]
    }
   ],
   "source": [
    "with open(\"네이버_실검.txt\", \"rt\", encoding=\"utf8\") as f:\n",
    "#     s = f.read()\n",
    "#     for idx, line in enumerate(s.splitlines(), 1):\n",
    "#         print(idx, line)\n",
    "\n",
    "    for idx, line in enumerate(f, 1):\n",
    "        # line.strip()  # 좌/우 화이트스페이스 제거\n",
    "        line = line.rstrip()  # 오른쪽 화이트스페이스 제거\n",
    "        print(idx, line)"
   ]
  },
  {
   "cell_type": "code",
   "execution_count": null,
   "metadata": {},
   "outputs": [],
   "source": []
  }
 ],
 "metadata": {
  "kernelspec": {
   "display_name": "Python 3",
   "language": "python",
   "name": "python3"
  },
  "language_info": {
   "codemirror_mode": {
    "name": "ipython",
    "version": 3
   },
   "file_extension": ".py",
   "mimetype": "text/x-python",
   "name": "python",
   "nbconvert_exporter": "python",
   "pygments_lexer": "ipython3",
   "version": "3.7.0"
  }
 },
 "nbformat": 4,
 "nbformat_minor": 2
}
