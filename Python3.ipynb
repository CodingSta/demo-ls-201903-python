{
 "cells": [
  {
   "cell_type": "markdown",
   "metadata": {},
   "source": [
    "# 빌트인 함수"
   ]
  },
  {
   "cell_type": "code",
   "execution_count": 1,
   "metadata": {},
   "outputs": [],
   "source": [
    "import csv\n",
    "\n",
    "with open(\"melon_chart.csv\", \"rt\", encoding=\"utf8\") as f:\n",
    "    reader = csv.DictReader(f)\n",
    "    멜론_TOP100_리스트 = list(reader)"
   ]
  },
  {
   "cell_type": "markdown",
   "metadata": {},
   "source": [
    "### filter"
   ]
  },
  {
   "cell_type": "code",
   "execution_count": 3,
   "metadata": {
    "collapsed": true
   },
   "outputs": [
    {
     "name": "stdout",
     "output_type": "stream",
     "text": [
      "IDOL 방탄소년단 173279\n",
      "I`m Fine 방탄소년단 132847\n",
      "FAKE LOVE 방탄소년단 253847\n",
      "Euphoria 방탄소년단 129017\n",
      "Answer : Love Myself 방탄소년단 108151\n",
      "전하지 못한 진심 (Feat. Steve Aoki) 방탄소년단 176653\n",
      "Epiphany 방탄소년단 101011\n",
      "Trivia 轉 : Seesaw 방탄소년단 98436\n",
      "Trivia 起 : Just Dance 방탄소년단 88970\n",
      "Trivia 承 : Love 방탄소년단 83610\n",
      "Anpanman 방탄소년단 138694\n",
      "봄날 방탄소년단 359130\n",
      "DNA 방탄소년단 323911\n",
      "Airplane pt.2 방탄소년단 127355\n"
     ]
    }
   ],
   "source": [
    "for 곡 in 멜론_TOP100_리스트:\n",
    "    if 곡['가수'] == '방탄소년단':\n",
    "        print(곡['곡명'], 곡['가수'], 곡['좋아요'])"
   ]
  },
  {
   "cell_type": "code",
   "execution_count": 19,
   "metadata": {},
   "outputs": [
    {
     "name": "stdout",
     "output_type": "stream",
     "text": [
      "5 [LOVE YOURSELF 結 `Answer`] IDOL 방탄소년단 (173279)\n",
      "8 [LOVE YOURSELF 結 `Answer`] I`m Fine 방탄소년단 (132847)\n",
      "10 [LOVE YOURSELF 轉 `Tear`] FAKE LOVE 방탄소년단 (253847)\n",
      "12 [LOVE YOURSELF 結 `Answer`] Euphoria 방탄소년단 (129017)\n",
      "14 [LOVE YOURSELF 結 `Answer`] Answer : Love Myself 방탄소년단 (108151)\n",
      "15 [LOVE YOURSELF 轉 `Tear`] 전하지 못한 진심 (Feat. Steve Aoki) 방탄소년단 (176653)\n",
      "16 [LOVE YOURSELF 結 `Answer`] Epiphany 방탄소년단 (101011)\n",
      "17 [LOVE YOURSELF 結 `Answer`] Trivia 轉 : Seesaw 방탄소년단 (98436)\n",
      "20 [LOVE YOURSELF 結 `Answer`] Trivia 起 : Just Dance 방탄소년단 (88970)\n",
      "22 [LOVE YOURSELF 結 `Answer`] Trivia 承 : Love 방탄소년단 (83610)\n",
      "25 [LOVE YOURSELF 轉 `Tear`] Anpanman 방탄소년단 (138694)\n",
      "26 [YOU NEVER WALK ALONE] 봄날 방탄소년단 (359130)\n",
      "27 [LOVE YOURSELF 承 `Her`] DNA 방탄소년단 (323911)\n",
      "28 [LOVE YOURSELF 轉 `Tear`] Airplane pt.2 방탄소년단 (127355)\n"
     ]
    }
   ],
   "source": [
    "def filter_fn(곡):\n",
    "    return 곡['가수'] == '방탄소년단'\n",
    "    \n",
    "for 곡 in filter(filter_fn, 멜론_TOP100_리스트):\n",
    "    print('{순위} [{앨범}] {곡명} {가수} ({좋아요})'.format(**곡))  # unpack 문법\n",
    "#     print('[{}] {} {} ({})'.format(곡['앨범'], 곡['곡명'], 곡['가수'], 곡['좋아요']))\n",
    "#     print('[{앨범}] {곡명} {가수} ({좋아요})'.format(앨범=곡['앨범'], 곡명=곡['곡명'], 가수=곡['가수'], 좋아요=곡['좋아요']))\n"
   ]
  },
  {
   "cell_type": "code",
   "execution_count": 7,
   "metadata": {},
   "outputs": [
    {
     "data": {
      "text/plain": [
       "OrderedDict([('곡일련번호', '31346009'),\n",
       "             ('순위', '1'),\n",
       "             ('앨범', '삐삐'),\n",
       "             ('곡명', '삐삐'),\n",
       "             ('가수', '아이유'),\n",
       "             ('커버이미지_주소',\n",
       "              'https://cdnimg.melon.co.kr/cm/album/images/102/10/535/10210535_500.jpg/melon/resize/120/quality/80/optimize'),\n",
       "             ('좋아요', '61528')])"
      ]
     },
     "execution_count": 7,
     "metadata": {},
     "output_type": "execute_result"
    }
   ],
   "source": [
    "멜론_TOP100_리스트[0]"
   ]
  },
  {
   "cell_type": "code",
   "execution_count": null,
   "metadata": {},
   "outputs": [],
   "source": []
  },
  {
   "cell_type": "code",
   "execution_count": null,
   "metadata": {},
   "outputs": [],
   "source": []
  },
  {
   "cell_type": "code",
   "execution_count": null,
   "metadata": {},
   "outputs": [],
   "source": []
  },
  {
   "cell_type": "code",
   "execution_count": null,
   "metadata": {},
   "outputs": [],
   "source": []
  },
  {
   "cell_type": "code",
   "execution_count": null,
   "metadata": {},
   "outputs": [],
   "source": []
  },
  {
   "cell_type": "code",
   "execution_count": null,
   "metadata": {},
   "outputs": [],
   "source": []
  },
  {
   "cell_type": "code",
   "execution_count": null,
   "metadata": {},
   "outputs": [],
   "source": []
  },
  {
   "cell_type": "code",
   "execution_count": null,
   "metadata": {},
   "outputs": [],
   "source": []
  }
 ],
 "metadata": {
  "kernelspec": {
   "display_name": "Python 3",
   "language": "python",
   "name": "python3"
  },
  "language_info": {
   "codemirror_mode": {
    "name": "ipython",
    "version": 3
   },
   "file_extension": ".py",
   "mimetype": "text/x-python",
   "name": "python",
   "nbconvert_exporter": "python",
   "pygments_lexer": "ipython3",
   "version": "3.7.0"
  }
 },
 "nbformat": 4,
 "nbformat_minor": 2
}
