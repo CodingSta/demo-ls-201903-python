{
 "cells": [
  {
   "cell_type": "markdown",
   "metadata": {},
   "source": [
    "# 빌트인 함수"
   ]
  },
  {
   "cell_type": "code",
   "execution_count": 1,
   "metadata": {},
   "outputs": [],
   "source": [
    "import csv\n",
    "\n",
    "with open(\"melon_chart.csv\", \"rt\", encoding=\"utf8\") as f:\n",
    "    reader = csv.DictReader(f)\n",
    "    멜론_TOP100_리스트 = list(reader)"
   ]
  },
  {
   "cell_type": "markdown",
   "metadata": {},
   "source": [
    "### filter"
   ]
  },
  {
   "cell_type": "code",
   "execution_count": 3,
   "metadata": {
    "collapsed": true
   },
   "outputs": [
    {
     "name": "stdout",
     "output_type": "stream",
     "text": [
      "IDOL 방탄소년단 173279\n",
      "I`m Fine 방탄소년단 132847\n",
      "FAKE LOVE 방탄소년단 253847\n",
      "Euphoria 방탄소년단 129017\n",
      "Answer : Love Myself 방탄소년단 108151\n",
      "전하지 못한 진심 (Feat. Steve Aoki) 방탄소년단 176653\n",
      "Epiphany 방탄소년단 101011\n",
      "Trivia 轉 : Seesaw 방탄소년단 98436\n",
      "Trivia 起 : Just Dance 방탄소년단 88970\n",
      "Trivia 承 : Love 방탄소년단 83610\n",
      "Anpanman 방탄소년단 138694\n",
      "봄날 방탄소년단 359130\n",
      "DNA 방탄소년단 323911\n",
      "Airplane pt.2 방탄소년단 127355\n"
     ]
    }
   ],
   "source": [
    "for 곡 in 멜론_TOP100_리스트:\n",
    "    if 곡['가수'] == '방탄소년단':\n",
    "        print(곡['곡명'], 곡['가수'], 곡['좋아요'])"
   ]
  },
  {
   "cell_type": "code",
   "execution_count": 19,
   "metadata": {
    "collapsed": true
   },
   "outputs": [
    {
     "name": "stdout",
     "output_type": "stream",
     "text": [
      "5 [LOVE YOURSELF 結 `Answer`] IDOL 방탄소년단 (173279)\n",
      "8 [LOVE YOURSELF 結 `Answer`] I`m Fine 방탄소년단 (132847)\n",
      "10 [LOVE YOURSELF 轉 `Tear`] FAKE LOVE 방탄소년단 (253847)\n",
      "12 [LOVE YOURSELF 結 `Answer`] Euphoria 방탄소년단 (129017)\n",
      "14 [LOVE YOURSELF 結 `Answer`] Answer : Love Myself 방탄소년단 (108151)\n",
      "15 [LOVE YOURSELF 轉 `Tear`] 전하지 못한 진심 (Feat. Steve Aoki) 방탄소년단 (176653)\n",
      "16 [LOVE YOURSELF 結 `Answer`] Epiphany 방탄소년단 (101011)\n",
      "17 [LOVE YOURSELF 結 `Answer`] Trivia 轉 : Seesaw 방탄소년단 (98436)\n",
      "20 [LOVE YOURSELF 結 `Answer`] Trivia 起 : Just Dance 방탄소년단 (88970)\n",
      "22 [LOVE YOURSELF 結 `Answer`] Trivia 承 : Love 방탄소년단 (83610)\n",
      "25 [LOVE YOURSELF 轉 `Tear`] Anpanman 방탄소년단 (138694)\n",
      "26 [YOU NEVER WALK ALONE] 봄날 방탄소년단 (359130)\n",
      "27 [LOVE YOURSELF 承 `Her`] DNA 방탄소년단 (323911)\n",
      "28 [LOVE YOURSELF 轉 `Tear`] Airplane pt.2 방탄소년단 (127355)\n"
     ]
    }
   ],
   "source": [
    "def filter_fn(곡):\n",
    "    return 곡['가수'] == '방탄소년단'\n",
    "    \n",
    "for 곡 in filter(filter_fn, 멜론_TOP100_리스트):\n",
    "    print('{순위} [{앨범}] {곡명} {가수} ({좋아요})'.format(**곡))  # unpack 문법\n",
    "#     print('[{}] {} {} ({})'.format(곡['앨범'], 곡['곡명'], 곡['가수'], 곡['좋아요']))\n",
    "#     print('[{앨범}] {곡명} {가수} ({좋아요})'.format(앨범=곡['앨범'], 곡명=곡['곡명'], 가수=곡['가수'], 좋아요=곡['좋아요']))\n"
   ]
  },
  {
   "cell_type": "markdown",
   "metadata": {},
   "source": [
    "## map"
   ]
  },
  {
   "cell_type": "code",
   "execution_count": 20,
   "metadata": {},
   "outputs": [],
   "source": [
    "mylist = [1, 2, 3, 4, 5]"
   ]
  },
  {
   "cell_type": "code",
   "execution_count": 21,
   "metadata": {},
   "outputs": [
    {
     "data": {
      "text/plain": [
       "[1, 4, 9, 16, 25]"
      ]
     },
     "execution_count": 21,
     "metadata": {},
     "output_type": "execute_result"
    }
   ],
   "source": [
    "powered_list = []\n",
    "for i in mylist:\n",
    "    powered_list.append(i ** 2)\n",
    "powered_list"
   ]
  },
  {
   "cell_type": "code",
   "execution_count": 22,
   "metadata": {},
   "outputs": [
    {
     "data": {
      "text/plain": [
       "[1, 4, 9, 16, 25]"
      ]
     },
     "execution_count": 22,
     "metadata": {},
     "output_type": "execute_result"
    }
   ],
   "source": [
    "[i**2 for i in mylist]"
   ]
  },
  {
   "cell_type": "code",
   "execution_count": 24,
   "metadata": {},
   "outputs": [
    {
     "data": {
      "text/plain": [
       "[1, 4, 9, 16, 25]"
      ]
     },
     "execution_count": 24,
     "metadata": {},
     "output_type": "execute_result"
    }
   ],
   "source": [
    "def map_fn(value):\n",
    "    return value ** 2\n",
    "\n",
    "list(map(map_fn, mylist))  # Generator"
   ]
  },
  {
   "cell_type": "markdown",
   "metadata": {},
   "source": [
    "## min/max"
   ]
  },
  {
   "cell_type": "code",
   "execution_count": 25,
   "metadata": {},
   "outputs": [
    {
     "data": {
      "text/plain": [
       "39"
      ]
     },
     "execution_count": 25,
     "metadata": {},
     "output_type": "execute_result"
    }
   ],
   "source": [
    "import random\n",
    "\n",
    "random.randint(1, 100)"
   ]
  },
  {
   "cell_type": "code",
   "execution_count": 26,
   "metadata": {},
   "outputs": [
    {
     "data": {
      "text/plain": [
       "[91, 77, 51, 1, 12, 95]"
      ]
     },
     "execution_count": 26,
     "metadata": {},
     "output_type": "execute_result"
    }
   ],
   "source": [
    "random.sample(range(1, 101), 6)"
   ]
  },
  {
   "cell_type": "code",
   "execution_count": 31,
   "metadata": {},
   "outputs": [
    {
     "data": {
      "text/plain": [
       "[56, 49, 69, 8, 21, 89]"
      ]
     },
     "execution_count": 31,
     "metadata": {},
     "output_type": "execute_result"
    }
   ],
   "source": [
    "number_list = random.sample(range(1, 101), 6)\n",
    "number_list"
   ]
  },
  {
   "cell_type": "code",
   "execution_count": 33,
   "metadata": {},
   "outputs": [
    {
     "data": {
      "text/plain": [
       "8"
      ]
     },
     "execution_count": 33,
     "metadata": {},
     "output_type": "execute_result"
    }
   ],
   "source": [
    "min(number_list)"
   ]
  },
  {
   "cell_type": "code",
   "execution_count": 40,
   "metadata": {},
   "outputs": [
    {
     "data": {
      "text/plain": [
       "OrderedDict([('곡일련번호', '30962526'),\n",
       "             ('순위', '18'),\n",
       "             ('앨범', '`키스 먼저 할까요?` OST Part.3'),\n",
       "             ('곡명', '모든 날, 모든 순간 (Every day, Every Moment)'),\n",
       "             ('가수', '폴킴'),\n",
       "             ('커버이미지_주소',\n",
       "              'https://cdnimg.melon.co.kr/cm/album/images/101/49/492/10149492_500.jpg/melon/resize/120/quality/80/optimize'),\n",
       "             ('좋아요', '185706')])"
      ]
     },
     "execution_count": 40,
     "metadata": {},
     "output_type": "execute_result"
    }
   ],
   "source": [
    "def max_fn(곡):\n",
    "    return len(곡['곡명'])\n",
    "#     return int(곡['좋아요'])\n",
    "\n",
    "max(멜론_TOP100_리스트, key=max_fn)"
   ]
  },
  {
   "cell_type": "markdown",
   "metadata": {},
   "source": [
    "## 이메일 보내기"
   ]
  },
  {
   "cell_type": "code",
   "execution_count": 52,
   "metadata": {},
   "outputs": [],
   "source": [
    "from getpass import getpass"
   ]
  },
  {
   "cell_type": "code",
   "execution_count": 53,
   "metadata": {},
   "outputs": [
    {
     "name": "stdout",
     "output_type": "stream",
     "text": [
      "Enter Password : ········\n"
     ]
    }
   ],
   "source": [
    "smtp_server = 'smtp.naver.com'\n",
    "smtp_user = 'allieuslee'  # FIXME: 여러분의 아이디\n",
    "smtp_password = getpass('Enter Password : ')"
   ]
  },
  {
   "cell_type": "code",
   "execution_count": 54,
   "metadata": {},
   "outputs": [
    {
     "name": "stdout",
     "output_type": "stream",
     "text": [
      "Requirement already satisfied: envelopes in /Users/allieus/anaconda3/lib/python3.7/site-packages (0.4)\r\n"
     ]
    }
   ],
   "source": [
    "!pip install envelopes"
   ]
  },
  {
   "cell_type": "markdown",
   "metadata": {},
   "source": [
    "네이버 실검"
   ]
  },
  {
   "cell_type": "code",
   "execution_count": 56,
   "metadata": {},
   "outputs": [],
   "source": [
    "import requests\n",
    "from bs4 import BeautifulSoup\n",
    "\n",
    "def 네이버_실검():\n",
    "    res = requests.get(\"http://naver.com\")\n",
    "    html = res.text\n",
    "    soup = BeautifulSoup(html, 'html.parser')\n",
    "    tag_list = soup.select('.PM_CL_realtimeKeyword_rolling .ah_k')\n",
    "\n",
    "    keyword_list = []\n",
    "    for rank, tag in enumerate(tag_list, 1): # 항상 하위 block 전에 콤마(:)를 씁니다.\n",
    "        keyword = tag.text\n",
    "        keyword_list.append(keyword)\n",
    "    \n",
    "    return keyword_list"
   ]
  },
  {
   "cell_type": "code",
   "execution_count": 60,
   "metadata": {},
   "outputs": [],
   "source": [
    "text_body = \"\\n\".join(네이버_실검())"
   ]
  },
  {
   "cell_type": "code",
   "execution_count": 61,
   "metadata": {},
   "outputs": [
    {
     "data": {
      "text/plain": [
       "(<envelopes.conn.SMTP at 0x10ce2d4a8>, {})"
      ]
     },
     "execution_count": 61,
     "metadata": {},
     "output_type": "execute_result"
    }
   ],
   "source": [
    "from envelopes import Envelope, GMailSMTP\n",
    "\n",
    "envelope = Envelope(\n",
    "    from_addr=('allieuslee@naver.com', 'Chinseok Lee'),  # FIXME: 보내는 사람\n",
    "    to_addr=('me@askcompany.kr', 'Chinseok Lee'),        # FIXME: 받는 사람\n",
    "    subject='네이버 실검 현황',\n",
    "    text_body=text_body\n",
    ")\n",
    "# envelope.add_attachment('/Users/bilbo/Pictures/helicopter.jpg')\n",
    "\n",
    "# Send the envelope using an ad-hoc connection...\n",
    "envelope.send(smtp_server, login=smtp_user,\n",
    "              password=smtp_password, tls=True)"
   ]
  },
  {
   "cell_type": "code",
   "execution_count": null,
   "metadata": {},
   "outputs": [],
   "source": []
  },
  {
   "cell_type": "code",
   "execution_count": 62,
   "metadata": {},
   "outputs": [],
   "source": [
    "TELEGRAM_TOKEN = '880339082:AAEa3xDy1tX5mWGja91s1BqO2Ydr6RQlX9Q'"
   ]
  },
  {
   "cell_type": "markdown",
   "metadata": {},
   "source": [
    "## 크롤링"
   ]
  },
  {
   "cell_type": "markdown",
   "metadata": {},
   "source": [
    "### 네이버 실검"
   ]
  },
  {
   "cell_type": "code",
   "execution_count": 63,
   "metadata": {},
   "outputs": [],
   "source": [
    "import requests\n",
    "from bs4 import BeautifulSoup  # HTML Parser"
   ]
  },
  {
   "cell_type": "code",
   "execution_count": 65,
   "metadata": {},
   "outputs": [
    {
     "data": {
      "text/plain": [
       "<Response [200]>"
      ]
     },
     "execution_count": 65,
     "metadata": {},
     "output_type": "execute_result"
    }
   ],
   "source": [
    "res = requests.get(\"https://www.naver.com\")\n",
    "res"
   ]
  },
  {
   "cell_type": "code",
   "execution_count": 67,
   "metadata": {},
   "outputs": [],
   "source": [
    "html = res.text  # 응답 문자열"
   ]
  },
  {
   "cell_type": "code",
   "execution_count": 68,
   "metadata": {},
   "outputs": [
    {
     "data": {
      "text/plain": [
       "166444"
      ]
     },
     "execution_count": 68,
     "metadata": {},
     "output_type": "execute_result"
    }
   ],
   "source": [
    "len(html)"
   ]
  },
  {
   "cell_type": "code",
   "execution_count": 69,
   "metadata": {},
   "outputs": [
    {
     "data": {
      "text/plain": [
       "True"
      ]
     },
     "execution_count": 69,
     "metadata": {},
     "output_type": "execute_result"
    }
   ],
   "source": [
    "'포항지진' in html"
   ]
  },
  {
   "cell_type": "code",
   "execution_count": 71,
   "metadata": {},
   "outputs": [],
   "source": [
    "soup = BeautifulSoup(html, 'html.parser')"
   ]
  },
  {
   "cell_type": "code",
   "execution_count": 73,
   "metadata": {},
   "outputs": [
    {
     "data": {
      "text/plain": [
       "40"
      ]
     },
     "execution_count": 73,
     "metadata": {},
     "output_type": "execute_result"
    }
   ],
   "source": [
    "# HTML 상에서의 Rule -> CSS Selector\n",
    "tag_list = soup.select('.ah_k')\n",
    "len(tag_list)"
   ]
  },
  {
   "cell_type": "code",
   "execution_count": 75,
   "metadata": {},
   "outputs": [
    {
     "data": {
      "text/plain": [
       "bs4.element.Tag"
      ]
     },
     "execution_count": 75,
     "metadata": {},
     "output_type": "execute_result"
    }
   ],
   "source": [
    "type(tag_list[0])"
   ]
  },
  {
   "cell_type": "code",
   "execution_count": 76,
   "metadata": {},
   "outputs": [
    {
     "data": {
      "text/plain": [
       "<span class=\"ah_k\">박정아</span>"
      ]
     },
     "execution_count": 76,
     "metadata": {},
     "output_type": "execute_result"
    }
   ],
   "source": [
    "tag_list[0]"
   ]
  },
  {
   "cell_type": "code",
   "execution_count": 77,
   "metadata": {},
   "outputs": [
    {
     "data": {
      "text/plain": [
       "'박정아'"
      ]
     },
     "execution_count": 77,
     "metadata": {},
     "output_type": "execute_result"
    }
   ],
   "source": [
    "tag_list[0].text"
   ]
  },
  {
   "cell_type": "code",
   "execution_count": 78,
   "metadata": {},
   "outputs": [
    {
     "data": {
      "text/plain": [
       "['박정아',\n",
       " '포항지진',\n",
       " '애나',\n",
       " '민방위훈련',\n",
       " '주피터 어센딩',\n",
       " '2019 나훈아 콘서트',\n",
       " '외식하는날 소갈비',\n",
       " '아디다스 깔깔이',\n",
       " '리스본행 야간열차',\n",
       " '눈이 부시게 줄거리',\n",
       " '이상화 강남',\n",
       " '스피드스케이팅 이상화',\n",
       " '라페라리',\n",
       " '버닝썬 애나',\n",
       " '엘비세미콘',\n",
       " '부라더',\n",
       " '현대바이오',\n",
       " '강남',\n",
       " '지열 발전소',\n",
       " '지진',\n",
       " '박정아',\n",
       " '포항지진',\n",
       " '애나',\n",
       " '민방위훈련',\n",
       " '주피터 어센딩',\n",
       " '2019 나훈아 콘서트',\n",
       " '외식하는날 소갈비',\n",
       " '아디다스 깔깔이',\n",
       " '리스본행 야간열차',\n",
       " '눈이 부시게 줄거리',\n",
       " '이상화 강남',\n",
       " '스피드스케이팅 이상화',\n",
       " '라페라리',\n",
       " '버닝썬 애나',\n",
       " '엘비세미콘',\n",
       " '부라더',\n",
       " '현대바이오',\n",
       " '강남',\n",
       " '지열 발전소',\n",
       " '지진']"
      ]
     },
     "execution_count": 78,
     "metadata": {},
     "output_type": "execute_result"
    }
   ],
   "source": [
    "[tag.text for tag in tag_list]"
   ]
  },
  {
   "cell_type": "markdown",
   "metadata": {},
   "source": [
    "코드 정리"
   ]
  },
  {
   "cell_type": "code",
   "execution_count": 81,
   "metadata": {},
   "outputs": [
    {
     "data": {
      "text/plain": [
       "['박정아',\n",
       " '민방위훈련',\n",
       " '포항지진',\n",
       " '애나',\n",
       " '2019 나훈아 콘서트',\n",
       " '주피터 어센딩',\n",
       " '아디다스 깔깔이',\n",
       " '엘비세미콘',\n",
       " '외식하는날 소갈비',\n",
       " '스피드스케이팅 이상화',\n",
       " '이상화 강남',\n",
       " '라페라리',\n",
       " '버닝썬 애나',\n",
       " '부라더',\n",
       " '현대바이오',\n",
       " '리스본행 야간열차',\n",
       " '눈이 부시게 줄거리',\n",
       " '강남',\n",
       " '고퇴경',\n",
       " '지열 발전소']"
      ]
     },
     "execution_count": 81,
     "metadata": {},
     "output_type": "execute_result"
    }
   ],
   "source": [
    "import requests\n",
    "from bs4 import BeautifulSoup  # HTML Parser\n",
    "\n",
    "res = requests.get(\"https://www.naver.com\")  # 웹페이지 방문(요청)해서 응답을 획득\n",
    "html = res.text                  # 응답 문자열을 html 변수에 저장\n",
    "soup = BeautifulSoup(html, 'html.parser')  # BeautifulSoup4를 통해서 원하는 Tag를 찾아보자.\n",
    "tag_list = soup.select('.PM_CL_realtimeKeyword_rolling .ah_k')  # class에 ah_k가 포함된 모든 태그를 찾아서, 리스트화\n",
    "[tag.text for tag in tag_list]   # tag_list에서 tag별 .text 속성으로 리스트를 만들어보자."
   ]
  },
  {
   "cell_type": "markdown",
   "metadata": {},
   "source": [
    "Daum 실검"
   ]
  },
  {
   "cell_type": "code",
   "execution_count": 125,
   "metadata": {},
   "outputs": [],
   "source": [
    "res = requests.get(\"https://www.daum.net/\")\n",
    "html = res.text\n",
    "soup = BeautifulSoup(html, 'html.parser')"
   ]
  },
  {
   "cell_type": "code",
   "execution_count": 126,
   "metadata": {},
   "outputs": [],
   "source": [
    "for tag in soup.select('[aria-hidden]'):  # 속성으로 aria-hidden이 있다면?\n",
    "    tag.extract()  # 해당 태그를 제거"
   ]
  },
  {
   "cell_type": "code",
   "execution_count": 127,
   "metadata": {},
   "outputs": [
    {
     "data": {
      "text/plain": [
       "10"
      ]
     },
     "execution_count": 127,
     "metadata": {},
     "output_type": "execute_result"
    }
   ],
   "source": [
    "# tag_list = soup.select('.hotissue_mini .link_issue')  # 풀이#1\n",
    "tag_list = soup.select('.realtime_part .link_issue')\n",
    "len(tag_list)"
   ]
  },
  {
   "cell_type": "code",
   "execution_count": 128,
   "metadata": {},
   "outputs": [
    {
     "name": "stdout",
     "output_type": "stream",
     "text": [
      "민방위 훈련\n",
      "홍문종\n",
      "안현모\n",
      "애나\n",
      "김혜자\n",
      "이상화\n",
      "포항 지진\n",
      "박예진\n",
      "강남\n",
      "차바이오텍\n"
     ]
    }
   ],
   "source": [
    "for tag in tag_list:\n",
    "    print(tag.text)"
   ]
  },
  {
   "cell_type": "code",
   "execution_count": null,
   "metadata": {},
   "outputs": [],
   "source": []
  },
  {
   "cell_type": "code",
   "execution_count": 121,
   "metadata": {},
   "outputs": [
    {
     "name": "stdout",
     "output_type": "stream",
     "text": [
      "민방위 훈련\n",
      "포항 지진\n",
      "김혜자\n",
      "안현모\n",
      "차바이오텍\n",
      "이상화\n",
      "애나\n",
      "강남\n",
      "박예진\n",
      "박정아\n"
     ]
    }
   ],
   "source": [
    "# 꾸역꾸역 ~~~ : 풀이#2\n",
    "keyword_list = []\n",
    "for tag in tag_list[:20]:\n",
    "    keyword_list.append(tag.text)\n",
    "\n",
    "for i in range(0, len(keyword_list), 2):\n",
    "    print(keyword_list[i])"
   ]
  },
  {
   "cell_type": "code",
   "execution_count": null,
   "metadata": {},
   "outputs": [],
   "source": []
  },
  {
   "cell_type": "markdown",
   "metadata": {},
   "source": [
    "## 문자열 인코딩과 디코딩"
   ]
  },
  {
   "cell_type": "code",
   "execution_count": 131,
   "metadata": {},
   "outputs": [
    {
     "data": {
      "text/plain": [
       "4"
      ]
     },
     "execution_count": 131,
     "metadata": {},
     "output_type": "execute_result"
    }
   ],
   "source": [
    "len(\"가나다라\")"
   ]
  },
  {
   "cell_type": "code",
   "execution_count": 133,
   "metadata": {},
   "outputs": [
    {
     "data": {
      "text/plain": [
       "'가나'"
      ]
     },
     "execution_count": 133,
     "metadata": {},
     "output_type": "execute_result"
    }
   ],
   "source": [
    "\"가나다라\"[:2]"
   ]
  },
  {
   "cell_type": "code",
   "execution_count": 135,
   "metadata": {},
   "outputs": [
    {
     "data": {
      "text/plain": [
       "'AC00'"
      ]
     },
     "execution_count": 135,
     "metadata": {},
     "output_type": "execute_result"
    }
   ],
   "source": [
    "\"%X\" % ord(\"가\")  # 16진수로 유니코드 코드값 확인"
   ]
  },
  {
   "cell_type": "code",
   "execution_count": 140,
   "metadata": {},
   "outputs": [
    {
     "data": {
      "text/plain": [
       "b'\\xea\\xb0\\x80\\xeb\\x82\\x98\\xeb\\x8b\\xa4'"
      ]
     },
     "execution_count": 140,
     "metadata": {},
     "output_type": "execute_result"
    }
   ],
   "source": [
    "\"가나다\".encode(\"utf8\")"
   ]
  },
  {
   "cell_type": "code",
   "execution_count": 141,
   "metadata": {},
   "outputs": [
    {
     "data": {
      "text/plain": [
       "b'\\xb0\\xa1\\xb3\\xaa\\xb4\\xd9'"
      ]
     },
     "execution_count": 141,
     "metadata": {},
     "output_type": "execute_result"
    }
   ],
   "source": [
    "\"가나다\".encode(\"cp949\")"
   ]
  },
  {
   "cell_type": "code",
   "execution_count": null,
   "metadata": {},
   "outputs": [],
   "source": []
  },
  {
   "cell_type": "code",
   "execution_count": 142,
   "metadata": {},
   "outputs": [],
   "source": [
    "with open(\"sample1.txt\", \"wb\") as f:\n",
    "    data = \"가나다\".encode(\"utf8\")\n",
    "    f.write(data)"
   ]
  },
  {
   "cell_type": "code",
   "execution_count": 151,
   "metadata": {},
   "outputs": [
    {
     "name": "stdout",
     "output_type": "stream",
     "text": [
      "b'\\xea\\xb0\\x80\\xeb\\x82\\x98\\xeb\\x8b\\xa4'\n",
      "나다\n"
     ]
    }
   ],
   "source": [
    "with open(\"sample1.txt\", \"rb\") as f:\n",
    "    data = f.read()\n",
    "    print(data)\n",
    "    s = data.decode('utf8')  # to unicode\n",
    "    print(s[1:])"
   ]
  },
  {
   "cell_type": "code",
   "execution_count": 146,
   "metadata": {},
   "outputs": [
    {
     "data": {
      "text/plain": [
       "'나다'"
      ]
     },
     "execution_count": 146,
     "metadata": {},
     "output_type": "execute_result"
    }
   ],
   "source": [
    "\"가나다\"[1:]"
   ]
  },
  {
   "cell_type": "code",
   "execution_count": null,
   "metadata": {},
   "outputs": [],
   "source": []
  },
  {
   "cell_type": "code",
   "execution_count": 152,
   "metadata": {},
   "outputs": [
    {
     "data": {
      "text/plain": [
       "<Response [200]>"
      ]
     },
     "execution_count": 152,
     "metadata": {},
     "output_type": "execute_result"
    }
   ],
   "source": [
    "res = requests.get(\"https://www.naver.com\")\n",
    "res"
   ]
  },
  {
   "cell_type": "code",
   "execution_count": 157,
   "metadata": {},
   "outputs": [
    {
     "data": {
      "text/plain": [
       "{'Server': 'NWS', 'Date': 'Wed, 20 Mar 2019 06:03:10 GMT', 'Content-Type': 'text/html; charset=UTF-8', 'Transfer-Encoding': 'chunked', 'Connection': 'keep-alive', 'Cache-Control': 'no-cache, no-store, must-revalidate', 'Pragma': 'no-cache', 'P3P': 'CP=\"CAO DSP CURa ADMa TAIa PSAa OUR LAW STP PHY ONL UNI PUR FIN COM NAV INT DEM STA PRE\"', 'X-Frame-Options': 'DENY', 'X-XSS-Protection': '1; mode=block', 'Content-Encoding': 'gzip', 'Strict-Transport-Security': 'max-age=63072000; includeSubdomains', 'Referrer-Policy': 'unsafe-url'}"
      ]
     },
     "execution_count": 157,
     "metadata": {},
     "output_type": "execute_result"
    }
   ],
   "source": [
    "res.headers"
   ]
  },
  {
   "cell_type": "code",
   "execution_count": 159,
   "metadata": {},
   "outputs": [],
   "source": [
    "# res.content.decode(\"utf8\")\n",
    "# res.text"
   ]
  },
  {
   "cell_type": "code",
   "execution_count": null,
   "metadata": {},
   "outputs": [],
   "source": []
  },
  {
   "cell_type": "code",
   "execution_count": 186,
   "metadata": {},
   "outputs": [],
   "source": [
    "with open(\"sample2.txt\", \"wb\") as f:\n",
    "    f.write(\"가나다\".encode(\"utf8\"))\n",
    "    f.write(\"라마바\".encode(\"utf8\"))\n",
    "    f.write(\"사아자\".encode(\"utf8\"))\n",
    "    f.write(\"차카타\".encode(\"utf8\"))"
   ]
  },
  {
   "cell_type": "code",
   "execution_count": 187,
   "metadata": {},
   "outputs": [],
   "source": [
    "with open(\"sample2.txt\", \"wt\", encoding=\"utf8\") as f:\n",
    "    f.write(\"가나다\")\n",
    "    f.write(\"라마바\")\n",
    "    f.write(\"사아자\")\n",
    "    f.write(\"차카타\")"
   ]
  },
  {
   "cell_type": "code",
   "execution_count": 188,
   "metadata": {},
   "outputs": [
    {
     "name": "stdout",
     "output_type": "stream",
     "text": [
      "가나다라마바사아자차카타\n"
     ]
    }
   ],
   "source": [
    "with open(\"sample2.txt\", \"rb\") as f:\n",
    "    s = f.read().decode(\"utf8\")  # 한 방에 다 읽어옵니다.\n",
    "    print(s)"
   ]
  },
  {
   "cell_type": "code",
   "execution_count": 189,
   "metadata": {},
   "outputs": [
    {
     "name": "stdout",
     "output_type": "stream",
     "text": [
      "가나다라마바사아자차카타\n"
     ]
    }
   ],
   "source": [
    "with open(\"sample2.txt\", \"rt\", encoding=\"utf8\") as f:\n",
    "    s = f.read()  # 한 방에 다 읽어옵니다.\n",
    "    print(s)"
   ]
  },
  {
   "cell_type": "markdown",
   "metadata": {},
   "source": [
    "샘플 데이터 생성"
   ]
  },
  {
   "cell_type": "code",
   "execution_count": 194,
   "metadata": {},
   "outputs": [],
   "source": [
    "with open(\"네이버_실검.txt\", \"wt\", encoding=\"utf8\") as f:\n",
    "    keyword_list = 네이버_실검()\n",
    "    for keyword in keyword_list:\n",
    "        f.write(keyword + \"\\n\")"
   ]
  },
  {
   "cell_type": "code",
   "execution_count": 201,
   "metadata": {},
   "outputs": [
    {
     "name": "stdout",
     "output_type": "stream",
     "text": [
      "1 에뛰드 옴니클럽데이\n",
      "2 박정아\n",
      "3 잃어버린 도시 z\n",
      "4 포항지진\n",
      "5 셀루메드\n",
      "6 민방위훈련\n",
      "7 애나\n",
      "8 론\n",
      "9 이사강\n",
      "10 아디다스 깔깔이\n",
      "11 엘비세미콘\n",
      "12 권혁수\n",
      "13 베베멜리사\n",
      "14 리니지 리마스터\n",
      "15 개복치\n",
      "16 문형배\n",
      "17 2019 나훈아 콘서트\n",
      "18 이미선\n",
      "19 현대바이오\n",
      "20 차바이오텍\n"
     ]
    }
   ],
   "source": [
    "with open(\"네이버_실검.txt\", \"rt\", encoding=\"utf8\") as f:\n",
    "#     s = f.read()\n",
    "#     for idx, line in enumerate(s.splitlines(), 1):\n",
    "#         print(idx, line)\n",
    "\n",
    "    for idx, line in enumerate(f, 1):\n",
    "        # line.strip()  # 좌/우 화이트스페이스 제거\n",
    "        line = line.rstrip()  # 오른쪽 화이트스페이스 제거\n",
    "        print(idx, line)"
   ]
  },
  {
   "cell_type": "code",
   "execution_count": null,
   "metadata": {},
   "outputs": [],
   "source": []
  },
  {
   "cell_type": "markdown",
   "metadata": {},
   "source": [
    "## 정규 표현식"
   ]
  },
  {
   "cell_type": "code",
   "execution_count": 216,
   "metadata": {},
   "outputs": [],
   "source": [
    "휴대폰번호_패턴 = \"^01[016789]-?[1-9]\\d{2,3}-?\\d{4}$\""
   ]
  },
  {
   "cell_type": "code",
   "execution_count": 221,
   "metadata": {},
   "outputs": [
    {
     "name": "stdout",
     "output_type": "stream",
     "text": [
      "휴대폰 번호입니다.\n"
     ]
    }
   ],
   "source": [
    "import re  # Regular Expression\n",
    "\n",
    "if re.match(휴대폰번호_패턴, '010-1234-1234'):\n",
    "    print(\"휴대폰 번호입니다.\")\n",
    "else:\n",
    "    print(\"휴대폰 번호가 아닙니다.\")"
   ]
  },
  {
   "cell_type": "code",
   "execution_count": 222,
   "metadata": {},
   "outputs": [],
   "source": [
    "res = requests.get(\"https://www.naver.com\")\n",
    "html = res.text"
   ]
  },
  {
   "cell_type": "code",
   "execution_count": 232,
   "metadata": {},
   "outputs": [
    {
     "data": {
      "text/plain": [
       "['박정아', '박정아', '박사', '박사']"
      ]
     },
     "execution_count": 232,
     "metadata": {},
     "output_type": "execute_result"
    }
   ],
   "source": [
    "re.findall(r'박[ㄱ-힣]{1,3}', html)"
   ]
  },
  {
   "cell_type": "code",
   "execution_count": 237,
   "metadata": {},
   "outputs": [
    {
     "data": {
      "text/plain": [
       "['네이버',\n",
       " '메인에서',\n",
       " '다양한',\n",
       " '정보와',\n",
       " '유용한',\n",
       " '컨텐츠를',\n",
       " '만나',\n",
       " '보세요',\n",
       " '네이버',\n",
       " '네이버',\n",
       " '메인에서',\n",
       " '다양한',\n",
       " '정보와',\n",
       " '유용한',\n",
       " '컨텐츠를',\n",
       " '만나',\n",
       " '보세요',\n",
       " '네이버',\n",
       " '메인에서',\n",
       " '다양한',\n",
       " '정보와',\n",
       " '유용한',\n",
       " '컨텐츠를',\n",
       " '만나',\n",
       " '보세요',\n",
       " '스킵',\n",
       " '내비게이션',\n",
       " '연합뉴스',\n",
       " '바로가기',\n",
       " '주제별캐스트',\n",
       " '바로가기',\n",
       " '타임스퀘어',\n",
       " '바로가기',\n",
       " '쇼핑캐스트',\n",
       " '바로가기',\n",
       " '로그인',\n",
       " '바로가기',\n",
       " '스킵',\n",
       " '내비게이션',\n",
       " '헤더',\n",
       " '네이버',\n",
       " '네이버를',\n",
       " '시작페이지로',\n",
       " '쥬니어네이버',\n",
       " '해피빈',\n",
       " '자동완성',\n",
       " '입력창',\n",
       " '검색',\n",
       " '검색어',\n",
       " '입력',\n",
       " '자동완성',\n",
       " '열린',\n",
       " '경우',\n",
       " '클래스',\n",
       " '추가',\n",
       " '딤드인',\n",
       " '경우',\n",
       " '추가',\n",
       " '자동완성',\n",
       " '펼치기',\n",
       " '검색',\n",
       " '검색',\n",
       " '자동완성',\n",
       " '입력창',\n",
       " '한글입력기',\n",
       " '한글',\n",
       " '입력기',\n",
       " '한글입력기',\n",
       " '자동완성',\n",
       " '레이어',\n",
       " '우측',\n",
       " '정답형',\n",
       " '영역',\n",
       " '컨텍스트',\n",
       " '자동완성',\n",
       " '플러스',\n",
       " '시간대와',\n",
       " '관심사에',\n",
       " '맞춘',\n",
       " '컨텍스트',\n",
       " '자동완성',\n",
       " '도움말',\n",
       " '보기',\n",
       " '선택됨',\n",
       " '컨텍스트',\n",
       " '자동완성',\n",
       " '동일한',\n",
       " '시간대',\n",
       " '연령',\n",
       " '남녀별',\n",
       " '사용자',\n",
       " '그룹의',\n",
       " '관심사에',\n",
       " '맞춰',\n",
       " '자동완성을',\n",
       " '제공합니다',\n",
       " '로그인',\n",
       " '자세히',\n",
       " '설정은',\n",
       " '해당',\n",
       " '기기',\n",
       " '브라우저',\n",
       " '에',\n",
       " '저장됩니다',\n",
       " '자세히',\n",
       " '컨텍스트',\n",
       " '자동완성',\n",
       " '레이어',\n",
       " '닫기',\n",
       " '컨텍스트',\n",
       " '자동완성',\n",
       " '플러스',\n",
       " '도움말',\n",
       " '신고',\n",
       " '검색어저장',\n",
       " '켜기',\n",
       " '자동완성',\n",
       " '끄기',\n",
       " '기능을',\n",
       " '다시',\n",
       " '켤',\n",
       " '때는',\n",
       " '자동완성',\n",
       " '펼치기',\n",
       " '을',\n",
       " '클릭하세요',\n",
       " '현재',\n",
       " '자동완성',\n",
       " '기능을',\n",
       " '사용하고',\n",
       " '계십니다',\n",
       " '도움말',\n",
       " '신고',\n",
       " '검색어저장',\n",
       " '켜기',\n",
       " '자동완성',\n",
       " '끄기',\n",
       " '기능을',\n",
       " '다시',\n",
       " '켤',\n",
       " '때는',\n",
       " '자동완성',\n",
       " '펼치기',\n",
       " '을',\n",
       " '클릭하세요',\n",
       " '자동완성',\n",
       " '기능이',\n",
       " '활성화되었습니다',\n",
       " '도움말',\n",
       " '신고',\n",
       " '검색어저장',\n",
       " '켜기',\n",
       " '자동완성',\n",
       " '끄기',\n",
       " '기능을',\n",
       " '다시',\n",
       " '켤',\n",
       " '때는',\n",
       " '자동완성',\n",
       " '펼치기',\n",
       " '을',\n",
       " '클릭하세요',\n",
       " '자동완성',\n",
       " '기능이',\n",
       " '꺼져',\n",
       " '있습니다',\n",
       " '도움말',\n",
       " '신고',\n",
       " '검색어저장',\n",
       " '켜기',\n",
       " '자동완성',\n",
       " '켜기',\n",
       " '최근검색어',\n",
       " '내검색어',\n",
       " '최근검색어',\n",
       " '내',\n",
       " '검색어',\n",
       " '내',\n",
       " '검색어',\n",
       " '등록',\n",
       " '내',\n",
       " '검색어',\n",
       " '등록',\n",
       " '검색어삭제',\n",
       " '삭제',\n",
       " '최근검색어',\n",
       " '내역이',\n",
       " '없습니다',\n",
       " '검색어',\n",
       " '저장',\n",
       " '기능이',\n",
       " '꺼져',\n",
       " '있습니다',\n",
       " '내',\n",
       " '검색어',\n",
       " '해제',\n",
       " '내',\n",
       " '검색어',\n",
       " '해제',\n",
       " '설정된',\n",
       " '내',\n",
       " '검색어가',\n",
       " '없습니다',\n",
       " '최근검색어에서',\n",
       " '내',\n",
       " '검색어',\n",
       " '등록',\n",
       " '를',\n",
       " '선택하여',\n",
       " '자주',\n",
       " '찾는',\n",
       " '검색어를',\n",
       " '내',\n",
       " '검색어로',\n",
       " '저장해',\n",
       " '보세요',\n",
       " '검색어',\n",
       " '저장',\n",
       " '기능이',\n",
       " '꺼져',\n",
       " '있습니다',\n",
       " '알림',\n",
       " '공용',\n",
       " '에서는',\n",
       " '개인정보',\n",
       " '보호를',\n",
       " '위하여',\n",
       " '반드시',\n",
       " '로그아웃을',\n",
       " '해',\n",
       " '주세요',\n",
       " '기록',\n",
       " '삭제',\n",
       " '검색어저장',\n",
       " '끄기',\n",
       " '자동완성',\n",
       " '끄기',\n",
       " '최근',\n",
       " '검색어',\n",
       " '기록을',\n",
       " '모두',\n",
       " '삭제합니다',\n",
       " '기록',\n",
       " '전체',\n",
       " '삭제',\n",
       " '완료',\n",
       " '설정된',\n",
       " '내',\n",
       " '검색어를',\n",
       " '모두',\n",
       " '삭제합니다',\n",
       " '기록',\n",
       " '전체',\n",
       " '삭제',\n",
       " '검색어저장',\n",
       " '끄기',\n",
       " '자동완성',\n",
       " '끄기',\n",
       " '기능을',\n",
       " '다시',\n",
       " '켤',\n",
       " '때는',\n",
       " '자동완성',\n",
       " '펼치기',\n",
       " '을',\n",
       " '클릭하세요',\n",
       " '내',\n",
       " '검색어는',\n",
       " '최대',\n",
       " '개',\n",
       " '까지',\n",
       " '저장할',\n",
       " '수',\n",
       " '있습니다',\n",
       " '추가하시려면',\n",
       " '기존',\n",
       " '내',\n",
       " '검색어를',\n",
       " '지워주세요',\n",
       " '닫기',\n",
       " '자동완성',\n",
       " '안내문구',\n",
       " '선거',\n",
       " '자세히보기',\n",
       " '자동완성',\n",
       " '안내문구',\n",
       " '선거',\n",
       " '계열',\n",
       " '와',\n",
       " '겹치지',\n",
       " '않기',\n",
       " '위함',\n",
       " '빈',\n",
       " '프레임',\n",
       " '자동완성',\n",
       " '레이어',\n",
       " '자동완성',\n",
       " '템플릿',\n",
       " '추가',\n",
       " '신규',\n",
       " '공통',\n",
       " '템플릿',\n",
       " '로또당첨번호',\n",
       " '회차',\n",
       " '환율',\n",
       " '엔화환율',\n",
       " '원',\n",
       " '해외날씨',\n",
       " '파리날씨',\n",
       " '기온',\n",
       " '국내날씨',\n",
       " '서울날씨',\n",
       " '기온',\n",
       " '바로가기',\n",
       " '사이트로',\n",
       " '바로',\n",
       " '이동',\n",
       " '해외날씨',\n",
       " '국내날씨',\n",
       " '형태로',\n",
       " '제공하기',\n",
       " '위한',\n",
       " '새로운',\n",
       " '템플릿',\n",
       " '번으로',\n",
       " '변경됨',\n",
       " '문맥검색',\n",
       " '결과',\n",
       " '키워드',\n",
       " '템플릿',\n",
       " '좌측',\n",
       " '결과목록',\n",
       " '템플릿',\n",
       " '정답형',\n",
       " '템플릿',\n",
       " '아님',\n",
       " '바로이동',\n",
       " '일반',\n",
       " '자동완성',\n",
       " '하이라이팅',\n",
       " '템플릿',\n",
       " '부분',\n",
       " '자동완성',\n",
       " '하이라이팅',\n",
       " '템플릿',\n",
       " '자동완성',\n",
       " '템플릿',\n",
       " '추가',\n",
       " '상공의',\n",
       " '날',\n",
       " '상공의',\n",
       " '날',\n",
       " '메일',\n",
       " '카페',\n",
       " '블로그',\n",
       " '지식인',\n",
       " '쇼핑',\n",
       " '네이버페이',\n",
       " '네이버',\n",
       " '사전',\n",
       " '뉴스',\n",
       " '증권',\n",
       " '금융',\n",
       " '부동산',\n",
       " '지도',\n",
       " '영화',\n",
       " '뮤직',\n",
       " '책',\n",
       " '만화',\n",
       " '웹툰',\n",
       " '더보기',\n",
       " '급상승',\n",
       " '검색어',\n",
       " '검색어',\n",
       " '박정아',\n",
       " '개복치',\n",
       " '잃어버린',\n",
       " '도시',\n",
       " '에뛰드',\n",
       " '옴니클럽데이',\n",
       " '포항지진',\n",
       " '론',\n",
       " '모모랜드',\n",
       " '데이지',\n",
       " '이사강',\n",
       " '셀루메드',\n",
       " '애나',\n",
       " '아디다스',\n",
       " '깔깔이',\n",
       " '데이지',\n",
       " '문형배',\n",
       " '이미선',\n",
       " '걷기왕',\n",
       " '우디',\n",
       " '엘비세미콘',\n",
       " '나훈아',\n",
       " '콘서트',\n",
       " '연우',\n",
       " '현대바이오',\n",
       " '급상승',\n",
       " '검색어',\n",
       " '급상승',\n",
       " '트래킹',\n",
       " '위',\n",
       " '위',\n",
       " '급상승',\n",
       " '검색어',\n",
       " '위',\n",
       " '박정아',\n",
       " '데이터랩',\n",
       " '그래프',\n",
       " '보기',\n",
       " '개복치',\n",
       " '데이터랩',\n",
       " '그래프',\n",
       " '보기',\n",
       " '잃어버린',\n",
       " '도시',\n",
       " '데이터랩',\n",
       " '그래프',\n",
       " '보기',\n",
       " '에뛰드',\n",
       " '옴니클럽데이',\n",
       " '데이터랩',\n",
       " '그래프',\n",
       " '보기',\n",
       " '포항지진',\n",
       " '데이터랩',\n",
       " '그래프',\n",
       " '보기',\n",
       " '론',\n",
       " '데이터랩',\n",
       " '그래프',\n",
       " '보기',\n",
       " '모모랜드',\n",
       " '데이지',\n",
       " '데이터랩',\n",
       " '그래프',\n",
       " '보기',\n",
       " '이사강',\n",
       " '데이터랩',\n",
       " '그래프',\n",
       " '보기',\n",
       " '셀루메드',\n",
       " '데이터랩',\n",
       " '그래프',\n",
       " '보기',\n",
       " '애나',\n",
       " '데이터랩',\n",
       " '그래프',\n",
       " '보기',\n",
       " '아디다스',\n",
       " '깔깔이',\n",
       " '데이터랩',\n",
       " '그래프',\n",
       " '보기',\n",
       " '데이지',\n",
       " '데이터랩',\n",
       " '그래프',\n",
       " '보기',\n",
       " '문형배',\n",
       " '데이터랩',\n",
       " '그래프',\n",
       " '보기',\n",
       " '이미선',\n",
       " '데이터랩',\n",
       " '그래프',\n",
       " '보기',\n",
       " '걷기왕',\n",
       " '데이터랩',\n",
       " '그래프',\n",
       " '보기',\n",
       " '우디',\n",
       " '데이터랩',\n",
       " '그래프',\n",
       " '보기',\n",
       " '엘비세미콘',\n",
       " '데이터랩',\n",
       " '그래프',\n",
       " '보기',\n",
       " '나훈아',\n",
       " '콘서트',\n",
       " '데이터랩',\n",
       " '그래프',\n",
       " '보기',\n",
       " '연우',\n",
       " '데이터랩',\n",
       " '그래프',\n",
       " '보기',\n",
       " '현대바이오',\n",
       " '데이터랩',\n",
       " '그래프',\n",
       " '보기',\n",
       " '기준',\n",
       " '도움말',\n",
       " '헤더',\n",
       " '광고',\n",
       " '뉴스캐스트',\n",
       " '연합뉴스',\n",
       " '포항시민',\n",
       " '지진',\n",
       " '원인',\n",
       " '밝혀져',\n",
       " '다행',\n",
       " '손해배상',\n",
       " '줄',\n",
       " '소송',\n",
       " '예고',\n",
       " '文대통령',\n",
       " '민간일자리',\n",
       " '부진',\n",
       " '혁신성장',\n",
       " '노력',\n",
       " '차질없이',\n",
       " '추진하라',\n",
       " '승차거부',\n",
       " '사납금',\n",
       " '없다',\n",
       " '카카오',\n",
       " '참여',\n",
       " '플랫폼',\n",
       " '택시',\n",
       " '첫선',\n",
       " '범부처',\n",
       " '사업단',\n",
       " '국내',\n",
       " '초미세먼지',\n",
       " '절반은',\n",
       " '중국',\n",
       " '영향',\n",
       " '승리',\n",
       " '입대',\n",
       " '연기',\n",
       " '경찰',\n",
       " '수사에',\n",
       " '필요한',\n",
       " '시간',\n",
       " '벌어',\n",
       " '반색',\n",
       " '모텔',\n",
       " '투숙객',\n",
       " '천',\n",
       " '여명',\n",
       " '몰카',\n",
       " '찍혔다',\n",
       " '인터넷에',\n",
       " '생중계',\n",
       " '작년',\n",
       " '혼인율',\n",
       " '통계작성',\n",
       " '후',\n",
       " '최저',\n",
       " '취업난',\n",
       " '인구',\n",
       " '집값상승',\n",
       " '영향',\n",
       " '국세청',\n",
       " '클럽',\n",
       " '아레나',\n",
       " '실소유주',\n",
       " '고발',\n",
       " '명의자',\n",
       " '진술번복',\n",
       " '패스트트랙',\n",
       " '파열음',\n",
       " '바른미래',\n",
       " '의총서',\n",
       " '정면충돌',\n",
       " '창원성산',\n",
       " '통영고성',\n",
       " '보선',\n",
       " '내일부터',\n",
       " '공식',\n",
       " '선거운동',\n",
       " '네이버뉴스',\n",
       " '연예',\n",
       " '스포츠',\n",
       " '경제',\n",
       " '뉴스스탠드',\n",
       " '전체',\n",
       " '언론사',\n",
       " '뉴스',\n",
       " '이미지형',\n",
       " '리스트형',\n",
       " '설정',\n",
       " '이전',\n",
       " '페이지',\n",
       " '다음',\n",
       " '페이지',\n",
       " '언론사',\n",
       " '목록',\n",
       " '조선비즈',\n",
       " '구독',\n",
       " '해지',\n",
       " '기사보기',\n",
       " '지지통신',\n",
       " '구독',\n",
       " '해지',\n",
       " '기사보기',\n",
       " '헤럴드경제',\n",
       " '구독',\n",
       " '해지',\n",
       " '기사보기',\n",
       " '구독',\n",
       " '해지',\n",
       " '기사보기',\n",
       " '매일경제',\n",
       " '구독',\n",
       " '해지',\n",
       " '기사보기',\n",
       " '코리아헤럴드',\n",
       " '구독',\n",
       " '해지',\n",
       " '기사보기',\n",
       " '아이뉴스',\n",
       " '구독',\n",
       " '해지',\n",
       " '기사보기',\n",
       " '경향신문',\n",
       " '구독',\n",
       " '해지',\n",
       " '기사보기',\n",
       " '한국일보',\n",
       " '구독',\n",
       " '해지',\n",
       " '기사보기',\n",
       " '노컷뉴스',\n",
       " '구독',\n",
       " '해지',\n",
       " '기사보기',\n",
       " '구독',\n",
       " '해지',\n",
       " '기사보기',\n",
       " '일간스포츠',\n",
       " '구독',\n",
       " '해지',\n",
       " '기사보기',\n",
       " '메트로신문',\n",
       " '구독',\n",
       " '해지',\n",
       " '기사보기',\n",
       " '스포츠월드',\n",
       " '구독',\n",
       " '해지',\n",
       " '기사보기',\n",
       " '르몽드',\n",
       " '디플로마티크',\n",
       " '구독',\n",
       " '해지',\n",
       " '기사보기',\n",
       " '헬스조선',\n",
       " '구독',\n",
       " '해지',\n",
       " '기사보기',\n",
       " '제주의소리',\n",
       " '구독',\n",
       " '해지',\n",
       " '기사보기',\n",
       " '매일신문',\n",
       " '구독',\n",
       " '해지',\n",
       " '기사보기',\n",
       " '언론사',\n",
       " '목록',\n",
       " '종합',\n",
       " '경제',\n",
       " '방송',\n",
       " '통신',\n",
       " '영자지',\n",
       " '스포츠',\n",
       " '연예',\n",
       " '매거진',\n",
       " '전문지',\n",
       " '지역',\n",
       " '설정한',\n",
       " '언론사가',\n",
       " '없습니다',\n",
       " '언론사',\n",
       " '구독',\n",
       " '설정에서',\n",
       " '언론사를',\n",
       " '추가하면',\n",
       " '설정한',\n",
       " '언론사의',\n",
       " '기사들을',\n",
       " '네이버',\n",
       " '홈에서',\n",
       " '바로',\n",
       " '보실',\n",
       " '수',\n",
       " '있습니다',\n",
       " '언론사',\n",
       " '추가',\n",
       " '뉴스캐스트',\n",
       " '로그인',\n",
       " '로그인',\n",
       " '타임스퀘어',\n",
       " '타임스퀘어',\n",
       " '수',\n",
       " '증시',\n",
       " '앞의',\n",
       " '목록으로',\n",
       " '이동',\n",
       " '뒤의',\n",
       " '목록으로',\n",
       " '이동',\n",
       " '코스피',\n",
       " '하락',\n",
       " '코스닥',\n",
       " '상승',\n",
       " '증권',\n",
       " '오늘의',\n",
       " '주요',\n",
       " '시황뉴스',\n",
       " '주가',\n",
       " '검색창',\n",
       " '주가',\n",
       " '찾아보기',\n",
       " '타임스퀘어',\n",
       " '광고',\n",
       " '광고',\n",
       " '광고',\n",
       " '주제형캐스트',\n",
       " '주제형',\n",
       " '캐스트',\n",
       " '관심',\n",
       " '주제',\n",
       " '선택',\n",
       " '리빙',\n",
       " '푸드',\n",
       " '스포츠',\n",
       " '자동차',\n",
       " '패션뷰티',\n",
       " '부모',\n",
       " '건강',\n",
       " '웹툰',\n",
       " '게임',\n",
       " '연예',\n",
       " '뮤직',\n",
       " '영화',\n",
       " '책문화',\n",
       " '함께',\n",
       " '여행',\n",
       " '디자인',\n",
       " '경제',\n",
       " '과학',\n",
       " '중국',\n",
       " '비즈니스',\n",
       " '스쿨잼',\n",
       " '공연전시',\n",
       " '법률',\n",
       " '동물공감',\n",
       " '연애',\n",
       " '결혼',\n",
       " '테크',\n",
       " '감성충전',\n",
       " '이전',\n",
       " '주제',\n",
       " '다음',\n",
       " '주제',\n",
       " '전체',\n",
       " '주제',\n",
       " '열기',\n",
       " '관심',\n",
       " '주제',\n",
       " '설정',\n",
       " '를',\n",
       " '관심주제로',\n",
       " '설정하시겠습니까',\n",
       " '확인',\n",
       " '취소',\n",
       " '모바일에서',\n",
       " '설정한',\n",
       " '주제',\n",
       " '를',\n",
       " '가져오시겠습니까',\n",
       " '확인',\n",
       " '취소',\n",
       " '전체',\n",
       " '주제',\n",
       " '목록',\n",
       " '닫기',\n",
       " '관심주제',\n",
       " '설정',\n",
       " '모바일',\n",
       " '관심',\n",
       " '주제',\n",
       " '가져오기',\n",
       " '로그인',\n",
       " '후',\n",
       " '사용',\n",
       " '가능합니다',\n",
       " '취소',\n",
       " '확인',\n",
       " '초기화',\n",
       " '전체선택',\n",
       " '모바일',\n",
       " '관심',\n",
       " '주제',\n",
       " '가져오기',\n",
       " '로그인',\n",
       " '후',\n",
       " '사용',\n",
       " '가능합니다',\n",
       " '과학',\n",
       " '모바일',\n",
       " '과학',\n",
       " '과학',\n",
       " '뉴스',\n",
       " '오늘의',\n",
       " '과학',\n",
       " '과학백과',\n",
       " '과학포스트',\n",
       " '과학책',\n",
       " '오디오클립',\n",
       " '하늘에서',\n",
       " '먹고',\n",
       " '잠자는',\n",
       " '칼새',\n",
       " '하늘에서',\n",
       " '먹고',\n",
       " '잠자는',\n",
       " '칼새',\n",
       " '스웨덴',\n",
       " '룬드대',\n",
       " '과학기자협회',\n",
       " '두통',\n",
       " '날씨와',\n",
       " '연관이',\n",
       " '있을까',\n",
       " '두통',\n",
       " '날씨와',\n",
       " '연관이',\n",
       " '있을까',\n",
       " '스마트',\n",
       " '분',\n",
       " '이름도',\n",
       " '거창한',\n",
       " '우주',\n",
       " '커피',\n",
       " '로스팅',\n",
       " '캡슐',\n",
       " '커피',\n",
       " '한',\n",
       " '잔에',\n",
       " '달러',\n",
       " '이름도',\n",
       " '거창한',\n",
       " '우주',\n",
       " '커피',\n",
       " '로스팅',\n",
       " '캡슐',\n",
       " '커피',\n",
       " '한',\n",
       " '잔에',\n",
       " '달러',\n",
       " '부활은',\n",
       " '어마어마하게',\n",
       " '복잡한',\n",
       " '문제이다',\n",
       " '부활은',\n",
       " '어마어마하게',\n",
       " '복잡한',\n",
       " '문제이다',\n",
       " '천국의',\n",
       " '발명',\n",
       " '오랜',\n",
       " '앙숙',\n",
       " '영',\n",
       " '프의',\n",
       " '화합을',\n",
       " '의미한',\n",
       " '초음속',\n",
       " '여객기',\n",
       " '콩코드',\n",
       " '오랜',\n",
       " '앙숙',\n",
       " '영',\n",
       " '프의',\n",
       " '화합을',\n",
       " '의미한',\n",
       " '초음속',\n",
       " '여객기',\n",
       " '콩코드',\n",
       " '과학기술정보통신부',\n",
       " '왜',\n",
       " '고추냉이를',\n",
       " '먹으면',\n",
       " '코',\n",
       " '끝이',\n",
       " '매울까',\n",
       " '왜',\n",
       " '고추냉이를',\n",
       " '먹으면',\n",
       " '코',\n",
       " '끝이',\n",
       " '매울까',\n",
       " '화학',\n",
       " '외계인이',\n",
       " '지구에',\n",
       " '오면',\n",
       " '우리는',\n",
       " '어떻게',\n",
       " '될까',\n",
       " '외계인이',\n",
       " '지구에',\n",
       " '오면',\n",
       " '우리는',\n",
       " '어떻게',\n",
       " '될까',\n",
       " '국립대구과학관',\n",
       " '하늘을',\n",
       " '장악한',\n",
       " '이점',\n",
       " '비행선',\n",
       " '하늘을',\n",
       " '장악한',\n",
       " '이점',\n",
       " '비행선',\n",
       " '국방부',\n",
       " '바다생물',\n",
       " '보호',\n",
       " '위한',\n",
       " '지도',\n",
       " '작성',\n",
       " '바다생물',\n",
       " '보호',\n",
       " '위한',\n",
       " '지도',\n",
       " '작성',\n",
       " '스탠퍼드대',\n",
       " '과학기자협회',\n",
       " '간단하게',\n",
       " '지진',\n",
       " '발생',\n",
       " '가능성을',\n",
       " '예측하는',\n",
       " '기술',\n",
       " '개발',\n",
       " '간단하게',\n",
       " '지진',\n",
       " '발생',\n",
       " '가능성을',\n",
       " '예측하는',\n",
       " '기술',\n",
       " '개발',\n",
       " '칼텍',\n",
       " '과학기자협회',\n",
       " '골치',\n",
       " '아픈',\n",
       " '토지',\n",
       " '협상을',\n",
       " '피하려면',\n",
       " '골치',\n",
       " '아픈',\n",
       " '토지',\n",
       " '협상을',\n",
       " '피하려면',\n",
       " '뉴턴',\n",
       " '위염',\n",
       " '위암',\n",
       " '촉진하는',\n",
       " '새',\n",
       " '유전자',\n",
       " '발견하다',\n",
       " '위염',\n",
       " '위암',\n",
       " '촉진하는',\n",
       " '새',\n",
       " '유전자',\n",
       " '발견하다',\n",
       " '국가과학기술연구회',\n",
       " '더',\n",
       " '안전하고',\n",
       " '경제적인',\n",
       " '도시철도',\n",
       " '시설물',\n",
       " '연구',\n",
       " '신정열',\n",
       " '박사',\n",
       " '더',\n",
       " '안전하고',\n",
       " '경제적인',\n",
       " '도시철도',\n",
       " '시설물',\n",
       " '연구',\n",
       " '신정열',\n",
       " '박사',\n",
       " '한국철도기술연구원',\n",
       " '활기찬',\n",
       " '커뮤니티',\n",
       " '블록체인',\n",
       " '활기찬',\n",
       " '커뮤니티',\n",
       " '블록체인',\n",
       " '분',\n",
       " '과학토크',\n",
       " '네이버',\n",
       " '왜',\n",
       " '자다가',\n",
       " ...]"
      ]
     },
     "execution_count": 237,
     "metadata": {},
     "output_type": "execute_result"
    }
   ],
   "source": [
    "# re.findall(r'\\d+', html)  # 모든 숫자\n",
    "re.findall(r'[ㄱ-힣]+', html)  # 모든 한글 단어"
   ]
  },
  {
   "cell_type": "code",
   "execution_count": null,
   "metadata": {},
   "outputs": [],
   "source": []
  },
  {
   "cell_type": "code",
   "execution_count": null,
   "metadata": {},
   "outputs": [],
   "source": [
    "\"\\n\"  # 개행문자(new line)로서 1글자"
   ]
  },
  {
   "cell_type": "code",
   "execution_count": 233,
   "metadata": {},
   "outputs": [
    {
     "data": {
      "text/plain": [
       "'\\\\d'"
      ]
     },
     "execution_count": 233,
     "metadata": {},
     "output_type": "execute_result"
    }
   ],
   "source": [
    "\"\\\\d\"  # 숫자를 나타내는 정규표현식 패턴으로서, 2글자"
   ]
  },
  {
   "cell_type": "code",
   "execution_count": 234,
   "metadata": {},
   "outputs": [
    {
     "data": {
      "text/plain": [
       "'\\\\d'"
      ]
     },
     "execution_count": 234,
     "metadata": {},
     "output_type": "execute_result"
    }
   ],
   "source": [
    "\"\\d\""
   ]
  },
  {
   "cell_type": "code",
   "execution_count": 235,
   "metadata": {},
   "outputs": [
    {
     "data": {
      "text/plain": [
       "'\\\\d'"
      ]
     },
     "execution_count": 235,
     "metadata": {},
     "output_type": "execute_result"
    }
   ],
   "source": [
    "r\"\\d\""
   ]
  },
  {
   "cell_type": "code",
   "execution_count": null,
   "metadata": {},
   "outputs": [],
   "source": [
    "\"\\\\d \\\\s\"\n",
    "r\"\\d \\s\"\n",
    "r\"01[16789]\"  # Raw"
   ]
  },
  {
   "cell_type": "code",
   "execution_count": null,
   "metadata": {},
   "outputs": [],
   "source": []
  },
  {
   "cell_type": "markdown",
   "metadata": {},
   "source": [
    "## 클래스"
   ]
  },
  {
   "cell_type": "code",
   "execution_count": 271,
   "metadata": {},
   "outputs": [],
   "source": [
    "class Person:\n",
    "    def __init__(self, name, age):\n",
    "        self.name = name\n",
    "        self.age = age\n",
    "        self.region = '서울'\n",
    "    \n",
    "    def say_hello(self):\n",
    "        print(\"안녕. 나는 {}야. {}살이고 {}에서 왔어.\".format(\n",
    "            self.name, self.age, self.region\n",
    "        ))"
   ]
  },
  {
   "cell_type": "code",
   "execution_count": 272,
   "metadata": {},
   "outputs": [],
   "source": [
    "tom = Person('Tom', 9)  # Person 타입의 새로운 변수를 하나 생성\n",
    "steve = Person('Steve', 11)"
   ]
  },
  {
   "cell_type": "code",
   "execution_count": 273,
   "metadata": {},
   "outputs": [
    {
     "name": "stdout",
     "output_type": "stream",
     "text": [
      "안녕. 나는 Tom야. 9살이고 서울에서 왔어.\n"
     ]
    }
   ],
   "source": [
    "tom.say_hello()"
   ]
  },
  {
   "cell_type": "code",
   "execution_count": 274,
   "metadata": {},
   "outputs": [
    {
     "name": "stdout",
     "output_type": "stream",
     "text": [
      "안녕. 나는 Steve야. 11살이고 서울에서 왔어.\n"
     ]
    }
   ],
   "source": [
    "steve.say_hello()"
   ]
  },
  {
   "cell_type": "code",
   "execution_count": 255,
   "metadata": {},
   "outputs": [],
   "source": [
    "def myfn(i):\n",
    "    pass\n",
    "\n",
    "myfn(1)"
   ]
  },
  {
   "cell_type": "code",
   "execution_count": null,
   "metadata": {},
   "outputs": [],
   "source": []
  },
  {
   "cell_type": "markdown",
   "metadata": {},
   "source": [
    "+ java : `Person  person = new Person();`\n",
    "+ ruby : `person = Person.new()`\n",
    "+ python: `person = Person()`"
   ]
  },
  {
   "cell_type": "code",
   "execution_count": null,
   "metadata": {},
   "outputs": [],
   "source": []
  },
  {
   "cell_type": "code",
   "execution_count": null,
   "metadata": {},
   "outputs": [],
   "source": []
  },
  {
   "cell_type": "code",
   "execution_count": null,
   "metadata": {},
   "outputs": [],
   "source": []
  },
  {
   "cell_type": "code",
   "execution_count": null,
   "metadata": {},
   "outputs": [],
   "source": []
  },
  {
   "cell_type": "markdown",
   "metadata": {},
   "source": [
    "```c\n",
    "if ( i > 10 ) {\n",
    "}\n",
    "```\n",
    "\n",
    "```python\n",
    "if i > 10:\n",
    "    pass\n",
    "```"
   ]
  },
  {
   "cell_type": "code",
   "execution_count": null,
   "metadata": {},
   "outputs": [],
   "source": []
  },
  {
   "cell_type": "code",
   "execution_count": null,
   "metadata": {},
   "outputs": [],
   "source": []
  },
  {
   "cell_type": "code",
   "execution_count": null,
   "metadata": {},
   "outputs": [],
   "source": []
  }
 ],
 "metadata": {
  "kernelspec": {
   "display_name": "Python 3",
   "language": "python",
   "name": "python3"
  },
  "language_info": {
   "codemirror_mode": {
    "name": "ipython",
    "version": 3
   },
   "file_extension": ".py",
   "mimetype": "text/x-python",
   "name": "python",
   "nbconvert_exporter": "python",
   "pygments_lexer": "ipython3",
   "version": "3.7.0"
  }
 },
 "nbformat": 4,
 "nbformat_minor": 2
}
