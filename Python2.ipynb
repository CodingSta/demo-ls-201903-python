{
 "cells": [
  {
   "cell_type": "markdown",
   "metadata": {},
   "source": [
    "## 기본 자료구조"
   ]
  },
  {
   "cell_type": "markdown",
   "metadata": {},
   "source": [
    "### 리스트"
   ]
  },
  {
   "cell_type": "code",
   "execution_count": 1,
   "metadata": {},
   "outputs": [
    {
     "data": {
      "text/plain": [
       "['백예린', '백예린', '에픽하이']"
      ]
     },
     "execution_count": 1,
     "metadata": {},
     "output_type": "execute_result"
    }
   ],
   "source": [
    "멜론_TOP100 = [\n",
    "    '백예린', '백예린', '에픽하이',\n",
    "]\n",
    "멜론_TOP100"
   ]
  },
  {
   "cell_type": "code",
   "execution_count": 3,
   "metadata": {},
   "outputs": [
    {
     "data": {
      "text/plain": [
       "['백예린', '백예린', '에픽하이', '박봄', '마마무']"
      ]
     },
     "execution_count": 3,
     "metadata": {},
     "output_type": "execute_result"
    }
   ],
   "source": [
    "멜론_TOP100.append('박봄')\n",
    "멜론_TOP100.append('마마무')\n",
    "멜론_TOP100"
   ]
  },
  {
   "cell_type": "code",
   "execution_count": 4,
   "metadata": {},
   "outputs": [
    {
     "data": {
      "text/plain": [
       "['엔플라잉', '백예린', '백예린', '에픽하이', '박봄', '마마무']"
      ]
     },
     "execution_count": 4,
     "metadata": {},
     "output_type": "execute_result"
    }
   ],
   "source": [
    "멜론_TOP100.insert(0, '엔플라잉')\n",
    "멜론_TOP100"
   ]
  },
  {
   "cell_type": "code",
   "execution_count": 5,
   "metadata": {},
   "outputs": [
    {
     "data": {
      "text/plain": [
       "['엔플라잉', '백예린', '에픽하이', '박봄', '마마무']"
      ]
     },
     "execution_count": 5,
     "metadata": {},
     "output_type": "execute_result"
    }
   ],
   "source": [
    "멜론_TOP100.remove('백예린')\n",
    "멜론_TOP100"
   ]
  },
  {
   "cell_type": "code",
   "execution_count": 6,
   "metadata": {},
   "outputs": [
    {
     "data": {
      "text/plain": [
       "['엔플라잉', '에픽하이', '박봄', '마마무']"
      ]
     },
     "execution_count": 6,
     "metadata": {},
     "output_type": "execute_result"
    }
   ],
   "source": [
    "멜론_TOP100.pop(1)\n",
    "멜론_TOP100"
   ]
  },
  {
   "cell_type": "markdown",
   "metadata": {},
   "source": [
    "### 인덱스 (index)"
   ]
  },
  {
   "cell_type": "code",
   "execution_count": 7,
   "metadata": {},
   "outputs": [],
   "source": [
    "import requests\n",
    "from bs4 import BeautifulSoup\n",
    "\n",
    "def get_artist_list():\n",
    "    headers = {\n",
    "        'User-Agent': 'Mozilla/5.0 (Macintosh; Intel Mac OS X 10_14_3) AppleWebKit/537.36 (KHTML, like Gecko) Chrome/72.0.3626.121 Safari/537.36',\n",
    "    }\n",
    "    res = requests.get(\"https://www.melon.com/chart/index.htm\", headers=headers)\n",
    "    html = res.text\n",
    "    soup = BeautifulSoup(html, 'html.parser')\n",
    "\n",
    "    tr_tag_list = soup.select('.d_song_list tbody tr')\n",
    "    \n",
    "    artist_list = []\n",
    "\n",
    "    for tr_tag in tr_tag_list:\n",
    "        artist_tag = tr_tag.select_one('[href*=goArtistDetail]')\n",
    "        artist_list.append(artist_tag.text)\n",
    "    \n",
    "    return artist_list"
   ]
  },
  {
   "cell_type": "code",
   "execution_count": 8,
   "metadata": {
    "collapsed": true
   },
   "outputs": [
    {
     "data": {
      "text/plain": [
       "['백예린',\n",
       " '백예린',\n",
       " '에픽하이 (EPIK HIGH)',\n",
       " '박봄',\n",
       " '마마무(Mamamoo)',\n",
       " '엔플라잉 (N.Flying)',\n",
       " '백예린',\n",
       " '케이시 (Kassy)',\n",
       " '거미',\n",
       " 'ITZY (있지)',\n",
       " '10cm',\n",
       " '화사(Hwa Sa)',\n",
       " '백예린',\n",
       " '백예린',\n",
       " '우디 (Woody)',\n",
       " '백예린',\n",
       " '잔나비',\n",
       " '엠씨더맥스',\n",
       " '청하',\n",
       " '이소라',\n",
       " '하은요셉',\n",
       " '백예린',\n",
       " '윤건',\n",
       " '강현준 (Lil tachi)',\n",
       " '폴킴',\n",
       " 'Jvcki Wai',\n",
       " '하은',\n",
       " '폴킴',\n",
       " '폴킴',\n",
       " '우원재',\n",
       " '선미',\n",
       " '엠씨더맥스',\n",
       " '벤',\n",
       " '(여자)아이들',\n",
       " '닐로 (Nilo)',\n",
       " '에픽하이 (EPIK HIGH)',\n",
       " '케이윌',\n",
       " '제니 (JENNIE)',\n",
       " '김민규 (Young Kay)',\n",
       " '장덕철',\n",
       " 'TWICE (트와이스)',\n",
       " '방탄소년단',\n",
       " '숀 (SHAUN)',\n",
       " '임한별',\n",
       " 'NU`EST',\n",
       " 'Ariana Grande',\n",
       " 'MINO (송민호)',\n",
       " 'EXO',\n",
       " '방탄소년단',\n",
       " 'Ariana Grande',\n",
       " 'Anne-Marie',\n",
       " 'WINNER',\n",
       " '양다일',\n",
       " '아이유',\n",
       " '허각',\n",
       " '방탄소년단',\n",
       " '노을',\n",
       " '바이브',\n",
       " '권영훈 (TANGTHEAWESOME)',\n",
       " '닐로 (Nilo)',\n",
       " 'EXO',\n",
       " '벤',\n",
       " '양승호 (sokodomo)',\n",
       " '폴킴',\n",
       " '에픽하이 (EPIK HIGH)',\n",
       " '비투비',\n",
       " '하성운',\n",
       " '세븐틴',\n",
       " '이기광',\n",
       " '로꼬',\n",
       " '여자친구 (GFRIEND)',\n",
       " 'pH-1',\n",
       " '방탄소년단',\n",
       " '홍진영',\n",
       " '방탄소년단',\n",
       " '마마무(Mamamoo)',\n",
       " '방탄소년단',\n",
       " 'Lauv',\n",
       " '임창정',\n",
       " '양다일',\n",
       " '아이유',\n",
       " '강민수 (AQUINAS)',\n",
       " '강민경 (다비치)',\n",
       " '비투비',\n",
       " '장덕철',\n",
       " '하성운',\n",
       " '기리보이',\n",
       " '비투비',\n",
       " '방탄소년단',\n",
       " 'BLACKPINK',\n",
       " 'TWICE (트와이스)',\n",
       " 'IZ*ONE (아이즈원)',\n",
       " '첸 (CHEN)',\n",
       " '저스디스 (JUSTHIS)',\n",
       " '방탄소년단',\n",
       " '펀치 (Punch)',\n",
       " '투모로우바이투게더',\n",
       " '선미',\n",
       " 'Wanna One (워너원)',\n",
       " 'NU`EST']"
      ]
     },
     "execution_count": 8,
     "metadata": {},
     "output_type": "execute_result"
    }
   ],
   "source": [
    "멜론_TOP100 = get_artist_list()\n",
    "멜론_TOP100"
   ]
  },
  {
   "cell_type": "code",
   "execution_count": 9,
   "metadata": {},
   "outputs": [
    {
     "data": {
      "text/plain": [
       "100"
      ]
     },
     "execution_count": 9,
     "metadata": {},
     "output_type": "execute_result"
    }
   ],
   "source": [
    "len(멜론_TOP100)  # 멜론_TOP100 리스트가 가지고 있는 항목의 수"
   ]
  },
  {
   "cell_type": "code",
   "execution_count": 11,
   "metadata": {},
   "outputs": [
    {
     "name": "stdout",
     "output_type": "stream",
     "text": [
      "백예린\n",
      "백예린\n",
      "에픽하이 (EPIK HIGH)\n",
      "박봄\n",
      "마마무(Mamamoo)\n",
      "엔플라잉 (N.Flying)\n"
     ]
    }
   ],
   "source": [
    "print(멜론_TOP100[0])  # 1위 가수\n",
    "print(멜론_TOP100[1])\n",
    "print(멜론_TOP100[2])\n",
    "print(멜론_TOP100[3])\n",
    "print(멜론_TOP100[4])\n",
    "print(멜론_TOP100[5])"
   ]
  },
  {
   "cell_type": "code",
   "execution_count": 15,
   "metadata": {},
   "outputs": [
    {
     "data": {
      "text/plain": [
       "'NU`EST'"
      ]
     },
     "execution_count": 15,
     "metadata": {},
     "output_type": "execute_result"
    }
   ],
   "source": [
    "멜론_TOP100[len(멜론_TOP100) - 1]"
   ]
  },
  {
   "cell_type": "code",
   "execution_count": 16,
   "metadata": {},
   "outputs": [
    {
     "data": {
      "text/plain": [
       "'NU`EST'"
      ]
     },
     "execution_count": 16,
     "metadata": {},
     "output_type": "execute_result"
    }
   ],
   "source": [
    "멜론_TOP100[-1]"
   ]
  },
  {
   "cell_type": "code",
   "execution_count": 20,
   "metadata": {
    "collapsed": true
   },
   "outputs": [
    {
     "data": {
      "text/plain": [
       "['김건모',\n",
       " '백예린',\n",
       " '에픽하이 (EPIK HIGH)',\n",
       " '박봄',\n",
       " '마마무(Mamamoo)',\n",
       " '엔플라잉 (N.Flying)',\n",
       " '백예린',\n",
       " '케이시 (Kassy)',\n",
       " '거미',\n",
       " 'ITZY (있지)',\n",
       " '10cm',\n",
       " '화사(Hwa Sa)',\n",
       " '백예린',\n",
       " '백예린',\n",
       " '우디 (Woody)',\n",
       " '백예린',\n",
       " '잔나비',\n",
       " '엠씨더맥스',\n",
       " '청하',\n",
       " '이소라',\n",
       " '하은요셉',\n",
       " '백예린',\n",
       " '윤건',\n",
       " '강현준 (Lil tachi)',\n",
       " '폴킴',\n",
       " 'Jvcki Wai',\n",
       " '하은',\n",
       " '폴킴',\n",
       " '폴킴',\n",
       " '우원재',\n",
       " '선미',\n",
       " '엠씨더맥스',\n",
       " '벤',\n",
       " '(여자)아이들',\n",
       " '닐로 (Nilo)',\n",
       " '에픽하이 (EPIK HIGH)',\n",
       " '케이윌',\n",
       " '제니 (JENNIE)',\n",
       " '김민규 (Young Kay)',\n",
       " '장덕철',\n",
       " 'TWICE (트와이스)',\n",
       " '방탄소년단',\n",
       " '숀 (SHAUN)',\n",
       " '임한별',\n",
       " 'NU`EST',\n",
       " 'Ariana Grande',\n",
       " 'MINO (송민호)',\n",
       " 'EXO',\n",
       " '방탄소년단',\n",
       " 'Ariana Grande',\n",
       " 'Anne-Marie',\n",
       " 'WINNER',\n",
       " '양다일',\n",
       " '아이유',\n",
       " '허각',\n",
       " '방탄소년단',\n",
       " '노을',\n",
       " '바이브',\n",
       " '권영훈 (TANGTHEAWESOME)',\n",
       " '닐로 (Nilo)',\n",
       " 'EXO',\n",
       " '벤',\n",
       " '양승호 (sokodomo)',\n",
       " '폴킴',\n",
       " '에픽하이 (EPIK HIGH)',\n",
       " '비투비',\n",
       " '하성운',\n",
       " '세븐틴',\n",
       " '이기광',\n",
       " '로꼬',\n",
       " '여자친구 (GFRIEND)',\n",
       " 'pH-1',\n",
       " '방탄소년단',\n",
       " '홍진영',\n",
       " '방탄소년단',\n",
       " '마마무(Mamamoo)',\n",
       " '방탄소년단',\n",
       " 'Lauv',\n",
       " '임창정',\n",
       " '양다일',\n",
       " '아이유',\n",
       " '강민수 (AQUINAS)',\n",
       " '강민경 (다비치)',\n",
       " '비투비',\n",
       " '장덕철',\n",
       " '하성운',\n",
       " '기리보이',\n",
       " '비투비',\n",
       " '방탄소년단',\n",
       " 'BLACKPINK',\n",
       " 'TWICE (트와이스)',\n",
       " 'IZ*ONE (아이즈원)',\n",
       " '첸 (CHEN)',\n",
       " '저스디스 (JUSTHIS)',\n",
       " '방탄소년단',\n",
       " '펀치 (Punch)',\n",
       " '투모로우바이투게더',\n",
       " '선미',\n",
       " 'Wanna One (워너원)',\n",
       " 'NU`EST']"
      ]
     },
     "execution_count": 20,
     "metadata": {},
     "output_type": "execute_result"
    }
   ],
   "source": [
    "멜론_TOP100[0] = '김건모'  # 인덱스를 지정해서, 값을 변경\n",
    "멜론_TOP100"
   ]
  },
  {
   "cell_type": "code",
   "execution_count": 25,
   "metadata": {},
   "outputs": [
    {
     "name": "stdout",
     "output_type": "stream",
     "text": [
      "ITZY (있지)\n",
      "10cm\n",
      "이소라\n"
     ]
    }
   ],
   "source": [
    "print(멜론_TOP100[9])  # 10위 가수\n",
    "print(멜론_TOP100[10])  # 11위 가수\n",
    "print(멜론_TOP100[19])  # 20위 가수"
   ]
  },
  {
   "cell_type": "code",
   "execution_count": 28,
   "metadata": {},
   "outputs": [
    {
     "data": {
      "text/plain": [
       "['하은요셉',\n",
       " '백예린',\n",
       " '윤건',\n",
       " '강현준 (Lil tachi)',\n",
       " '폴킴',\n",
       " 'Jvcki Wai',\n",
       " '하은',\n",
       " '폴킴',\n",
       " '폴킴',\n",
       " '우원재']"
      ]
     },
     "execution_count": 28,
     "metadata": {},
     "output_type": "execute_result"
    }
   ],
   "source": [
    "# 21위 ~ 30위 가수\n",
    "멜론_TOP100[20:20+10]"
   ]
  },
  {
   "cell_type": "code",
   "execution_count": 31,
   "metadata": {},
   "outputs": [
    {
     "data": {
      "text/plain": [
       "['하은요셉', '폴킴', '폴킴']"
      ]
     },
     "execution_count": 31,
     "metadata": {},
     "output_type": "execute_result"
    }
   ],
   "source": [
    "# 21위 ~ 30위 가수\n",
    "멜론_TOP100[20:30:4]"
   ]
  },
  {
   "cell_type": "code",
   "execution_count": 33,
   "metadata": {},
   "outputs": [
    {
     "data": {
      "text/plain": [
       "['김건모', '백예린', '에픽하이 (EPIK HIGH)']"
      ]
     },
     "execution_count": 33,
     "metadata": {},
     "output_type": "execute_result"
    }
   ],
   "source": [
    "# 처음 3개\n",
    "멜론_TOP100[:3]"
   ]
  },
  {
   "cell_type": "code",
   "execution_count": 35,
   "metadata": {},
   "outputs": [
    {
     "data": {
      "text/plain": [
       "['선미', 'Wanna One (워너원)', 'NU`EST']"
      ]
     },
     "execution_count": 35,
     "metadata": {},
     "output_type": "execute_result"
    }
   ],
   "source": [
    "# 마지막 3개\n",
    "멜론_TOP100[-3:]"
   ]
  },
  {
   "cell_type": "code",
   "execution_count": null,
   "metadata": {},
   "outputs": [],
   "source": []
  },
  {
   "cell_type": "code",
   "execution_count": 37,
   "metadata": {},
   "outputs": [],
   "source": [
    "알파벳 = \"abcdefghijklmnopqrstuvwxyz\""
   ]
  },
  {
   "cell_type": "code",
   "execution_count": 42,
   "metadata": {},
   "outputs": [
    {
     "data": {
      "text/plain": [
       "'zyxwvutsrqponmlkjihgfedcba'"
      ]
     },
     "execution_count": 42,
     "metadata": {},
     "output_type": "execute_result"
    }
   ],
   "source": [
    "알파벳[::-1]"
   ]
  },
  {
   "cell_type": "code",
   "execution_count": null,
   "metadata": {},
   "outputs": [],
   "source": []
  },
  {
   "cell_type": "code",
   "execution_count": 43,
   "metadata": {
    "collapsed": true
   },
   "outputs": [
    {
     "data": {
      "text/plain": [
       "[1,\n",
       " 2,\n",
       " 3,\n",
       " 4,\n",
       " 5,\n",
       " 6,\n",
       " 7,\n",
       " 8,\n",
       " 9,\n",
       " 10,\n",
       " 11,\n",
       " 12,\n",
       " 13,\n",
       " 14,\n",
       " 15,\n",
       " 16,\n",
       " 17,\n",
       " 18,\n",
       " 19,\n",
       " 20,\n",
       " 21,\n",
       " 22,\n",
       " 23,\n",
       " 24,\n",
       " 25,\n",
       " 26,\n",
       " 27,\n",
       " 28,\n",
       " 29,\n",
       " 30,\n",
       " 31,\n",
       " 32,\n",
       " 33,\n",
       " 34,\n",
       " 35,\n",
       " 36,\n",
       " 37,\n",
       " 38,\n",
       " 39,\n",
       " 40,\n",
       " 41,\n",
       " 42,\n",
       " 43,\n",
       " 44,\n",
       " 45,\n",
       " 46,\n",
       " 47,\n",
       " 48,\n",
       " 49,\n",
       " 50,\n",
       " 51,\n",
       " 52,\n",
       " 53,\n",
       " 54,\n",
       " 55,\n",
       " 56,\n",
       " 57,\n",
       " 58,\n",
       " 59,\n",
       " 60,\n",
       " 61,\n",
       " 62,\n",
       " 63,\n",
       " 64,\n",
       " 65,\n",
       " 66,\n",
       " 67,\n",
       " 68,\n",
       " 69,\n",
       " 70,\n",
       " 71,\n",
       " 72,\n",
       " 73,\n",
       " 74,\n",
       " 75,\n",
       " 76,\n",
       " 77,\n",
       " 78,\n",
       " 79,\n",
       " 80,\n",
       " 81,\n",
       " 82,\n",
       " 83,\n",
       " 84,\n",
       " 85,\n",
       " 86,\n",
       " 87,\n",
       " 88,\n",
       " 89,\n",
       " 90,\n",
       " 91,\n",
       " 92,\n",
       " 93,\n",
       " 94,\n",
       " 95,\n",
       " 96,\n",
       " 97,\n",
       " 98,\n",
       " 99,\n",
       " 100]"
      ]
     },
     "execution_count": 43,
     "metadata": {},
     "output_type": "execute_result"
    }
   ],
   "source": [
    "number_list = list(range(1, 101))\n",
    "number_list"
   ]
  },
  {
   "cell_type": "code",
   "execution_count": 47,
   "metadata": {},
   "outputs": [
    {
     "data": {
      "text/plain": [
       "[20, 22, 24, 26, 28, 30, 32, 34, 36, 38, 40, 42, 44, 46, 48]"
      ]
     },
     "execution_count": 47,
     "metadata": {},
     "output_type": "execute_result"
    }
   ],
   "source": [
    "# 값 20이상 50미만의 범위에서, 2의 배수 리스트를 구해보세요.\n",
    "# 20 ~ 49 => 30개\n",
    "number_list[19:49:2]"
   ]
  },
  {
   "cell_type": "markdown",
   "metadata": {},
   "source": [
    "## 데이터 예시"
   ]
  },
  {
   "cell_type": "code",
   "execution_count": 51,
   "metadata": {},
   "outputs": [],
   "source": [
    "import seaborn as sns"
   ]
  },
  {
   "cell_type": "code",
   "execution_count": 54,
   "metadata": {},
   "outputs": [
    {
     "data": {
      "text/plain": [
       "pandas.core.frame.DataFrame"
      ]
     },
     "execution_count": 54,
     "metadata": {},
     "output_type": "execute_result"
    }
   ],
   "source": [
    "titanic = sns.load_dataset('titanic')\n",
    "type(titanic)"
   ]
  },
  {
   "cell_type": "code",
   "execution_count": 60,
   "metadata": {},
   "outputs": [
    {
     "data": {
      "text/html": [
       "<div>\n",
       "<style scoped>\n",
       "    .dataframe tbody tr th:only-of-type {\n",
       "        vertical-align: middle;\n",
       "    }\n",
       "\n",
       "    .dataframe tbody tr th {\n",
       "        vertical-align: top;\n",
       "    }\n",
       "\n",
       "    .dataframe thead th {\n",
       "        text-align: right;\n",
       "    }\n",
       "</style>\n",
       "<table border=\"1\" class=\"dataframe\">\n",
       "  <thead>\n",
       "    <tr style=\"text-align: right;\">\n",
       "      <th></th>\n",
       "      <th>embark_town</th>\n",
       "      <th>alive</th>\n",
       "      <th>alone</th>\n",
       "    </tr>\n",
       "  </thead>\n",
       "  <tbody>\n",
       "    <tr>\n",
       "      <th>0</th>\n",
       "      <td>Southampton</td>\n",
       "      <td>no</td>\n",
       "      <td>False</td>\n",
       "    </tr>\n",
       "    <tr>\n",
       "      <th>1</th>\n",
       "      <td>Cherbourg</td>\n",
       "      <td>yes</td>\n",
       "      <td>False</td>\n",
       "    </tr>\n",
       "    <tr>\n",
       "      <th>2</th>\n",
       "      <td>Southampton</td>\n",
       "      <td>yes</td>\n",
       "      <td>True</td>\n",
       "    </tr>\n",
       "    <tr>\n",
       "      <th>3</th>\n",
       "      <td>Southampton</td>\n",
       "      <td>yes</td>\n",
       "      <td>False</td>\n",
       "    </tr>\n",
       "    <tr>\n",
       "      <th>4</th>\n",
       "      <td>Southampton</td>\n",
       "      <td>no</td>\n",
       "      <td>True</td>\n",
       "    </tr>\n",
       "  </tbody>\n",
       "</table>\n",
       "</div>"
      ],
      "text/plain": [
       "   embark_town alive  alone\n",
       "0  Southampton    no  False\n",
       "1    Cherbourg   yes  False\n",
       "2  Southampton   yes   True\n",
       "3  Southampton   yes  False\n",
       "4  Southampton    no   True"
      ]
     },
     "execution_count": 60,
     "metadata": {},
     "output_type": "execute_result"
    }
   ],
   "source": [
    "# 처음 3행\n",
    "titanic.iloc[:3]\n",
    "titanic.iloc[:5, -3:]  # 처음 5개에 대해서, 마지막 3개 컬럼"
   ]
  },
  {
   "cell_type": "code",
   "execution_count": null,
   "metadata": {},
   "outputs": [],
   "source": []
  },
  {
   "cell_type": "code",
   "execution_count": null,
   "metadata": {},
   "outputs": [],
   "source": []
  },
  {
   "cell_type": "code",
   "execution_count": null,
   "metadata": {},
   "outputs": [],
   "source": []
  },
  {
   "cell_type": "code",
   "execution_count": null,
   "metadata": {},
   "outputs": [],
   "source": []
  },
  {
   "cell_type": "code",
   "execution_count": null,
   "metadata": {},
   "outputs": [],
   "source": []
  }
 ],
 "metadata": {
  "kernelspec": {
   "display_name": "Python 3",
   "language": "python",
   "name": "python3"
  },
  "language_info": {
   "codemirror_mode": {
    "name": "ipython",
    "version": 3
   },
   "file_extension": ".py",
   "mimetype": "text/x-python",
   "name": "python",
   "nbconvert_exporter": "python",
   "pygments_lexer": "ipython3",
   "version": "3.7.0"
  }
 },
 "nbformat": 4,
 "nbformat_minor": 2
}
