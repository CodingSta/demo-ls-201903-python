{
 "cells": [
  {
   "cell_type": "markdown",
   "metadata": {},
   "source": [
    "## 기본 자료구조"
   ]
  },
  {
   "cell_type": "markdown",
   "metadata": {},
   "source": [
    "### 리스트"
   ]
  },
  {
   "cell_type": "code",
   "execution_count": 1,
   "metadata": {},
   "outputs": [
    {
     "data": {
      "text/plain": [
       "['백예린', '백예린', '에픽하이']"
      ]
     },
     "execution_count": 1,
     "metadata": {},
     "output_type": "execute_result"
    }
   ],
   "source": [
    "멜론_TOP100 = [\n",
    "    '백예린', '백예린', '에픽하이',\n",
    "]\n",
    "멜론_TOP100"
   ]
  },
  {
   "cell_type": "code",
   "execution_count": 3,
   "metadata": {},
   "outputs": [
    {
     "data": {
      "text/plain": [
       "['백예린', '백예린', '에픽하이', '박봄', '마마무']"
      ]
     },
     "execution_count": 3,
     "metadata": {},
     "output_type": "execute_result"
    }
   ],
   "source": [
    "멜론_TOP100.append('박봄')\n",
    "멜론_TOP100.append('마마무')\n",
    "멜론_TOP100"
   ]
  },
  {
   "cell_type": "code",
   "execution_count": 4,
   "metadata": {},
   "outputs": [
    {
     "data": {
      "text/plain": [
       "['엔플라잉', '백예린', '백예린', '에픽하이', '박봄', '마마무']"
      ]
     },
     "execution_count": 4,
     "metadata": {},
     "output_type": "execute_result"
    }
   ],
   "source": [
    "멜론_TOP100.insert(0, '엔플라잉')\n",
    "멜론_TOP100"
   ]
  },
  {
   "cell_type": "code",
   "execution_count": 5,
   "metadata": {},
   "outputs": [
    {
     "data": {
      "text/plain": [
       "['엔플라잉', '백예린', '에픽하이', '박봄', '마마무']"
      ]
     },
     "execution_count": 5,
     "metadata": {},
     "output_type": "execute_result"
    }
   ],
   "source": [
    "멜론_TOP100.remove('백예린')\n",
    "멜론_TOP100"
   ]
  },
  {
   "cell_type": "code",
   "execution_count": 6,
   "metadata": {},
   "outputs": [
    {
     "data": {
      "text/plain": [
       "['엔플라잉', '에픽하이', '박봄', '마마무']"
      ]
     },
     "execution_count": 6,
     "metadata": {},
     "output_type": "execute_result"
    }
   ],
   "source": [
    "멜론_TOP100.pop(1)\n",
    "멜론_TOP100"
   ]
  },
  {
   "cell_type": "markdown",
   "metadata": {},
   "source": [
    "### 인덱스 (index)"
   ]
  },
  {
   "cell_type": "code",
   "execution_count": 7,
   "metadata": {},
   "outputs": [],
   "source": [
    "import requests\n",
    "from bs4 import BeautifulSoup\n",
    "\n",
    "def get_artist_list():\n",
    "    headers = {\n",
    "        'User-Agent': 'Mozilla/5.0 (Macintosh; Intel Mac OS X 10_14_3) AppleWebKit/537.36 (KHTML, like Gecko) Chrome/72.0.3626.121 Safari/537.36',\n",
    "    }\n",
    "    res = requests.get(\"https://www.melon.com/chart/index.htm\", headers=headers)\n",
    "    html = res.text\n",
    "    soup = BeautifulSoup(html, 'html.parser')\n",
    "\n",
    "    tr_tag_list = soup.select('.d_song_list tbody tr')\n",
    "    \n",
    "    artist_list = []\n",
    "\n",
    "    for tr_tag in tr_tag_list:\n",
    "        artist_tag = tr_tag.select_one('[href*=goArtistDetail]')\n",
    "        artist_list.append(artist_tag.text)\n",
    "    \n",
    "    return artist_list"
   ]
  },
  {
   "cell_type": "code",
   "execution_count": 8,
   "metadata": {
    "collapsed": true
   },
   "outputs": [
    {
     "data": {
      "text/plain": [
       "['백예린',\n",
       " '백예린',\n",
       " '에픽하이 (EPIK HIGH)',\n",
       " '박봄',\n",
       " '마마무(Mamamoo)',\n",
       " '엔플라잉 (N.Flying)',\n",
       " '백예린',\n",
       " '케이시 (Kassy)',\n",
       " '거미',\n",
       " 'ITZY (있지)',\n",
       " '10cm',\n",
       " '화사(Hwa Sa)',\n",
       " '백예린',\n",
       " '백예린',\n",
       " '우디 (Woody)',\n",
       " '백예린',\n",
       " '잔나비',\n",
       " '엠씨더맥스',\n",
       " '청하',\n",
       " '이소라',\n",
       " '하은요셉',\n",
       " '백예린',\n",
       " '윤건',\n",
       " '강현준 (Lil tachi)',\n",
       " '폴킴',\n",
       " 'Jvcki Wai',\n",
       " '하은',\n",
       " '폴킴',\n",
       " '폴킴',\n",
       " '우원재',\n",
       " '선미',\n",
       " '엠씨더맥스',\n",
       " '벤',\n",
       " '(여자)아이들',\n",
       " '닐로 (Nilo)',\n",
       " '에픽하이 (EPIK HIGH)',\n",
       " '케이윌',\n",
       " '제니 (JENNIE)',\n",
       " '김민규 (Young Kay)',\n",
       " '장덕철',\n",
       " 'TWICE (트와이스)',\n",
       " '방탄소년단',\n",
       " '숀 (SHAUN)',\n",
       " '임한별',\n",
       " 'NU`EST',\n",
       " 'Ariana Grande',\n",
       " 'MINO (송민호)',\n",
       " 'EXO',\n",
       " '방탄소년단',\n",
       " 'Ariana Grande',\n",
       " 'Anne-Marie',\n",
       " 'WINNER',\n",
       " '양다일',\n",
       " '아이유',\n",
       " '허각',\n",
       " '방탄소년단',\n",
       " '노을',\n",
       " '바이브',\n",
       " '권영훈 (TANGTHEAWESOME)',\n",
       " '닐로 (Nilo)',\n",
       " 'EXO',\n",
       " '벤',\n",
       " '양승호 (sokodomo)',\n",
       " '폴킴',\n",
       " '에픽하이 (EPIK HIGH)',\n",
       " '비투비',\n",
       " '하성운',\n",
       " '세븐틴',\n",
       " '이기광',\n",
       " '로꼬',\n",
       " '여자친구 (GFRIEND)',\n",
       " 'pH-1',\n",
       " '방탄소년단',\n",
       " '홍진영',\n",
       " '방탄소년단',\n",
       " '마마무(Mamamoo)',\n",
       " '방탄소년단',\n",
       " 'Lauv',\n",
       " '임창정',\n",
       " '양다일',\n",
       " '아이유',\n",
       " '강민수 (AQUINAS)',\n",
       " '강민경 (다비치)',\n",
       " '비투비',\n",
       " '장덕철',\n",
       " '하성운',\n",
       " '기리보이',\n",
       " '비투비',\n",
       " '방탄소년단',\n",
       " 'BLACKPINK',\n",
       " 'TWICE (트와이스)',\n",
       " 'IZ*ONE (아이즈원)',\n",
       " '첸 (CHEN)',\n",
       " '저스디스 (JUSTHIS)',\n",
       " '방탄소년단',\n",
       " '펀치 (Punch)',\n",
       " '투모로우바이투게더',\n",
       " '선미',\n",
       " 'Wanna One (워너원)',\n",
       " 'NU`EST']"
      ]
     },
     "execution_count": 8,
     "metadata": {},
     "output_type": "execute_result"
    }
   ],
   "source": [
    "멜론_TOP100 = get_artist_list()\n",
    "멜론_TOP100"
   ]
  },
  {
   "cell_type": "code",
   "execution_count": 9,
   "metadata": {},
   "outputs": [
    {
     "data": {
      "text/plain": [
       "100"
      ]
     },
     "execution_count": 9,
     "metadata": {},
     "output_type": "execute_result"
    }
   ],
   "source": [
    "len(멜론_TOP100)  # 멜론_TOP100 리스트가 가지고 있는 항목의 수"
   ]
  },
  {
   "cell_type": "code",
   "execution_count": 11,
   "metadata": {},
   "outputs": [
    {
     "name": "stdout",
     "output_type": "stream",
     "text": [
      "백예린\n",
      "백예린\n",
      "에픽하이 (EPIK HIGH)\n",
      "박봄\n",
      "마마무(Mamamoo)\n",
      "엔플라잉 (N.Flying)\n"
     ]
    }
   ],
   "source": [
    "print(멜론_TOP100[0])  # 1위 가수\n",
    "print(멜론_TOP100[1])\n",
    "print(멜론_TOP100[2])\n",
    "print(멜론_TOP100[3])\n",
    "print(멜론_TOP100[4])\n",
    "print(멜론_TOP100[5])"
   ]
  },
  {
   "cell_type": "code",
   "execution_count": 15,
   "metadata": {},
   "outputs": [
    {
     "data": {
      "text/plain": [
       "'NU`EST'"
      ]
     },
     "execution_count": 15,
     "metadata": {},
     "output_type": "execute_result"
    }
   ],
   "source": [
    "멜론_TOP100[len(멜론_TOP100) - 1]"
   ]
  },
  {
   "cell_type": "code",
   "execution_count": 16,
   "metadata": {},
   "outputs": [
    {
     "data": {
      "text/plain": [
       "'NU`EST'"
      ]
     },
     "execution_count": 16,
     "metadata": {},
     "output_type": "execute_result"
    }
   ],
   "source": [
    "멜론_TOP100[-1]"
   ]
  },
  {
   "cell_type": "code",
   "execution_count": 20,
   "metadata": {
    "collapsed": true
   },
   "outputs": [
    {
     "data": {
      "text/plain": [
       "['김건모',\n",
       " '백예린',\n",
       " '에픽하이 (EPIK HIGH)',\n",
       " '박봄',\n",
       " '마마무(Mamamoo)',\n",
       " '엔플라잉 (N.Flying)',\n",
       " '백예린',\n",
       " '케이시 (Kassy)',\n",
       " '거미',\n",
       " 'ITZY (있지)',\n",
       " '10cm',\n",
       " '화사(Hwa Sa)',\n",
       " '백예린',\n",
       " '백예린',\n",
       " '우디 (Woody)',\n",
       " '백예린',\n",
       " '잔나비',\n",
       " '엠씨더맥스',\n",
       " '청하',\n",
       " '이소라',\n",
       " '하은요셉',\n",
       " '백예린',\n",
       " '윤건',\n",
       " '강현준 (Lil tachi)',\n",
       " '폴킴',\n",
       " 'Jvcki Wai',\n",
       " '하은',\n",
       " '폴킴',\n",
       " '폴킴',\n",
       " '우원재',\n",
       " '선미',\n",
       " '엠씨더맥스',\n",
       " '벤',\n",
       " '(여자)아이들',\n",
       " '닐로 (Nilo)',\n",
       " '에픽하이 (EPIK HIGH)',\n",
       " '케이윌',\n",
       " '제니 (JENNIE)',\n",
       " '김민규 (Young Kay)',\n",
       " '장덕철',\n",
       " 'TWICE (트와이스)',\n",
       " '방탄소년단',\n",
       " '숀 (SHAUN)',\n",
       " '임한별',\n",
       " 'NU`EST',\n",
       " 'Ariana Grande',\n",
       " 'MINO (송민호)',\n",
       " 'EXO',\n",
       " '방탄소년단',\n",
       " 'Ariana Grande',\n",
       " 'Anne-Marie',\n",
       " 'WINNER',\n",
       " '양다일',\n",
       " '아이유',\n",
       " '허각',\n",
       " '방탄소년단',\n",
       " '노을',\n",
       " '바이브',\n",
       " '권영훈 (TANGTHEAWESOME)',\n",
       " '닐로 (Nilo)',\n",
       " 'EXO',\n",
       " '벤',\n",
       " '양승호 (sokodomo)',\n",
       " '폴킴',\n",
       " '에픽하이 (EPIK HIGH)',\n",
       " '비투비',\n",
       " '하성운',\n",
       " '세븐틴',\n",
       " '이기광',\n",
       " '로꼬',\n",
       " '여자친구 (GFRIEND)',\n",
       " 'pH-1',\n",
       " '방탄소년단',\n",
       " '홍진영',\n",
       " '방탄소년단',\n",
       " '마마무(Mamamoo)',\n",
       " '방탄소년단',\n",
       " 'Lauv',\n",
       " '임창정',\n",
       " '양다일',\n",
       " '아이유',\n",
       " '강민수 (AQUINAS)',\n",
       " '강민경 (다비치)',\n",
       " '비투비',\n",
       " '장덕철',\n",
       " '하성운',\n",
       " '기리보이',\n",
       " '비투비',\n",
       " '방탄소년단',\n",
       " 'BLACKPINK',\n",
       " 'TWICE (트와이스)',\n",
       " 'IZ*ONE (아이즈원)',\n",
       " '첸 (CHEN)',\n",
       " '저스디스 (JUSTHIS)',\n",
       " '방탄소년단',\n",
       " '펀치 (Punch)',\n",
       " '투모로우바이투게더',\n",
       " '선미',\n",
       " 'Wanna One (워너원)',\n",
       " 'NU`EST']"
      ]
     },
     "execution_count": 20,
     "metadata": {},
     "output_type": "execute_result"
    }
   ],
   "source": [
    "멜론_TOP100[0] = '김건모'  # 인덱스를 지정해서, 값을 변경\n",
    "멜론_TOP100"
   ]
  },
  {
   "cell_type": "code",
   "execution_count": 25,
   "metadata": {},
   "outputs": [
    {
     "name": "stdout",
     "output_type": "stream",
     "text": [
      "ITZY (있지)\n",
      "10cm\n",
      "이소라\n"
     ]
    }
   ],
   "source": [
    "print(멜론_TOP100[9])  # 10위 가수\n",
    "print(멜론_TOP100[10])  # 11위 가수\n",
    "print(멜론_TOP100[19])  # 20위 가수"
   ]
  },
  {
   "cell_type": "code",
   "execution_count": 28,
   "metadata": {},
   "outputs": [
    {
     "data": {
      "text/plain": [
       "['하은요셉',\n",
       " '백예린',\n",
       " '윤건',\n",
       " '강현준 (Lil tachi)',\n",
       " '폴킴',\n",
       " 'Jvcki Wai',\n",
       " '하은',\n",
       " '폴킴',\n",
       " '폴킴',\n",
       " '우원재']"
      ]
     },
     "execution_count": 28,
     "metadata": {},
     "output_type": "execute_result"
    }
   ],
   "source": [
    "# 21위 ~ 30위 가수\n",
    "멜론_TOP100[20:20+10]"
   ]
  },
  {
   "cell_type": "code",
   "execution_count": 31,
   "metadata": {},
   "outputs": [
    {
     "data": {
      "text/plain": [
       "['하은요셉', '폴킴', '폴킴']"
      ]
     },
     "execution_count": 31,
     "metadata": {},
     "output_type": "execute_result"
    }
   ],
   "source": [
    "# 21위 ~ 30위 가수\n",
    "멜론_TOP100[20:30:4]"
   ]
  },
  {
   "cell_type": "code",
   "execution_count": 33,
   "metadata": {},
   "outputs": [
    {
     "data": {
      "text/plain": [
       "['김건모', '백예린', '에픽하이 (EPIK HIGH)']"
      ]
     },
     "execution_count": 33,
     "metadata": {},
     "output_type": "execute_result"
    }
   ],
   "source": [
    "# 처음 3개\n",
    "멜론_TOP100[:3]"
   ]
  },
  {
   "cell_type": "code",
   "execution_count": 35,
   "metadata": {},
   "outputs": [
    {
     "data": {
      "text/plain": [
       "['선미', 'Wanna One (워너원)', 'NU`EST']"
      ]
     },
     "execution_count": 35,
     "metadata": {},
     "output_type": "execute_result"
    }
   ],
   "source": [
    "# 마지막 3개\n",
    "멜론_TOP100[-3:]"
   ]
  },
  {
   "cell_type": "code",
   "execution_count": null,
   "metadata": {},
   "outputs": [],
   "source": []
  },
  {
   "cell_type": "code",
   "execution_count": 37,
   "metadata": {},
   "outputs": [],
   "source": [
    "알파벳 = \"abcdefghijklmnopqrstuvwxyz\""
   ]
  },
  {
   "cell_type": "code",
   "execution_count": 42,
   "metadata": {},
   "outputs": [
    {
     "data": {
      "text/plain": [
       "'zyxwvutsrqponmlkjihgfedcba'"
      ]
     },
     "execution_count": 42,
     "metadata": {},
     "output_type": "execute_result"
    }
   ],
   "source": [
    "알파벳[::-1]"
   ]
  },
  {
   "cell_type": "code",
   "execution_count": null,
   "metadata": {},
   "outputs": [],
   "source": []
  },
  {
   "cell_type": "code",
   "execution_count": 43,
   "metadata": {
    "collapsed": true
   },
   "outputs": [
    {
     "data": {
      "text/plain": [
       "[1,\n",
       " 2,\n",
       " 3,\n",
       " 4,\n",
       " 5,\n",
       " 6,\n",
       " 7,\n",
       " 8,\n",
       " 9,\n",
       " 10,\n",
       " 11,\n",
       " 12,\n",
       " 13,\n",
       " 14,\n",
       " 15,\n",
       " 16,\n",
       " 17,\n",
       " 18,\n",
       " 19,\n",
       " 20,\n",
       " 21,\n",
       " 22,\n",
       " 23,\n",
       " 24,\n",
       " 25,\n",
       " 26,\n",
       " 27,\n",
       " 28,\n",
       " 29,\n",
       " 30,\n",
       " 31,\n",
       " 32,\n",
       " 33,\n",
       " 34,\n",
       " 35,\n",
       " 36,\n",
       " 37,\n",
       " 38,\n",
       " 39,\n",
       " 40,\n",
       " 41,\n",
       " 42,\n",
       " 43,\n",
       " 44,\n",
       " 45,\n",
       " 46,\n",
       " 47,\n",
       " 48,\n",
       " 49,\n",
       " 50,\n",
       " 51,\n",
       " 52,\n",
       " 53,\n",
       " 54,\n",
       " 55,\n",
       " 56,\n",
       " 57,\n",
       " 58,\n",
       " 59,\n",
       " 60,\n",
       " 61,\n",
       " 62,\n",
       " 63,\n",
       " 64,\n",
       " 65,\n",
       " 66,\n",
       " 67,\n",
       " 68,\n",
       " 69,\n",
       " 70,\n",
       " 71,\n",
       " 72,\n",
       " 73,\n",
       " 74,\n",
       " 75,\n",
       " 76,\n",
       " 77,\n",
       " 78,\n",
       " 79,\n",
       " 80,\n",
       " 81,\n",
       " 82,\n",
       " 83,\n",
       " 84,\n",
       " 85,\n",
       " 86,\n",
       " 87,\n",
       " 88,\n",
       " 89,\n",
       " 90,\n",
       " 91,\n",
       " 92,\n",
       " 93,\n",
       " 94,\n",
       " 95,\n",
       " 96,\n",
       " 97,\n",
       " 98,\n",
       " 99,\n",
       " 100]"
      ]
     },
     "execution_count": 43,
     "metadata": {},
     "output_type": "execute_result"
    }
   ],
   "source": [
    "number_list = list(range(1, 101))\n",
    "number_list"
   ]
  },
  {
   "cell_type": "code",
   "execution_count": 47,
   "metadata": {},
   "outputs": [
    {
     "data": {
      "text/plain": [
       "[20, 22, 24, 26, 28, 30, 32, 34, 36, 38, 40, 42, 44, 46, 48]"
      ]
     },
     "execution_count": 47,
     "metadata": {},
     "output_type": "execute_result"
    }
   ],
   "source": [
    "# 값 20이상 50미만의 범위에서, 2의 배수 리스트를 구해보세요.\n",
    "# 20 ~ 49 => 30개\n",
    "number_list[19:49:2]"
   ]
  },
  {
   "cell_type": "markdown",
   "metadata": {},
   "source": [
    "한 리스트에 담겨진 값을 여러 변수에 나눠 저장"
   ]
  },
  {
   "cell_type": "code",
   "execution_count": 67,
   "metadata": {},
   "outputs": [
    {
     "data": {
      "text/plain": [
       "'김건모'"
      ]
     },
     "execution_count": 67,
     "metadata": {},
     "output_type": "execute_result"
    }
   ],
   "source": [
    "_1위곡 = 멜론_TOP100[:5][0]\n",
    "_2위곡 = 멜론_TOP100[:5][1]\n",
    "_3위곡 = 멜론_TOP100[:5][2]\n",
    "_4위곡 = 멜론_TOP100[:5][3]\n",
    "_5위곡 = 멜론_TOP100[:5][4]\n",
    "_1위곡"
   ]
  },
  {
   "cell_type": "code",
   "execution_count": 69,
   "metadata": {},
   "outputs": [],
   "source": [
    "_1위곡, _2위곡, _3위곡, _4위곡, _5위곡 = 멜론_TOP100[:5]"
   ]
  },
  {
   "cell_type": "code",
   "execution_count": 80,
   "metadata": {
    "collapsed": true
   },
   "outputs": [
    {
     "data": {
      "text/plain": [
       "['박봄',\n",
       " '마마무(Mamamoo)',\n",
       " '엔플라잉 (N.Flying)',\n",
       " '백예린',\n",
       " '케이시 (Kassy)',\n",
       " '거미',\n",
       " 'ITZY (있지)',\n",
       " '10cm',\n",
       " '화사(Hwa Sa)',\n",
       " '백예린',\n",
       " '백예린',\n",
       " '우디 (Woody)',\n",
       " '백예린',\n",
       " '잔나비',\n",
       " '엠씨더맥스',\n",
       " '청하',\n",
       " '이소라',\n",
       " '하은요셉',\n",
       " '백예린',\n",
       " '윤건',\n",
       " '강현준 (Lil tachi)',\n",
       " '폴킴',\n",
       " 'Jvcki Wai',\n",
       " '하은',\n",
       " '폴킴',\n",
       " '폴킴',\n",
       " '우원재',\n",
       " '선미',\n",
       " '엠씨더맥스',\n",
       " '벤',\n",
       " '(여자)아이들',\n",
       " '닐로 (Nilo)',\n",
       " '에픽하이 (EPIK HIGH)',\n",
       " '케이윌',\n",
       " '제니 (JENNIE)',\n",
       " '김민규 (Young Kay)',\n",
       " '장덕철',\n",
       " 'TWICE (트와이스)',\n",
       " '방탄소년단',\n",
       " '숀 (SHAUN)',\n",
       " '임한별',\n",
       " 'NU`EST',\n",
       " 'Ariana Grande',\n",
       " 'MINO (송민호)',\n",
       " 'EXO',\n",
       " '방탄소년단',\n",
       " 'Ariana Grande',\n",
       " 'Anne-Marie',\n",
       " 'WINNER',\n",
       " '양다일',\n",
       " '아이유',\n",
       " '허각',\n",
       " '방탄소년단',\n",
       " '노을',\n",
       " '바이브',\n",
       " '권영훈 (TANGTHEAWESOME)',\n",
       " '닐로 (Nilo)',\n",
       " 'EXO',\n",
       " '벤',\n",
       " '양승호 (sokodomo)',\n",
       " '폴킴',\n",
       " '에픽하이 (EPIK HIGH)',\n",
       " '비투비',\n",
       " '하성운',\n",
       " '세븐틴',\n",
       " '이기광',\n",
       " '로꼬',\n",
       " '여자친구 (GFRIEND)',\n",
       " 'pH-1',\n",
       " '방탄소년단',\n",
       " '홍진영',\n",
       " '방탄소년단',\n",
       " '마마무(Mamamoo)',\n",
       " '방탄소년단',\n",
       " 'Lauv',\n",
       " '임창정',\n",
       " '양다일',\n",
       " '아이유',\n",
       " '강민수 (AQUINAS)',\n",
       " '강민경 (다비치)',\n",
       " '비투비',\n",
       " '장덕철',\n",
       " '하성운',\n",
       " '기리보이',\n",
       " '비투비',\n",
       " '방탄소년단',\n",
       " 'BLACKPINK',\n",
       " 'TWICE (트와이스)',\n",
       " 'IZ*ONE (아이즈원)',\n",
       " '첸 (CHEN)',\n",
       " '저스디스 (JUSTHIS)',\n",
       " '방탄소년단',\n",
       " '펀치 (Punch)',\n",
       " '투모로우바이투게더']"
      ]
     },
     "execution_count": 80,
     "metadata": {},
     "output_type": "execute_result"
    }
   ],
   "source": [
    "a, b, c = 멜론_TOP100[:3]\n",
    "x, y, z = 멜론_TOP100[-3:]\n",
    "\n",
    "# 이런 문법도 있다.\n",
    "a, b, c, *_, x, y, z = 멜론_TOP100\n",
    "_"
   ]
  },
  {
   "cell_type": "code",
   "execution_count": 73,
   "metadata": {},
   "outputs": [],
   "source": [
    "# x = 1\n",
    "# y = 2\n",
    "\n",
    "# x, y = [1, 2]  # list\n",
    "# x, y = (1, 2)  # tuple\n",
    "x, y = 1, 2  # tuple"
   ]
  },
  {
   "cell_type": "code",
   "execution_count": 75,
   "metadata": {},
   "outputs": [
    {
     "ename": "ValueError",
     "evalue": "too many values to unpack (expected 3)",
     "output_type": "error",
     "traceback": [
      "\u001b[0;31m---------------------------------------------------------------------------\u001b[0m",
      "\u001b[0;31mValueError\u001b[0m                                Traceback (most recent call last)",
      "\u001b[0;32m<ipython-input-75-fa60cb8a6b9a>\u001b[0m in \u001b[0;36m<module>\u001b[0;34m()\u001b[0m\n\u001b[0;32m----> 1\u001b[0;31m \u001b[0mx\u001b[0m\u001b[0;34m,\u001b[0m \u001b[0my\u001b[0m\u001b[0;34m,\u001b[0m \u001b[0mz\u001b[0m \u001b[0;34m=\u001b[0m \u001b[0;36m1\u001b[0m\u001b[0;34m,\u001b[0m \u001b[0;36m2\u001b[0m\u001b[0;34m,\u001b[0m \u001b[0;36m3\u001b[0m\u001b[0;34m,\u001b[0m \u001b[0;36m4\u001b[0m\u001b[0;34m\u001b[0m\u001b[0m\n\u001b[0m",
      "\u001b[0;31mValueError\u001b[0m: too many values to unpack (expected 3)"
     ]
    }
   ],
   "source": [
    "x, y, z = 1, 2, 3, 4"
   ]
  },
  {
   "cell_type": "code",
   "execution_count": null,
   "metadata": {},
   "outputs": [],
   "source": []
  },
  {
   "cell_type": "code",
   "execution_count": null,
   "metadata": {},
   "outputs": [],
   "source": []
  },
  {
   "cell_type": "markdown",
   "metadata": {},
   "source": [
    "## 데이터 예시"
   ]
  },
  {
   "cell_type": "code",
   "execution_count": 51,
   "metadata": {},
   "outputs": [],
   "source": [
    "import seaborn as sns"
   ]
  },
  {
   "cell_type": "code",
   "execution_count": 54,
   "metadata": {},
   "outputs": [
    {
     "data": {
      "text/plain": [
       "pandas.core.frame.DataFrame"
      ]
     },
     "execution_count": 54,
     "metadata": {},
     "output_type": "execute_result"
    }
   ],
   "source": [
    "titanic = sns.load_dataset('titanic')\n",
    "type(titanic)"
   ]
  },
  {
   "cell_type": "code",
   "execution_count": 60,
   "metadata": {},
   "outputs": [
    {
     "data": {
      "text/html": [
       "<div>\n",
       "<style scoped>\n",
       "    .dataframe tbody tr th:only-of-type {\n",
       "        vertical-align: middle;\n",
       "    }\n",
       "\n",
       "    .dataframe tbody tr th {\n",
       "        vertical-align: top;\n",
       "    }\n",
       "\n",
       "    .dataframe thead th {\n",
       "        text-align: right;\n",
       "    }\n",
       "</style>\n",
       "<table border=\"1\" class=\"dataframe\">\n",
       "  <thead>\n",
       "    <tr style=\"text-align: right;\">\n",
       "      <th></th>\n",
       "      <th>embark_town</th>\n",
       "      <th>alive</th>\n",
       "      <th>alone</th>\n",
       "    </tr>\n",
       "  </thead>\n",
       "  <tbody>\n",
       "    <tr>\n",
       "      <th>0</th>\n",
       "      <td>Southampton</td>\n",
       "      <td>no</td>\n",
       "      <td>False</td>\n",
       "    </tr>\n",
       "    <tr>\n",
       "      <th>1</th>\n",
       "      <td>Cherbourg</td>\n",
       "      <td>yes</td>\n",
       "      <td>False</td>\n",
       "    </tr>\n",
       "    <tr>\n",
       "      <th>2</th>\n",
       "      <td>Southampton</td>\n",
       "      <td>yes</td>\n",
       "      <td>True</td>\n",
       "    </tr>\n",
       "    <tr>\n",
       "      <th>3</th>\n",
       "      <td>Southampton</td>\n",
       "      <td>yes</td>\n",
       "      <td>False</td>\n",
       "    </tr>\n",
       "    <tr>\n",
       "      <th>4</th>\n",
       "      <td>Southampton</td>\n",
       "      <td>no</td>\n",
       "      <td>True</td>\n",
       "    </tr>\n",
       "  </tbody>\n",
       "</table>\n",
       "</div>"
      ],
      "text/plain": [
       "   embark_town alive  alone\n",
       "0  Southampton    no  False\n",
       "1    Cherbourg   yes  False\n",
       "2  Southampton   yes   True\n",
       "3  Southampton   yes  False\n",
       "4  Southampton    no   True"
      ]
     },
     "execution_count": 60,
     "metadata": {},
     "output_type": "execute_result"
    }
   ],
   "source": [
    "# 처음 3행\n",
    "titanic.iloc[:3]\n",
    "titanic.iloc[:5, -3:]  # 처음 5개에 대해서, 마지막 3개 컬럼"
   ]
  },
  {
   "cell_type": "code",
   "execution_count": 63,
   "metadata": {},
   "outputs": [
    {
     "data": {
      "text/plain": [
       "0    Southampton\n",
       "1      Cherbourg\n",
       "2    Southampton\n",
       "3    Southampton\n",
       "4    Southampton\n",
       "Name: embark_town, dtype: object"
      ]
     },
     "execution_count": 63,
     "metadata": {},
     "output_type": "execute_result"
    }
   ],
   "source": [
    "titanic.iloc[:5, -3]  # 처음 5개에 대해서, 마지막 3개 컬럼"
   ]
  },
  {
   "cell_type": "markdown",
   "metadata": {},
   "source": [
    "## 튜플 (tuple)"
   ]
  },
  {
   "cell_type": "code",
   "execution_count": 81,
   "metadata": {},
   "outputs": [
    {
     "data": {
      "text/plain": [
       "list"
      ]
     },
     "execution_count": 81,
     "metadata": {},
     "output_type": "execute_result"
    }
   ],
   "source": [
    "numbers = [1, 2, 3]  # list\n",
    "type(numbers)"
   ]
  },
  {
   "cell_type": "code",
   "execution_count": 82,
   "metadata": {},
   "outputs": [
    {
     "data": {
      "text/plain": [
       "tuple"
      ]
     },
     "execution_count": 82,
     "metadata": {},
     "output_type": "execute_result"
    }
   ],
   "source": [
    "numbers = (1, 2, 3)  # tuple\n",
    "type(numbers)"
   ]
  },
  {
   "cell_type": "code",
   "execution_count": 89,
   "metadata": {},
   "outputs": [],
   "source": [
    "numbers = (1, 2, 3, 4)"
   ]
  },
  {
   "cell_type": "code",
   "execution_count": 93,
   "metadata": {},
   "outputs": [
    {
     "ename": "TypeError",
     "evalue": "'tuple' object does not support item assignment",
     "output_type": "error",
     "traceback": [
      "\u001b[0;31m---------------------------------------------------------------------------\u001b[0m",
      "\u001b[0;31mTypeError\u001b[0m                                 Traceback (most recent call last)",
      "\u001b[0;32m<ipython-input-93-b2ff7c8a15d6>\u001b[0m in \u001b[0;36m<module>\u001b[0;34m()\u001b[0m\n\u001b[0;32m----> 1\u001b[0;31m \u001b[0mnumbers\u001b[0m\u001b[0;34m[\u001b[0m\u001b[0;36m0\u001b[0m\u001b[0;34m]\u001b[0m \u001b[0;34m=\u001b[0m \u001b[0;36m5\u001b[0m\u001b[0;34m\u001b[0m\u001b[0m\n\u001b[0m",
      "\u001b[0;31mTypeError\u001b[0m: 'tuple' object does not support item assignment"
     ]
    }
   ],
   "source": [
    "numbers[0] = 5"
   ]
  },
  {
   "cell_type": "code",
   "execution_count": 95,
   "metadata": {},
   "outputs": [
    {
     "data": {
      "text/plain": [
       "20"
      ]
     },
     "execution_count": 95,
     "metadata": {},
     "output_type": "execute_result"
    }
   ],
   "source": [
    "(2 + 3) * 4"
   ]
  },
  {
   "cell_type": "code",
   "execution_count": 108,
   "metadata": {},
   "outputs": [
    {
     "data": {
      "text/plain": [
       "1"
      ]
     },
     "execution_count": 108,
     "metadata": {},
     "output_type": "execute_result"
    }
   ],
   "source": [
    "numbers = 1,  # 튜플은 콤마가 필수입니다.\n",
    "numbers[0]"
   ]
  },
  {
   "cell_type": "code",
   "execution_count": null,
   "metadata": {},
   "outputs": [],
   "source": []
  },
  {
   "cell_type": "code",
   "execution_count": 109,
   "metadata": {},
   "outputs": [],
   "source": [
    "x, y = [1, 2]\n",
    "x, y = (1, 2)\n",
    "x, y = 1, 2"
   ]
  },
  {
   "cell_type": "code",
   "execution_count": 110,
   "metadata": {},
   "outputs": [
    {
     "data": {
      "text/plain": [
       "(2, 1)"
      ]
     },
     "execution_count": 110,
     "metadata": {},
     "output_type": "execute_result"
    }
   ],
   "source": [
    "temp = x\n",
    "x = y\n",
    "y = temp\n",
    "\n",
    "x, y"
   ]
  },
  {
   "cell_type": "code",
   "execution_count": 111,
   "metadata": {},
   "outputs": [],
   "source": [
    "x, y = y, x"
   ]
  },
  {
   "cell_type": "code",
   "execution_count": 112,
   "metadata": {},
   "outputs": [
    {
     "data": {
      "text/plain": [
       "(1, 2)"
      ]
     },
     "execution_count": 112,
     "metadata": {},
     "output_type": "execute_result"
    }
   ],
   "source": [
    "x, y"
   ]
  },
  {
   "cell_type": "markdown",
   "metadata": {},
   "source": [
    "## 집합 (set)"
   ]
  },
  {
   "cell_type": "code",
   "execution_count": 123,
   "metadata": {},
   "outputs": [
    {
     "data": {
      "text/plain": [
       "{1, 2, 3, 4}"
      ]
     },
     "execution_count": 123,
     "metadata": {},
     "output_type": "execute_result"
    }
   ],
   "source": [
    "numbers = { 1, 2, 3, 3, 2, 1, 4 }\n",
    "numbers  # 정렬이 된 것처럼 보이지만, 임의 정렬로 보는 것이 정확"
   ]
  },
  {
   "cell_type": "code",
   "execution_count": 124,
   "metadata": {},
   "outputs": [
    {
     "data": {
      "text/plain": [
       "{1, 2, 3, 4, 5, 6, 7}"
      ]
     },
     "execution_count": 124,
     "metadata": {},
     "output_type": "execute_result"
    }
   ],
   "source": [
    "numbers.add(5)\n",
    "numbers.add(6)\n",
    "numbers.add(7)\n",
    "numbers"
   ]
  },
  {
   "cell_type": "code",
   "execution_count": 125,
   "metadata": {},
   "outputs": [
    {
     "data": {
      "text/plain": [
       "{2, 3, 4, 5, 6, 7}"
      ]
     },
     "execution_count": 125,
     "metadata": {},
     "output_type": "execute_result"
    }
   ],
   "source": [
    "numbers.remove(1)  # 값 제거\n",
    "numbers"
   ]
  },
  {
   "cell_type": "code",
   "execution_count": 126,
   "metadata": {},
   "outputs": [
    {
     "data": {
      "text/plain": [
       "{3, 4, 5, 6, 7}"
      ]
     },
     "execution_count": 126,
     "metadata": {},
     "output_type": "execute_result"
    }
   ],
   "source": [
    "numbers.pop()\n",
    "numbers"
   ]
  },
  {
   "cell_type": "code",
   "execution_count": null,
   "metadata": {},
   "outputs": [],
   "source": []
  },
  {
   "cell_type": "code",
   "execution_count": 127,
   "metadata": {},
   "outputs": [],
   "source": [
    "mylist = []\n",
    "mylist = list()\n",
    "\n",
    "mytuple = ()\n",
    "mytuple = tuple()\n",
    "\n",
    "## myset = {} # X\n",
    "myset = set()\n",
    "myset1 = { 1, 2, 3 }\n",
    "\n",
    "mydict = {}\n",
    "mydict = dict()\n",
    "mydict = { 'a': 1, 'b': 2, 'c': 3 }  # Key/Value"
   ]
  },
  {
   "cell_type": "code",
   "execution_count": 128,
   "metadata": {},
   "outputs": [
    {
     "data": {
      "text/plain": [
       "(1, 2, 3)"
      ]
     },
     "execution_count": 128,
     "metadata": {},
     "output_type": "execute_result"
    }
   ],
   "source": [
    "mynumbers = [1, 2, 3]\n",
    "tuple(mynumbers)"
   ]
  },
  {
   "cell_type": "code",
   "execution_count": 130,
   "metadata": {},
   "outputs": [
    {
     "data": {
      "text/plain": [
       "100"
      ]
     },
     "execution_count": 130,
     "metadata": {},
     "output_type": "execute_result"
    }
   ],
   "source": [
    "len(멜론_TOP100)"
   ]
  },
  {
   "cell_type": "code",
   "execution_count": 135,
   "metadata": {
    "collapsed": true
   },
   "outputs": [
    {
     "name": "stdout",
     "output_type": "stream",
     "text": [
      "마마무(Mamamoo) 2\n",
      "기리보이 1\n",
      "케이윌 1\n",
      "Ariana Grande 2\n",
      "ITZY (있지) 1\n",
      "노을 1\n",
      "잔나비 1\n",
      "Lauv 1\n",
      "로꼬 1\n",
      "펀치 (Punch) 1\n",
      "여자친구 (GFRIEND) 1\n",
      "Jvcki Wai 1\n",
      "하성운 2\n",
      "숀 (SHAUN) 1\n",
      "NU`EST 2\n",
      "거미 1\n",
      "케이시 (Kassy) 1\n",
      "폴킴 4\n",
      "(여자)아이들 1\n",
      "강민경 (다비치) 1\n",
      "김건모 1\n",
      "우원재 1\n",
      "양다일 2\n",
      "홍진영 1\n",
      "BLACKPINK 1\n",
      "강현준 (Lil tachi) 1\n",
      "우디 (Woody) 1\n",
      "하은요셉 1\n",
      "세븐틴 1\n",
      "강민수 (AQUINAS) 1\n",
      "TWICE (트와이스) 2\n",
      "벤 2\n",
      "하은 1\n",
      "IZ*ONE (아이즈원) 1\n",
      "Wanna One (워너원) 1\n",
      "방탄소년단 8\n",
      "닐로 (Nilo) 2\n",
      "MINO (송민호) 1\n",
      "WINNER 1\n",
      "임창정 1\n",
      "박봄 1\n",
      "투모로우바이투게더 1\n",
      "임한별 1\n",
      "허각 1\n",
      "바이브 1\n",
      "권영훈 (TANGTHEAWESOME) 1\n",
      "비투비 3\n",
      "10cm 1\n",
      "pH-1 1\n",
      "에픽하이 (EPIK HIGH) 3\n",
      "저스디스 (JUSTHIS) 1\n",
      "윤건 1\n",
      "장덕철 2\n",
      "제니 (JENNIE) 1\n",
      "Anne-Marie 1\n",
      "아이유 2\n",
      "엠씨더맥스 2\n",
      "백예린 6\n",
      "이기광 1\n",
      "EXO 2\n",
      "청하 1\n",
      "첸 (CHEN) 1\n",
      "양승호 (sokodomo) 1\n",
      "화사(Hwa Sa) 1\n",
      "김민규 (Young Kay) 1\n",
      "선미 2\n",
      "이소라 1\n",
      "엔플라잉 (N.Flying) 1\n"
     ]
    }
   ],
   "source": [
    "for name in set(멜론_TOP100):\n",
    "    print(name, 멜론_TOP100.count(name))"
   ]
  },
  {
   "cell_type": "code",
   "execution_count": 140,
   "metadata": {
    "collapsed": true
   },
   "outputs": [
    {
     "data": {
      "text/plain": [
       "['마마무(Mamamoo)',\n",
       " '기리보이',\n",
       " '케이윌',\n",
       " 'Ariana Grande',\n",
       " 'ITZY (있지)',\n",
       " '노을',\n",
       " '잔나비',\n",
       " 'Lauv',\n",
       " '로꼬',\n",
       " '펀치 (Punch)',\n",
       " '여자친구 (GFRIEND)',\n",
       " 'Jvcki Wai',\n",
       " '하성운',\n",
       " '숀 (SHAUN)',\n",
       " 'NU`EST',\n",
       " '거미',\n",
       " '케이시 (Kassy)',\n",
       " '폴킴',\n",
       " '(여자)아이들',\n",
       " '강민경 (다비치)',\n",
       " '김건모',\n",
       " '우원재',\n",
       " '양다일',\n",
       " '홍진영',\n",
       " 'BLACKPINK',\n",
       " '강현준 (Lil tachi)',\n",
       " '우디 (Woody)',\n",
       " '하은요셉',\n",
       " '세븐틴',\n",
       " '강민수 (AQUINAS)',\n",
       " 'TWICE (트와이스)',\n",
       " '벤',\n",
       " '하은',\n",
       " 'IZ*ONE (아이즈원)',\n",
       " 'Wanna One (워너원)',\n",
       " '방탄소년단',\n",
       " '닐로 (Nilo)',\n",
       " 'MINO (송민호)',\n",
       " 'WINNER',\n",
       " '임창정',\n",
       " '박봄',\n",
       " '투모로우바이투게더',\n",
       " '임한별',\n",
       " '허각',\n",
       " '바이브',\n",
       " '권영훈 (TANGTHEAWESOME)',\n",
       " '비투비',\n",
       " '10cm',\n",
       " 'pH-1',\n",
       " '에픽하이 (EPIK HIGH)',\n",
       " '저스디스 (JUSTHIS)',\n",
       " '윤건',\n",
       " '장덕철',\n",
       " '제니 (JENNIE)',\n",
       " 'Anne-Marie',\n",
       " '아이유',\n",
       " '엠씨더맥스',\n",
       " '백예린',\n",
       " '이기광',\n",
       " 'EXO',\n",
       " '청하',\n",
       " '첸 (CHEN)',\n",
       " '양승호 (sokodomo)',\n",
       " '화사(Hwa Sa)',\n",
       " '김민규 (Young Kay)',\n",
       " '선미',\n",
       " '이소라',\n",
       " '엔플라잉 (N.Flying)']"
      ]
     },
     "execution_count": 140,
     "metadata": {},
     "output_type": "execute_result"
    }
   ],
   "source": [
    "list(set(멜론_TOP100))  # 중복이 배제된 리스트"
   ]
  },
  {
   "cell_type": "markdown",
   "metadata": {},
   "source": [
    "## 사전 (dict)"
   ]
  },
  {
   "cell_type": "code",
   "execution_count": 145,
   "metadata": {},
   "outputs": [
    {
     "data": {
      "text/plain": [
       "95"
      ]
     },
     "execution_count": 145,
     "metadata": {},
     "output_type": "execute_result"
    }
   ],
   "source": [
    "학생_성적 = {'국어': 80, '영어': 90, '수학': 100, '국어': 95}\n",
    "학생_성적['국어']"
   ]
  },
  {
   "cell_type": "code",
   "execution_count": 151,
   "metadata": {},
   "outputs": [
    {
     "data": {
      "text/plain": [
       "{'국어': 95, '영어': 93, '수학': 100, '과학': 60}"
      ]
     },
     "execution_count": 151,
     "metadata": {},
     "output_type": "execute_result"
    }
   ],
   "source": [
    "학생_성적['과학'] = 60  # 새로운 Key/Value 추가\n",
    "학생_성적"
   ]
  },
  {
   "cell_type": "code",
   "execution_count": 152,
   "metadata": {},
   "outputs": [
    {
     "data": {
      "text/plain": [
       "{'국어': 95, '영어': 80, '수학': 100, '과학': 60}"
      ]
     },
     "execution_count": 152,
     "metadata": {},
     "output_type": "execute_result"
    }
   ],
   "source": [
    "학생_성적['영어'] = 80  # 기존 Key/Value 변경\n",
    "학생_성적"
   ]
  },
  {
   "cell_type": "code",
   "execution_count": null,
   "metadata": {},
   "outputs": [],
   "source": []
  },
  {
   "cell_type": "code",
   "execution_count": 160,
   "metadata": {},
   "outputs": [
    {
     "data": {
      "text/plain": [
       "{'국어': 95, '영어': 92, '수학': 100, '과학': 60}"
      ]
     },
     "execution_count": 160,
     "metadata": {},
     "output_type": "execute_result"
    }
   ],
   "source": [
    "# 학생_성적['영어'] = 학생_성적['영어'] + 3  # 학생 영어 성적이 +3\n",
    "학생_성적['영어'] += 3\n",
    "학생_성적"
   ]
  },
  {
   "cell_type": "code",
   "execution_count": null,
   "metadata": {},
   "outputs": [],
   "source": []
  },
  {
   "cell_type": "code",
   "execution_count": 157,
   "metadata": {},
   "outputs": [
    {
     "data": {
      "text/plain": [
       "11"
      ]
     },
     "execution_count": 157,
     "metadata": {},
     "output_type": "execute_result"
    }
   ],
   "source": [
    "i = 10\n",
    "# i = i + 1\n",
    "i += 1  # +=, *=, /=, //=, %=, |=\n",
    "i"
   ]
  },
  {
   "cell_type": "code",
   "execution_count": null,
   "metadata": {},
   "outputs": [],
   "source": []
  },
  {
   "cell_type": "code",
   "execution_count": 163,
   "metadata": {},
   "outputs": [
    {
     "ename": "KeyError",
     "evalue": "'역사'",
     "output_type": "error",
     "traceback": [
      "\u001b[0;31m---------------------------------------------------------------------------\u001b[0m",
      "\u001b[0;31mKeyError\u001b[0m                                  Traceback (most recent call last)",
      "\u001b[0;32m<ipython-input-163-a4eba2557622>\u001b[0m in \u001b[0;36m<module>\u001b[0;34m()\u001b[0m\n\u001b[1;32m      1\u001b[0m \u001b[0;31m# 실행 전에 필히 '역사' Key가 존재해야 합니다.\u001b[0m\u001b[0;34m\u001b[0m\u001b[0;34m\u001b[0m\u001b[0m\n\u001b[0;32m----> 2\u001b[0;31m \u001b[0m학생_성적\u001b[0m\u001b[0;34m[\u001b[0m\u001b[0;34m'역사'\u001b[0m\u001b[0;34m]\u001b[0m \u001b[0;34m+=\u001b[0m \u001b[0;36m10\u001b[0m\u001b[0;34m\u001b[0m\u001b[0m\n\u001b[0m",
      "\u001b[0;31mKeyError\u001b[0m: '역사'"
     ]
    }
   ],
   "source": [
    "# 실행 전에 필히 '역사' Key가 존재해야 합니다.\n",
    "학생_성적['역사'] += 10"
   ]
  },
  {
   "cell_type": "markdown",
   "metadata": {},
   "source": [
    "Membership Test"
   ]
  },
  {
   "cell_type": "code",
   "execution_count": 171,
   "metadata": {},
   "outputs": [
    {
     "data": {
      "text/plain": [
       "True"
      ]
     },
     "execution_count": 171,
     "metadata": {},
     "output_type": "execute_result"
    }
   ],
   "source": [
    "'Hello' in 'Hello World'  # 부분 문자열 테스트"
   ]
  },
  {
   "cell_type": "code",
   "execution_count": 167,
   "metadata": {},
   "outputs": [
    {
     "data": {
      "text/plain": [
       "True"
      ]
     },
     "execution_count": 167,
     "metadata": {},
     "output_type": "execute_result"
    }
   ],
   "source": [
    "'거미' in 멜론_TOP100"
   ]
  },
  {
   "cell_type": "code",
   "execution_count": 169,
   "metadata": {},
   "outputs": [
    {
     "data": {
      "text/plain": [
       "False"
      ]
     },
     "execution_count": 169,
     "metadata": {},
     "output_type": "execute_result"
    }
   ],
   "source": [
    "'역사' in 학생_성적  # Key Check"
   ]
  },
  {
   "cell_type": "code",
   "execution_count": 172,
   "metadata": {},
   "outputs": [
    {
     "data": {
      "text/plain": [
       "True"
      ]
     },
     "execution_count": 172,
     "metadata": {},
     "output_type": "execute_result"
    }
   ],
   "source": [
    "'역사' not in 학생_성적"
   ]
  },
  {
   "cell_type": "code",
   "execution_count": 174,
   "metadata": {},
   "outputs": [],
   "source": [
    "# '역사' Key가 학생_성적 사전에 있음을 보장받을 수 있습니다.\n",
    "if '역사' not in 학생_성적:\n",
    "    학생_성적['역사'] = 0\n",
    "\n",
    "학생_성적['역사'] += 10"
   ]
  },
  {
   "cell_type": "code",
   "execution_count": null,
   "metadata": {},
   "outputs": [],
   "source": []
  },
  {
   "cell_type": "code",
   "execution_count": 180,
   "metadata": {
    "collapsed": true
   },
   "outputs": [
    {
     "name": "stdout",
     "output_type": "stream",
     "text": [
      "68\n",
      "3\n"
     ]
    },
    {
     "data": {
      "text/plain": [
       "{'김건모': 1,\n",
       " '백예린': 6,\n",
       " '에픽하이 (EPIK HIGH)': 3,\n",
       " '박봄': 1,\n",
       " '마마무(Mamamoo)': 2,\n",
       " '엔플라잉 (N.Flying)': 1,\n",
       " '케이시 (Kassy)': 1,\n",
       " '거미': 1,\n",
       " 'ITZY (있지)': 1,\n",
       " '10cm': 1,\n",
       " '화사(Hwa Sa)': 1,\n",
       " '우디 (Woody)': 1,\n",
       " '잔나비': 1,\n",
       " '엠씨더맥스': 2,\n",
       " '청하': 1,\n",
       " '이소라': 1,\n",
       " '하은요셉': 1,\n",
       " '윤건': 1,\n",
       " '강현준 (Lil tachi)': 1,\n",
       " '폴킴': 4,\n",
       " 'Jvcki Wai': 1,\n",
       " '하은': 1,\n",
       " '우원재': 1,\n",
       " '선미': 2,\n",
       " '벤': 2,\n",
       " '(여자)아이들': 1,\n",
       " '닐로 (Nilo)': 2,\n",
       " '케이윌': 1,\n",
       " '제니 (JENNIE)': 1,\n",
       " '김민규 (Young Kay)': 1,\n",
       " '장덕철': 2,\n",
       " 'TWICE (트와이스)': 2,\n",
       " '방탄소년단': 8,\n",
       " '숀 (SHAUN)': 1,\n",
       " '임한별': 1,\n",
       " 'NU`EST': 2,\n",
       " 'Ariana Grande': 2,\n",
       " 'MINO (송민호)': 1,\n",
       " 'EXO': 2,\n",
       " 'Anne-Marie': 1,\n",
       " 'WINNER': 1,\n",
       " '양다일': 2,\n",
       " '아이유': 2,\n",
       " '허각': 1,\n",
       " '노을': 1,\n",
       " '바이브': 1,\n",
       " '권영훈 (TANGTHEAWESOME)': 1,\n",
       " '양승호 (sokodomo)': 1,\n",
       " '비투비': 3,\n",
       " '하성운': 2,\n",
       " '세븐틴': 1,\n",
       " '이기광': 1,\n",
       " '로꼬': 1,\n",
       " '여자친구 (GFRIEND)': 1,\n",
       " 'pH-1': 1,\n",
       " '홍진영': 1,\n",
       " 'Lauv': 1,\n",
       " '임창정': 1,\n",
       " '강민수 (AQUINAS)': 1,\n",
       " '강민경 (다비치)': 1,\n",
       " '기리보이': 1,\n",
       " 'BLACKPINK': 1,\n",
       " 'IZ*ONE (아이즈원)': 1,\n",
       " '첸 (CHEN)': 1,\n",
       " '저스디스 (JUSTHIS)': 1,\n",
       " '펀치 (Punch)': 1,\n",
       " '투모로우바이투게더': 1,\n",
       " 'Wanna One (워너원)': 1}"
      ]
     },
     "execution_count": 180,
     "metadata": {},
     "output_type": "execute_result"
    }
   ],
   "source": [
    "counter = {}\n",
    "\n",
    "for name in 멜론_TOP100:\n",
    "    if name not in counter:\n",
    "        counter[name] = 0\n",
    "    counter[name] += 1\n",
    "\n",
    "print(len(counter))\n",
    "print(counter['에픽하이 (EPIK HIGH)'])\n",
    "counter"
   ]
  },
  {
   "cell_type": "markdown",
   "metadata": {},
   "source": [
    "`counter` 내역을 엑셀파일로 내보내기"
   ]
  },
  {
   "cell_type": "code",
   "execution_count": 182,
   "metadata": {},
   "outputs": [],
   "source": [
    "import pandas as pd\n",
    "series = pd.Series(counter)\n",
    "series.to_excel('melon_counter.xlsx')"
   ]
  },
  {
   "cell_type": "code",
   "execution_count": null,
   "metadata": {},
   "outputs": [],
   "source": []
  },
  {
   "cell_type": "code",
   "execution_count": 186,
   "metadata": {},
   "outputs": [],
   "source": [
    "a = 1"
   ]
  },
  {
   "cell_type": "code",
   "execution_count": 187,
   "metadata": {},
   "outputs": [],
   "source": [
    "del a"
   ]
  },
  {
   "cell_type": "code",
   "execution_count": 190,
   "metadata": {},
   "outputs": [
    {
     "data": {
      "text/plain": [
       "{'국어': 95, '영어': 92, '수학': 100, '과학': 60}"
      ]
     },
     "execution_count": 190,
     "metadata": {},
     "output_type": "execute_result"
    }
   ],
   "source": [
    "del 학생_성적['역사']  # '역사' Key/Value을 제거\n",
    "학생_성적"
   ]
  },
  {
   "cell_type": "code",
   "execution_count": 191,
   "metadata": {},
   "outputs": [
    {
     "ename": "KeyError",
     "evalue": "'역사'",
     "output_type": "error",
     "traceback": [
      "\u001b[0;31m---------------------------------------------------------------------------\u001b[0m",
      "\u001b[0;31mKeyError\u001b[0m                                  Traceback (most recent call last)",
      "\u001b[0;32m<ipython-input-191-81ea02726577>\u001b[0m in \u001b[0;36m<module>\u001b[0;34m()\u001b[0m\n\u001b[0;32m----> 1\u001b[0;31m \u001b[0;32mdel\u001b[0m \u001b[0m학생_성적\u001b[0m\u001b[0;34m[\u001b[0m\u001b[0;34m'역사'\u001b[0m\u001b[0;34m]\u001b[0m  \u001b[0;31m# '역사' Key/Value을 제거\u001b[0m\u001b[0;34m\u001b[0m\u001b[0m\n\u001b[0m",
      "\u001b[0;31mKeyError\u001b[0m: '역사'"
     ]
    }
   ],
   "source": [
    "if '역사' in 학생_성적:\n",
    "    del 학생_성적['역사']"
   ]
  },
  {
   "cell_type": "code",
   "execution_count": null,
   "metadata": {},
   "outputs": [],
   "source": []
  },
  {
   "cell_type": "code",
   "execution_count": 193,
   "metadata": {},
   "outputs": [
    {
     "data": {
      "text/plain": [
       "{'국어': 95, '영어': 92, '수학': 100, '과학': 60, '지리': 90, '한국사': 95}"
      ]
     },
     "execution_count": 193,
     "metadata": {},
     "output_type": "execute_result"
    }
   ],
   "source": [
    "# 학생_성적['지리'] = 90\n",
    "# 학생_성적['한국사'] = 95\n",
    "\n",
    "학생_성적.update({\n",
    "    '지리': 90,\n",
    "    '한국사': 95,\n",
    "})\n",
    "\n",
    "학생_성적"
   ]
  },
  {
   "cell_type": "code",
   "execution_count": null,
   "metadata": {},
   "outputs": [],
   "source": []
  },
  {
   "cell_type": "code",
   "execution_count": 196,
   "metadata": {},
   "outputs": [
    {
     "data": {
      "text/plain": [
       "['국어', '영어', '수학', '과학', '지리', '한국사']"
      ]
     },
     "execution_count": 196,
     "metadata": {},
     "output_type": "execute_result"
    }
   ],
   "source": [
    "list(학생_성적)  # Key 리스트"
   ]
  },
  {
   "cell_type": "code",
   "execution_count": 197,
   "metadata": {},
   "outputs": [
    {
     "data": {
      "text/plain": [
       "dict_keys(['국어', '영어', '수학', '과학', '지리', '한국사'])"
      ]
     },
     "execution_count": 197,
     "metadata": {},
     "output_type": "execute_result"
    }
   ],
   "source": [
    "학생_성적.keys()  # .values(), .items()"
   ]
  },
  {
   "cell_type": "code",
   "execution_count": 198,
   "metadata": {},
   "outputs": [
    {
     "data": {
      "text/plain": [
       "dict_values([95, 92, 100, 60, 90, 95])"
      ]
     },
     "execution_count": 198,
     "metadata": {},
     "output_type": "execute_result"
    }
   ],
   "source": [
    "학생_성적.values()"
   ]
  },
  {
   "cell_type": "code",
   "execution_count": 209,
   "metadata": {},
   "outputs": [
    {
     "data": {
      "text/plain": [
       "dict_items([('국어', 95), ('영어', 92), ('수학', 100), ('과학', 60), ('지리', 90), ('한국사', 95)])"
      ]
     },
     "execution_count": 209,
     "metadata": {},
     "output_type": "execute_result"
    }
   ],
   "source": [
    "학생_성적.items()"
   ]
  },
  {
   "cell_type": "code",
   "execution_count": null,
   "metadata": {},
   "outputs": [],
   "source": []
  },
  {
   "cell_type": "code",
   "execution_count": 207,
   "metadata": {},
   "outputs": [
    {
     "name": "stdout",
     "output_type": "stream",
     "text": [
      "국어 95\n",
      "수학 100\n",
      "한국사 95\n"
     ]
    }
   ],
   "source": [
    "for 과목명 in 학생_성적:\n",
    "    성적 = 학생_성적[과목명]\n",
    "    if 성적 >= 95:\n",
    "        print(과목명, 성적)"
   ]
  },
  {
   "cell_type": "code",
   "execution_count": 210,
   "metadata": {},
   "outputs": [
    {
     "name": "stdout",
     "output_type": "stream",
     "text": [
      "국어 95\n",
      "수학 100\n",
      "한국사 95\n"
     ]
    }
   ],
   "source": [
    "for (과목명, 성적) in 학생_성적.items():\n",
    "    if 성적 >= 95:\n",
    "        print(과목명, 성적)"
   ]
  },
  {
   "cell_type": "markdown",
   "metadata": {},
   "source": [
    "Pandas라면?"
   ]
  },
  {
   "cell_type": "code",
   "execution_count": 214,
   "metadata": {},
   "outputs": [
    {
     "data": {
      "text/plain": [
       "국어      95\n",
       "영어      92\n",
       "수학     100\n",
       "과학      60\n",
       "지리      90\n",
       "한국사     95\n",
       "dtype: int64"
      ]
     },
     "execution_count": 214,
     "metadata": {},
     "output_type": "execute_result"
    }
   ],
   "source": [
    "series = pd.Series(학생_성적)\n",
    "series"
   ]
  },
  {
   "cell_type": "code",
   "execution_count": 216,
   "metadata": {},
   "outputs": [
    {
     "data": {
      "text/plain": [
       "국어      95\n",
       "수학     100\n",
       "한국사     95\n",
       "dtype: int64"
      ]
     },
     "execution_count": 216,
     "metadata": {},
     "output_type": "execute_result"
    }
   ],
   "source": [
    "mask = series >= 95  # Boolean Mask\n",
    "series[mask]"
   ]
  },
  {
   "cell_type": "code",
   "execution_count": null,
   "metadata": {},
   "outputs": [],
   "source": []
  },
  {
   "cell_type": "markdown",
   "metadata": {},
   "source": [
    "각 가수명의 글자수 별로 카운터 사전을 만들어보세요."
   ]
  },
  {
   "cell_type": "code",
   "execution_count": 218,
   "metadata": {},
   "outputs": [
    {
     "data": {
      "text/plain": [
       "3"
      ]
     },
     "execution_count": 218,
     "metadata": {},
     "output_type": "execute_result"
    }
   ],
   "source": [
    "len('김건모')"
   ]
  },
  {
   "cell_type": "code",
   "execution_count": 224,
   "metadata": {
    "collapsed": true
   },
   "outputs": [
    {
     "data": {
      "text/plain": [
       "{3: {'EXO',\n",
       "  '김건모',\n",
       "  '바이브',\n",
       "  '백예린',\n",
       "  '비투비',\n",
       "  '세븐틴',\n",
       "  '아이유',\n",
       "  '양다일',\n",
       "  '우원재',\n",
       "  '이기광',\n",
       "  '이소라',\n",
       "  '임창정',\n",
       "  '임한별',\n",
       "  '잔나비',\n",
       "  '장덕철',\n",
       "  '케이윌',\n",
       "  '하성운',\n",
       "  '홍진영'},\n",
       " 16: {'에픽하이 (EPIK HIGH)'},\n",
       " 2: {'거미', '노을', '로꼬', '박봄', '선미', '윤건', '청하', '폴킴', '하은', '허각'},\n",
       " 12: {'TWICE (트와이스)', '마마무(Mamamoo)'},\n",
       " 15: {'Wanna One (워너원)',\n",
       "  '강현준 (Lil tachi)',\n",
       "  '김민규 (Young Kay)',\n",
       "  '엔플라잉 (N.Flying)'},\n",
       " 11: {'제니 (JENNIE)', '케이시 (Kassy)'},\n",
       " 9: {'BLACKPINK',\n",
       "  'ITZY (있지)',\n",
       "  'Jvcki Wai',\n",
       "  '강민경 (다비치)',\n",
       "  '닐로 (Nilo)',\n",
       "  '숀 (SHAUN)',\n",
       "  '투모로우바이투게더'},\n",
       " 4: {'10cm', 'Lauv', 'pH-1', '기리보이', '하은요셉'},\n",
       " 10: {'Anne-Marie', 'MINO (송민호)', '우디 (Woody)', '펀치 (Punch)', '화사(Hwa Sa)'},\n",
       " 5: {'방탄소년단', '엠씨더맥스'},\n",
       " 1: {'벤'},\n",
       " 7: {'(여자)아이들'},\n",
       " 6: {'NU`EST', 'WINNER'},\n",
       " 13: {'Ariana Grande', 'IZ*ONE (아이즈원)', '강민수 (AQUINAS)'},\n",
       " 20: {'권영훈 (TANGTHEAWESOME)'},\n",
       " 14: {'양승호 (sokodomo)', '여자친구 (GFRIEND)', '저스디스 (JUSTHIS)'},\n",
       " 8: {'첸 (CHEN)'}}"
      ]
     },
     "execution_count": 224,
     "metadata": {},
     "output_type": "execute_result"
    }
   ],
   "source": [
    "counter = {}\n",
    "\n",
    "for name in 멜론_TOP100:\n",
    "    length = len(name)\n",
    "    if length not in counter:\n",
    "#         counter[length] = 0  # case #1\n",
    "#         counter[length] = [] # case #2\n",
    "        counter[length] = set() # case #3\n",
    "\n",
    "#     counter[length] += 1         # case #1\n",
    "#     counter[length].append(name) # case #2\n",
    "    counter[length].add(name)      # case #3\n",
    "\n",
    "counter"
   ]
  },
  {
   "cell_type": "markdown",
   "metadata": {},
   "source": [
    "개선안"
   ]
  },
  {
   "cell_type": "code",
   "execution_count": 226,
   "metadata": {},
   "outputs": [],
   "source": [
    "from collections import defaultdict"
   ]
  },
  {
   "cell_type": "code",
   "execution_count": 240,
   "metadata": {},
   "outputs": [
    {
     "data": {
      "text/plain": [
       "0"
      ]
     },
     "execution_count": 240,
     "metadata": {},
     "output_type": "execute_result"
    }
   ],
   "source": [
    "int()  # 호출한다 (Call)"
   ]
  },
  {
   "cell_type": "code",
   "execution_count": 242,
   "metadata": {},
   "outputs": [
    {
     "data": {
      "text/plain": [
       "defaultdict(set,\n",
       "            {3: {'EXO',\n",
       "              '김건모',\n",
       "              '바이브',\n",
       "              '백예린',\n",
       "              '비투비',\n",
       "              '세븐틴',\n",
       "              '아이유',\n",
       "              '양다일',\n",
       "              '우원재',\n",
       "              '이기광',\n",
       "              '이소라',\n",
       "              '임창정',\n",
       "              '임한별',\n",
       "              '잔나비',\n",
       "              '장덕철',\n",
       "              '케이윌',\n",
       "              '하성운',\n",
       "              '홍진영'},\n",
       "             16: {'에픽하이 (EPIK HIGH)'},\n",
       "             2: {'거미', '노을', '로꼬', '박봄', '선미', '윤건', '청하', '폴킴', '하은', '허각'},\n",
       "             12: {'TWICE (트와이스)', '마마무(Mamamoo)'},\n",
       "             15: {'Wanna One (워너원)',\n",
       "              '강현준 (Lil tachi)',\n",
       "              '김민규 (Young Kay)',\n",
       "              '엔플라잉 (N.Flying)'},\n",
       "             11: {'제니 (JENNIE)', '케이시 (Kassy)'},\n",
       "             9: {'BLACKPINK',\n",
       "              'ITZY (있지)',\n",
       "              'Jvcki Wai',\n",
       "              '강민경 (다비치)',\n",
       "              '닐로 (Nilo)',\n",
       "              '숀 (SHAUN)',\n",
       "              '투모로우바이투게더'},\n",
       "             4: {'10cm', 'Lauv', 'pH-1', '기리보이', '하은요셉'},\n",
       "             10: {'Anne-Marie',\n",
       "              'MINO (송민호)',\n",
       "              '우디 (Woody)',\n",
       "              '펀치 (Punch)',\n",
       "              '화사(Hwa Sa)'},\n",
       "             5: {'방탄소년단', '엠씨더맥스'},\n",
       "             1: {'벤'},\n",
       "             7: {'(여자)아이들'},\n",
       "             6: {'NU`EST', 'WINNER'},\n",
       "             13: {'Ariana Grande', 'IZ*ONE (아이즈원)', '강민수 (AQUINAS)'},\n",
       "             20: {'권영훈 (TANGTHEAWESOME)'},\n",
       "             14: {'양승호 (sokodomo)', '여자친구 (GFRIEND)', '저스디스 (JUSTHIS)'},\n",
       "             8: {'첸 (CHEN)'}})"
      ]
     },
     "execution_count": 242,
     "metadata": {},
     "output_type": "execute_result"
    }
   ],
   "source": [
    "# counter = defaultdict(int)\n",
    "# counter = defaultdict(list)\n",
    "counter = defaultdict(set)\n",
    "\n",
    "for name in 멜론_TOP100:\n",
    "#     counter[len(name)] += 1\n",
    "#     counter[len(name)].append(name)\n",
    "    counter[len(name)].add(name)\n",
    "\n",
    "counter"
   ]
  },
  {
   "cell_type": "markdown",
   "metadata": {},
   "source": [
    "## 멜론 TOP100 리스트"
   ]
  },
  {
   "cell_type": "code",
   "execution_count": 250,
   "metadata": {},
   "outputs": [],
   "source": [
    "import requests  # 작은 웹브라우저\n",
    "\n",
    "res = requests.get(\"https://goo.gl/iDUKrL\")\n",
    "\n",
    "with open(\"melon_chart.csv\", \"wt\", encoding=\"utf8\") as f:\n",
    "    f.write(res.text)"
   ]
  },
  {
   "cell_type": "code",
   "execution_count": 252,
   "metadata": {},
   "outputs": [],
   "source": [
    "import csv\n",
    "\n",
    "with open(\"melon_chart.csv\", \"rt\", encoding=\"utf8\") as f:\n",
    "    reader = csv.DictReader(f)\n",
    "    멜론_TOP100_리스트 = list(reader)"
   ]
  },
  {
   "cell_type": "code",
   "execution_count": 264,
   "metadata": {},
   "outputs": [
    {
     "name": "stdout",
     "output_type": "stream",
     "text": [
      "IDOL 방탄소년단 173279\n",
      "I`m Fine 방탄소년단 132847\n",
      "FAKE LOVE 방탄소년단 253847\n",
      "Euphoria 방탄소년단 129017\n",
      "Answer : Love Myself 방탄소년단 108151\n",
      "전하지 못한 진심 (Feat. Steve Aoki) 방탄소년단 176653\n",
      "Epiphany 방탄소년단 101011\n",
      "Trivia 轉 : Seesaw 방탄소년단 98436\n",
      "Trivia 起 : Just Dance 방탄소년단 88970\n",
      "Trivia 承 : Love 방탄소년단 83610\n",
      "Anpanman 방탄소년단 138694\n",
      "봄날 방탄소년단 359130\n",
      "DNA 방탄소년단 323911\n",
      "Airplane pt.2 방탄소년단 127355\n"
     ]
    }
   ],
   "source": [
    "# 방탄소년단만 출력\n",
    "for 곡 in 멜론_TOP100_리스트:\n",
    "    if 곡['가수'] == '방탄소년단':\n",
    "        print(곡['곡명'], 곡['가수'], 곡['좋아요'])"
   ]
  },
  {
   "cell_type": "code",
   "execution_count": 266,
   "metadata": {},
   "outputs": [
    {
     "name": "stdout",
     "output_type": "stream",
     "text": [
      "가을 타나 봐 바이브 28056\n",
      "가을 안부 먼데이 키즈 (Monday Kiz) 109447\n"
     ]
    }
   ],
   "source": [
    "# 곡명에 \"가을\"이 포함된 것만\n",
    "for 곡 in 멜론_TOP100_리스트:\n",
    "    if '가을' in 곡['곡명']:\n",
    "        print(곡['곡명'], 곡['가수'], 곡['좋아요'])"
   ]
  },
  {
   "cell_type": "code",
   "execution_count": 274,
   "metadata": {},
   "outputs": [
    {
     "name": "stdout",
     "output_type": "stream",
     "text": [
      "FAKE LOVE 방탄소년단 253847\n",
      "Way Back Home 숀 (SHAUN) 225308\n",
      "봄날 방탄소년단 359130\n",
      "DNA 방탄소년단 323911\n",
      "에너제틱 (Energetic) Wanna One (워너원) 268394\n",
      "사랑을 했다 (LOVE SCENARIO) iKON 267692\n",
      "Beautiful Wanna One (워너원) 216065\n",
      "밤편지 아이유 283167\n",
      "그날처럼 장덕철 208427\n",
      "그리워하다 비투비 203463\n",
      "선물 멜로망스 266869\n"
     ]
    },
    {
     "data": {
      "text/plain": [
       "11"
      ]
     },
     "execution_count": 274,
     "metadata": {},
     "output_type": "execute_result"
    }
   ],
   "source": [
    "# 좋아요 수가 200000 이 넘는 곡수는?\n",
    "counter_200000 = 0\n",
    "for 곡 in 멜론_TOP100_리스트:\n",
    "    if int(곡['좋아요']) > 200000:\n",
    "        counter_200000 += 1\n",
    "        print(곡['곡명'], 곡['가수'], 곡['좋아요'])\n",
    "counter_200000"
   ]
  },
  {
   "cell_type": "code",
   "execution_count": 288,
   "metadata": {
    "collapsed": true
   },
   "outputs": [
    {
     "data": {
      "text/plain": [
       "Counter({'아이유': 2,\n",
       "         '로꼬': 2,\n",
       "         'pH-1': 1,\n",
       "         '임창정': 1,\n",
       "         '방탄소년단': 14,\n",
       "         'iKON': 3,\n",
       "         'Coogie': 1,\n",
       "         '로이킴': 2,\n",
       "         '바이브': 2,\n",
       "         '펀치 (Punch)': 1,\n",
       "         '폴킴': 2,\n",
       "         '백현 (BAEKHYUN)': 1,\n",
       "         '선미': 1,\n",
       "         '벤': 1,\n",
       "         '숀 (SHAUN)': 1,\n",
       "         'EXO': 3,\n",
       "         '찬열': 1,\n",
       "         '기리보이': 1,\n",
       "         'EXO-CBX (첸백시)': 1,\n",
       "         '저스디스 (JUSTHIS)': 1,\n",
       "         '레이 (LAY)': 1,\n",
       "         'BLACKPINK': 2,\n",
       "         '닐로 (Nilo)': 2,\n",
       "         'TWICE (트와이스)': 2,\n",
       "         '박원': 1,\n",
       "         'Wanna One (워너원)': 5,\n",
       "         'Red Velvet (레드벨벳)': 1,\n",
       "         '임한별': 1,\n",
       "         '볼빨간사춘기': 1,\n",
       "         'Wanna One (워너원) - 트리플포지션': 1,\n",
       "         '마마무(Mamamoo)': 2,\n",
       "         '양다일': 1,\n",
       "         '먼데이 키즈 (Monday Kiz)': 1,\n",
       "         '비투비': 2,\n",
       "         '멜로망스': 4,\n",
       "         '승리': 1,\n",
       "         'Apink (에이핑크)': 1,\n",
       "         '지코 (ZICO)': 1,\n",
       "         '세븐틴': 2,\n",
       "         '장덕철': 1,\n",
       "         'Wanna One (워너원) - 더힐': 1,\n",
       "         '10cm': 2,\n",
       "         'nafla': 1,\n",
       "         '(여자)아이들': 1,\n",
       "         '뉴이스트 W': 8,\n",
       "         '김효은': 1,\n",
       "         '모트 (Motte)': 1,\n",
       "         '이수 (엠씨 더 맥스)': 1,\n",
       "         'Wanna One (워너원) - 린온미': 1,\n",
       "         '용준형': 1,\n",
       "         'Wanna One (워너원) - 남바완': 1,\n",
       "         'NU`EST': 1,\n",
       "         '정승환': 1,\n",
       "         'Fitz & The Tantrums': 1,\n",
       "         '여자친구 (GFRIEND)': 1,\n",
       "         '청하': 1,\n",
       "         '소녀시대-Oh!GG': 1})"
      ]
     },
     "execution_count": 288,
     "metadata": {},
     "output_type": "execute_result"
    }
   ],
   "source": [
    "# 가수별 곡수는?\n",
    "from collections import Counter\n",
    "\n",
    "# List Comprehension\n",
    "가수_리스트 = [곡['가수'] for 곡 in 멜론_TOP100_리스트]\n",
    "\n",
    "# 가수_리스트 = []\n",
    "# for 곡 in 멜론_TOP100_리스트:\n",
    "#     가수_리스트.append(곡['가수'])\n",
    "# 가수_리스트\n",
    "\n",
    "Counter(가수_리스트)"
   ]
  },
  {
   "cell_type": "markdown",
   "metadata": {},
   "source": [
    "Pandas 활용 예시"
   ]
  },
  {
   "cell_type": "code",
   "execution_count": 290,
   "metadata": {},
   "outputs": [],
   "source": [
    "df = pd.read_csv(\"https://goo.gl/iDUKrL\")"
   ]
  },
  {
   "cell_type": "code",
   "execution_count": 294,
   "metadata": {},
   "outputs": [],
   "source": [
    "mask = df['가수'] == '방탄소년단'  # Boolean Mask\n",
    "df.loc[mask].to_excel(\"melon_방탄소년단.xlsx\")"
   ]
  },
  {
   "cell_type": "code",
   "execution_count": null,
   "metadata": {},
   "outputs": [],
   "source": []
  },
  {
   "cell_type": "code",
   "execution_count": 295,
   "metadata": {},
   "outputs": [
    {
     "data": {
      "text/plain": [
       "[{'국어': 100, '영어': 90, '수학': 80}, {'국어': 90, '영어': 80, '수학': 90}]"
      ]
     },
     "execution_count": 295,
     "metadata": {},
     "output_type": "execute_result"
    }
   ],
   "source": [
    "철수_성적 = {'국어': 100, '영어': 90, '수학': 80}\n",
    "영희_성적 = {'국어': 90, '영어': 80, '수학': 90}\n",
    "\n",
    "성적_리스트 = [\n",
    "    {'국어': 100, '영어': 90, '수학': 80},\n",
    "    {'국어': 90, '영어': 80, '수학': 90},\n",
    "]\n",
    "성적_리스트"
   ]
  },
  {
   "cell_type": "markdown",
   "metadata": {},
   "source": [
    "## 제어구조"
   ]
  },
  {
   "cell_type": "markdown",
   "metadata": {},
   "source": [
    "### 조건문"
   ]
  },
  {
   "cell_type": "code",
   "execution_count": 304,
   "metadata": {},
   "outputs": [],
   "source": [
    "import random"
   ]
  },
  {
   "cell_type": "code",
   "execution_count": 307,
   "metadata": {},
   "outputs": [],
   "source": [
    "number = random.randint(1, 30)"
   ]
  },
  {
   "cell_type": "code",
   "execution_count": 313,
   "metadata": {},
   "outputs": [
    {
     "name": "stdout",
     "output_type": "stream",
     "text": [
      "10~19 범위입니다.\n"
     ]
    }
   ],
   "source": [
    "if number < 10:\n",
    "    print(\"1~9 범위입니다.\")\n",
    "\n",
    "if 10 <= number and number < 20:\n",
    "# if 10 <=  number < 20:\n",
    "    print(\"10~19 범위입니다.\")\n",
    "    \n",
    "if 20 <= number and number < 30:\n",
    "# if 20 <= number < 30:\n",
    "    print(\"20~29 범위입니다.\")\n",
    "    "
   ]
  },
  {
   "cell_type": "code",
   "execution_count": 315,
   "metadata": {},
   "outputs": [
    {
     "name": "stdout",
     "output_type": "stream",
     "text": [
      "10~19 범위입니다.\n"
     ]
    }
   ],
   "source": [
    "if number < 10:\n",
    "    print(\"1~9 범위입니다.\")\n",
    "\n",
    "elif number < 20:\n",
    "    print(\"10~19 범위입니다.\")\n",
    "    \n",
    "elif number < 30:\n",
    "    print(\"20~29 범위입니다.\")\n",
    "    \n",
    "else:\n",
    "    print(\"너무 크다\")"
   ]
  },
  {
   "cell_type": "markdown",
   "metadata": {},
   "source": [
    "### 반복문"
   ]
  },
  {
   "cell_type": "markdown",
   "metadata": {},
   "source": [
    "```c\n",
    "for(int i=2; i<10; i++) {\n",
    "    printf(\"%d\\n\", i);\n",
    "}\n",
    "```"
   ]
  },
  {
   "cell_type": "code",
   "execution_count": 317,
   "metadata": {},
   "outputs": [
    {
     "name": "stdout",
     "output_type": "stream",
     "text": [
      "2\n",
      "3\n",
      "4\n",
      "5\n",
      "6\n",
      "7\n",
      "8\n",
      "9\n"
     ]
    }
   ],
   "source": [
    "for 숫자 in [2, 3, 4, 5, 6, 7, 8, 9]:\n",
    "    print(숫자)"
   ]
  },
  {
   "cell_type": "code",
   "execution_count": 331,
   "metadata": {},
   "outputs": [
    {
     "name": "stdout",
     "output_type": "stream",
     "text": [
      "### 2단 ###\n",
      "2 * 1 = 2\n",
      "2 * 2 = 4\n",
      "2 * 3 = 6\n",
      "2 * 4 = 8\n",
      "\n",
      "### 3단 ###\n",
      "3 * 1 = 3\n",
      "3 * 2 = 6\n",
      "3 * 3 = 9\n",
      "3 * 4 = 12\n",
      "\n",
      "### 4단 ###\n",
      "4 * 1 = 4\n",
      "4 * 2 = 8\n",
      "4 * 3 = 12\n",
      "4 * 4 = 16\n",
      "\n",
      "### 5단 ###\n",
      "5 * 1 = 5\n",
      "5 * 2 = 10\n",
      "5 * 3 = 15\n",
      "5 * 4 = 20\n",
      "\n",
      "### 6단 ###\n",
      "6 * 1 = 6\n",
      "6 * 2 = 12\n",
      "6 * 3 = 18\n",
      "6 * 4 = 24\n",
      "\n",
      "### 7단 ###\n",
      "7 * 1 = 7\n",
      "7 * 2 = 14\n",
      "7 * 3 = 21\n",
      "7 * 4 = 28\n",
      "\n",
      "### 8단 ###\n",
      "8 * 1 = 8\n",
      "8 * 2 = 16\n",
      "8 * 3 = 24\n",
      "8 * 4 = 32\n",
      "\n",
      "### 9단 ###\n",
      "9 * 1 = 9\n",
      "9 * 2 = 18\n",
      "9 * 3 = 27\n",
      "9 * 4 = 36\n",
      "\n",
      "### 10단 ###\n",
      "10 * 1 = 10\n",
      "10 * 2 = 20\n",
      "10 * 3 = 30\n",
      "10 * 4 = 40\n",
      "\n",
      "### 11단 ###\n",
      "11 * 1 = 11\n",
      "11 * 2 = 22\n",
      "11 * 3 = 33\n",
      "11 * 4 = 44\n",
      "\n",
      "### 12단 ###\n",
      "12 * 1 = 12\n",
      "12 * 2 = 24\n",
      "12 * 3 = 36\n",
      "12 * 4 = 48\n",
      "\n",
      "### 13단 ###\n",
      "13 * 1 = 13\n",
      "13 * 2 = 26\n",
      "13 * 3 = 39\n",
      "13 * 4 = 52\n",
      "\n",
      "### 14단 ###\n",
      "14 * 1 = 14\n",
      "14 * 2 = 28\n",
      "14 * 3 = 42\n",
      "14 * 4 = 56\n",
      "\n",
      "### 15단 ###\n",
      "15 * 1 = 15\n",
      "15 * 2 = 30\n",
      "15 * 3 = 45\n",
      "15 * 4 = 60\n",
      "\n",
      "### 16단 ###\n",
      "16 * 1 = 16\n",
      "16 * 2 = 32\n",
      "16 * 3 = 48\n",
      "16 * 4 = 64\n",
      "\n",
      "### 17단 ###\n",
      "17 * 1 = 17\n",
      "17 * 2 = 34\n",
      "17 * 3 = 51\n",
      "17 * 4 = 68\n",
      "\n",
      "### 18단 ###\n",
      "18 * 1 = 18\n",
      "18 * 2 = 36\n",
      "18 * 3 = 54\n",
      "18 * 4 = 72\n",
      "\n",
      "### 19단 ###\n",
      "19 * 1 = 19\n",
      "19 * 2 = 38\n",
      "19 * 3 = 57\n",
      "19 * 4 = 76\n",
      "\n"
     ]
    }
   ],
   "source": [
    "for 숫자 in range(2, 20):  # 2이상 10미만의 범위에서 1씩 증가하는 값을 생성\n",
    "    print('### {}단 ###'.format(숫자))\n",
    "    for i in range(1, 10):\n",
    "        print('{} * {} = {}'.format(숫자, i, 숫자 * i))\n",
    "        if i > 3:\n",
    "            break\n",
    "    print()\n",
    "    \n",
    "    # break, continue"
   ]
  },
  {
   "cell_type": "markdown",
   "metadata": {},
   "source": [
    "내장함수 `range`"
   ]
  },
  {
   "cell_type": "code",
   "execution_count": 336,
   "metadata": {},
   "outputs": [
    {
     "data": {
      "text/plain": [
       "[0, 1, 2, 3, 4, 5, 6, 7, 8, 9]"
      ]
     },
     "execution_count": 336,
     "metadata": {},
     "output_type": "execute_result"
    }
   ],
   "source": [
    "list(range(10))"
   ]
  },
  {
   "cell_type": "code",
   "execution_count": 337,
   "metadata": {},
   "outputs": [
    {
     "data": {
      "text/plain": [
       "[2, 3, 4, 5, 6, 7, 8, 9]"
      ]
     },
     "execution_count": 337,
     "metadata": {},
     "output_type": "execute_result"
    }
   ],
   "source": [
    "list(range(2, 10))"
   ]
  },
  {
   "cell_type": "code",
   "execution_count": 338,
   "metadata": {},
   "outputs": [
    {
     "data": {
      "text/plain": [
       "[2, 4, 6, 8]"
      ]
     },
     "execution_count": 338,
     "metadata": {},
     "output_type": "execute_result"
    }
   ],
   "source": [
    "list(range(2, 10, 2))"
   ]
  },
  {
   "cell_type": "code",
   "execution_count": null,
   "metadata": {},
   "outputs": [],
   "source": []
  },
  {
   "cell_type": "code",
   "execution_count": 347,
   "metadata": {
    "collapsed": true
   },
   "outputs": [
    {
     "name": "stdout",
     "output_type": "stream",
     "text": [
      "### 3단 ###\n",
      "3 * 1 = 3\n",
      "3 * 2 = 6\n",
      "3 * 3 = 9\n",
      "3 * 4 = 12\n",
      "3 * 5 = 15\n",
      "3 * 6 = 18\n",
      "3 * 7 = 21\n",
      "3 * 8 = 24\n",
      "3 * 9 = 27\n",
      "\n",
      "### 6단 ###\n",
      "6 * 1 = 6\n",
      "6 * 2 = 12\n",
      "6 * 3 = 18\n",
      "6 * 4 = 24\n",
      "6 * 5 = 30\n",
      "6 * 6 = 36\n",
      "6 * 7 = 42\n",
      "6 * 8 = 48\n",
      "6 * 9 = 54\n",
      "\n",
      "### 9단 ###\n",
      "9 * 1 = 9\n",
      "9 * 2 = 18\n",
      "9 * 3 = 27\n",
      "9 * 4 = 36\n",
      "9 * 5 = 45\n",
      "9 * 6 = 54\n",
      "9 * 7 = 63\n",
      "9 * 8 = 72\n",
      "9 * 9 = 81\n",
      "\n"
     ]
    }
   ],
   "source": [
    "# 3의 배수 숫자에 대한 구구단 출력\n",
    "for 숫자 in range(3, 10, 3):\n",
    "    print('### {}단 ###'.format(숫자))\n",
    "    for i in range(1, 10):\n",
    "        print('{} * {} = {}'.format(숫자, i, 숫자 * i))\n",
    "    print()"
   ]
  },
  {
   "cell_type": "code",
   "execution_count": 351,
   "metadata": {
    "collapsed": true
   },
   "outputs": [
    {
     "name": "stdout",
     "output_type": "stream",
     "text": [
      "15\n",
      "30\n",
      "45\n",
      "60\n",
      "75\n",
      "90\n"
     ]
    },
    {
     "data": {
      "text/plain": [
       "315"
      ]
     },
     "execution_count": 351,
     "metadata": {},
     "output_type": "execute_result"
    }
   ],
   "source": [
    "# 1이상 100미만의 범위에서 3과 5의 공배수를 출력하고, 합을 구하기\n",
    "result = 0\n",
    "\n",
    "for i in range(1, 100):\n",
    "    if i % 3 == 0 and i % 5 == 0:\n",
    "        print(i)\n",
    "        result += i\n",
    "        \n",
    "result"
   ]
  },
  {
   "cell_type": "code",
   "execution_count": 353,
   "metadata": {},
   "outputs": [
    {
     "name": "stdout",
     "output_type": "stream",
     "text": [
      "315\n"
     ]
    },
    {
     "data": {
      "text/plain": [
       "[15, 30, 45, 60, 75, 90]"
      ]
     },
     "execution_count": 353,
     "metadata": {},
     "output_type": "execute_result"
    }
   ],
   "source": [
    "# 1이상 100미만의 범위에서 3과 5의 공배수를 출력하고, 합을 구하기\n",
    "common_list = []\n",
    "\n",
    "for i in range(1, 100):\n",
    "    if i % 3 == 0 and i % 5 == 0:\n",
    "        common_list.append(i)\n",
    "\n",
    "print(sum(common_list))\n",
    "common_list"
   ]
  },
  {
   "cell_type": "code",
   "execution_count": 363,
   "metadata": {},
   "outputs": [
    {
     "data": {
      "text/plain": [
       "[15, 30, 45, 60, 75, 90]"
      ]
     },
     "execution_count": 363,
     "metadata": {},
     "output_type": "execute_result"
    }
   ],
   "source": [
    "list(range(15, 100, 15))"
   ]
  },
  {
   "cell_type": "code",
   "execution_count": 364,
   "metadata": {},
   "outputs": [
    {
     "data": {
      "text/plain": [
       "315"
      ]
     },
     "execution_count": 364,
     "metadata": {},
     "output_type": "execute_result"
    }
   ],
   "source": [
    "sum(range(15, 100, 15))"
   ]
  },
  {
   "cell_type": "code",
   "execution_count": 365,
   "metadata": {},
   "outputs": [],
   "source": [
    "sum = 0"
   ]
  },
  {
   "cell_type": "code",
   "execution_count": 366,
   "metadata": {},
   "outputs": [],
   "source": [
    "del sum"
   ]
  },
  {
   "cell_type": "code",
   "execution_count": 367,
   "metadata": {},
   "outputs": [
    {
     "data": {
      "text/plain": [
       "<function sum(iterable, start=0, /)>"
      ]
     },
     "execution_count": 367,
     "metadata": {},
     "output_type": "execute_result"
    }
   ],
   "source": [
    "sum"
   ]
  },
  {
   "cell_type": "code",
   "execution_count": null,
   "metadata": {},
   "outputs": [],
   "source": []
  },
  {
   "cell_type": "markdown",
   "metadata": {},
   "source": [
    "## 최소 2가지 방식의 코드로 우측 결과를 출력하기"
   ]
  },
  {
   "cell_type": "markdown",
   "metadata": {},
   "source": [
    "break 쓴 버전"
   ]
  },
  {
   "cell_type": "code",
   "execution_count": 371,
   "metadata": {},
   "outputs": [
    {
     "name": "stdout",
     "output_type": "stream",
     "text": [
      "### 2단 ###\n",
      "2 1 2\n",
      "2 2 4\n",
      "\n",
      "### 3단 ###\n",
      "3 1 3\n",
      "3 2 6\n",
      "3 3 9\n",
      "\n",
      "### 4단 ###\n",
      "4 1 4\n",
      "4 2 8\n",
      "4 3 12\n",
      "4 4 16\n",
      "\n",
      "### 5단 ###\n",
      "5 1 5\n",
      "5 2 10\n",
      "5 3 15\n",
      "5 4 20\n",
      "5 5 25\n",
      "\n",
      "### 6단 ###\n",
      "6 1 6\n",
      "6 2 12\n",
      "6 3 18\n",
      "6 4 24\n",
      "6 5 30\n",
      "6 6 36\n",
      "\n",
      "### 7단 ###\n",
      "7 1 7\n",
      "7 2 14\n",
      "7 3 21\n",
      "7 4 28\n",
      "7 5 35\n",
      "7 6 42\n",
      "7 7 49\n",
      "\n",
      "### 8단 ###\n",
      "8 1 8\n",
      "8 2 16\n",
      "8 3 24\n",
      "8 4 32\n",
      "8 5 40\n",
      "8 6 48\n",
      "8 7 56\n",
      "8 8 64\n",
      "\n",
      "### 9단 ###\n",
      "9 1 9\n",
      "9 2 18\n",
      "9 3 27\n",
      "9 4 36\n",
      "9 5 45\n",
      "9 6 54\n",
      "9 7 63\n",
      "9 8 72\n",
      "9 9 81\n",
      "\n"
     ]
    }
   ],
   "source": [
    "for 숫자 in range(2, 10):\n",
    "    print('### {}단 ###'.format(숫자))\n",
    "    for i in range(1, 10):\n",
    "        print(숫자, i, 숫자 * i)\n",
    "        if 숫자 == i:\n",
    "            break\n",
    "    print()"
   ]
  },
  {
   "cell_type": "markdown",
   "metadata": {},
   "source": [
    "break 안 쓴 버전"
   ]
  },
  {
   "cell_type": "code",
   "execution_count": 375,
   "metadata": {},
   "outputs": [
    {
     "name": "stdout",
     "output_type": "stream",
     "text": [
      "### 2단 ###\n",
      "2 1 2\n",
      "2 2 4\n",
      "\n",
      "### 3단 ###\n",
      "3 1 3\n",
      "3 2 6\n",
      "3 3 9\n",
      "\n",
      "### 4단 ###\n",
      "4 1 4\n",
      "4 2 8\n",
      "4 3 12\n",
      "4 4 16\n",
      "\n",
      "### 5단 ###\n",
      "5 1 5\n",
      "5 2 10\n",
      "5 3 15\n",
      "5 4 20\n",
      "5 5 25\n",
      "\n",
      "### 6단 ###\n",
      "6 1 6\n",
      "6 2 12\n",
      "6 3 18\n",
      "6 4 24\n",
      "6 5 30\n",
      "6 6 36\n",
      "\n",
      "### 7단 ###\n",
      "7 1 7\n",
      "7 2 14\n",
      "7 3 21\n",
      "7 4 28\n",
      "7 5 35\n",
      "7 6 42\n",
      "7 7 49\n",
      "\n",
      "### 8단 ###\n",
      "8 1 8\n",
      "8 2 16\n",
      "8 3 24\n",
      "8 4 32\n",
      "8 5 40\n",
      "8 6 48\n",
      "8 7 56\n",
      "8 8 64\n",
      "\n",
      "### 9단 ###\n",
      "9 1 9\n",
      "9 2 18\n",
      "9 3 27\n",
      "9 4 36\n",
      "9 5 45\n",
      "9 6 54\n",
      "9 7 63\n",
      "9 8 72\n",
      "9 9 81\n",
      "\n"
     ]
    }
   ],
   "source": [
    "for 숫자 in range(2, 10):\n",
    "    print('### {}단 ###'.format(숫자))\n",
    "    for i in range(1, 숫자+1):\n",
    "#         if i <= 숫자:\n",
    "        print(숫자, i, 숫자 * i)\n",
    "    print()"
   ]
  },
  {
   "cell_type": "code",
   "execution_count": null,
   "metadata": {},
   "outputs": [],
   "source": []
  },
  {
   "cell_type": "markdown",
   "metadata": {},
   "source": [
    "집합 연산으로 3과 5의 공배수 구하기"
   ]
  },
  {
   "cell_type": "code",
   "execution_count": 379,
   "metadata": {},
   "outputs": [
    {
     "data": {
      "text/plain": [
       "315"
      ]
     },
     "execution_count": 379,
     "metadata": {},
     "output_type": "execute_result"
    }
   ],
   "source": [
    "sum(set(range(3, 100, 3)) & set(range(5, 100, 5)))"
   ]
  },
  {
   "cell_type": "markdown",
   "metadata": {},
   "source": [
    "`DataFrame`에 대한 순회"
   ]
  },
  {
   "cell_type": "code",
   "execution_count": 382,
   "metadata": {},
   "outputs": [],
   "source": [
    "melon_df = pd.DataFrame(멜론_TOP100_리스트)"
   ]
  },
  {
   "cell_type": "code",
   "execution_count": 384,
   "metadata": {},
   "outputs": [
    {
     "data": {
      "text/plain": [
       "Index(['곡일련번호', '순위', '앨범', '곡명', '가수', '커버이미지_주소', '좋아요'], dtype='object')"
      ]
     },
     "execution_count": 384,
     "metadata": {},
     "output_type": "execute_result"
    }
   ],
   "source": [
    "melon_df.columns"
   ]
  },
  {
   "cell_type": "code",
   "execution_count": 383,
   "metadata": {},
   "outputs": [
    {
     "name": "stdout",
     "output_type": "stream",
     "text": [
      "곡일련번호\n",
      "순위\n",
      "앨범\n",
      "곡명\n",
      "가수\n",
      "커버이미지_주소\n",
      "좋아요\n"
     ]
    }
   ],
   "source": [
    "for n in melon_df:  # 컬럼명 순회\n",
    "    print(n)"
   ]
  },
  {
   "cell_type": "code",
   "execution_count": 394,
   "metadata": {},
   "outputs": [
    {
     "name": "stdout",
     "output_type": "stream",
     "text": [
      "0\n",
      "61528\n",
      "61528\n"
     ]
    }
   ],
   "source": [
    "for index, row_series in melon_df.iterrows():\n",
    "    print(index)\n",
    "    print(row_series.좋아요)\n",
    "    print(row_series['좋아요'])\n",
    "    break"
   ]
  },
  {
   "cell_type": "code",
   "execution_count": null,
   "metadata": {},
   "outputs": [],
   "source": []
  },
  {
   "cell_type": "code",
   "execution_count": 399,
   "metadata": {},
   "outputs": [
    {
     "name": "stdout",
     "output_type": "stream",
     "text": [
      "0\n"
     ]
    }
   ],
   "source": [
    "for i in range(1000000000000000000000):\n",
    "    print(i)\n",
    "    break"
   ]
  },
  {
   "cell_type": "code",
   "execution_count": null,
   "metadata": {},
   "outputs": [],
   "source": []
  },
  {
   "cell_type": "code",
   "execution_count": 402,
   "metadata": {},
   "outputs": [
    {
     "name": "stdout",
     "output_type": "stream",
     "text": [
      "불어 성적은 없습니다.\n"
     ]
    }
   ],
   "source": [
    "try:\n",
    "    학생_성적['불어']\n",
    "except KeyError:\n",
    "    print(\"불어 성적은 없습니다.\")"
   ]
  },
  {
   "cell_type": "code",
   "execution_count": null,
   "metadata": {},
   "outputs": [],
   "source": []
  },
  {
   "cell_type": "markdown",
   "metadata": {},
   "source": [
    "## 함수 (Functions)"
   ]
  },
  {
   "cell_type": "code",
   "execution_count": 406,
   "metadata": {},
   "outputs": [
    {
     "name": "stdout",
     "output_type": "stream",
     "text": [
      "2 * 1 = 2\n",
      "2 * 2 = 4\n",
      "2 * 3 = 6\n",
      "2 * 4 = 8\n",
      "2 * 5 = 10\n",
      "2 * 6 = 12\n",
      "2 * 7 = 14\n",
      "2 * 8 = 16\n",
      "2 * 9 = 18\n"
     ]
    }
   ],
   "source": [
    "숫자 = 2\n",
    "\n",
    "for i in range(1, 10):\n",
    "    print('{} * {} = {}'.format(숫자, i, 숫자 * i))"
   ]
  },
  {
   "cell_type": "code",
   "execution_count": 407,
   "metadata": {},
   "outputs": [
    {
     "name": "stdout",
     "output_type": "stream",
     "text": [
      "3 * 1 = 3\n",
      "3 * 2 = 6\n",
      "3 * 3 = 9\n",
      "3 * 4 = 12\n",
      "3 * 5 = 15\n",
      "3 * 6 = 18\n",
      "3 * 7 = 21\n",
      "3 * 8 = 24\n",
      "3 * 9 = 27\n"
     ]
    }
   ],
   "source": [
    "숫자 = 3\n",
    "\n",
    "for i in range(1, 10):\n",
    "    print('{} * {} = {}'.format(숫자, i, 숫자 * i))"
   ]
  },
  {
   "cell_type": "code",
   "execution_count": 405,
   "metadata": {},
   "outputs": [
    {
     "name": "stdout",
     "output_type": "stream",
     "text": [
      "7 1 7\n",
      "7 2 14\n",
      "7 3 21\n",
      "7 4 28\n",
      "7 5 35\n",
      "7 6 42\n",
      "7 7 49\n",
      "7 8 56\n",
      "7 9 63\n"
     ]
    }
   ],
   "source": [
    "숫자 = 7\n",
    "\n",
    "for i in range(1, 10):\n",
    "    print(숫자, i, 숫자 * i)"
   ]
  },
  {
   "cell_type": "markdown",
   "metadata": {},
   "source": [
    "함수화"
   ]
  },
  {
   "cell_type": "code",
   "execution_count": 422,
   "metadata": {},
   "outputs": [],
   "source": [
    "def 구구단_출력(숫자):\n",
    "    print(\"### {}단 ###\".format(숫자))\n",
    "    for i in range(1, 10):\n",
    "        print('{} * {} = {}'.format(숫자, i, 숫자 * i))"
   ]
  },
  {
   "cell_type": "code",
   "execution_count": 423,
   "metadata": {},
   "outputs": [
    {
     "name": "stdout",
     "output_type": "stream",
     "text": [
      "### 2단 ###\n",
      "2 * 1 = 2\n",
      "2 * 2 = 4\n",
      "2 * 3 = 6\n",
      "2 * 4 = 8\n",
      "2 * 5 = 10\n",
      "2 * 6 = 12\n",
      "2 * 7 = 14\n",
      "2 * 8 = 16\n",
      "2 * 9 = 18\n"
     ]
    }
   ],
   "source": [
    "구구단_출력(2)  # 호출(Call)한다."
   ]
  },
  {
   "cell_type": "code",
   "execution_count": 424,
   "metadata": {},
   "outputs": [
    {
     "name": "stdout",
     "output_type": "stream",
     "text": [
      "### 3단 ###\n",
      "3 * 1 = 3\n",
      "3 * 2 = 6\n",
      "3 * 3 = 9\n",
      "3 * 4 = 12\n",
      "3 * 5 = 15\n",
      "3 * 6 = 18\n",
      "3 * 7 = 21\n",
      "3 * 8 = 24\n",
      "3 * 9 = 27\n"
     ]
    }
   ],
   "source": [
    "구구단_출력(3)"
   ]
  },
  {
   "cell_type": "code",
   "execution_count": 425,
   "metadata": {},
   "outputs": [
    {
     "name": "stdout",
     "output_type": "stream",
     "text": [
      "### 19단 ###\n",
      "19 * 1 = 19\n",
      "19 * 2 = 38\n",
      "19 * 3 = 57\n",
      "19 * 4 = 76\n",
      "19 * 5 = 95\n",
      "19 * 6 = 114\n",
      "19 * 7 = 133\n",
      "19 * 8 = 152\n",
      "19 * 9 = 171\n"
     ]
    }
   ],
   "source": [
    "구구단_출력(19)"
   ]
  },
  {
   "cell_type": "code",
   "execution_count": null,
   "metadata": {},
   "outputs": [],
   "source": []
  },
  {
   "cell_type": "code",
   "execution_count": 426,
   "metadata": {},
   "outputs": [
    {
     "data": {
      "text/plain": [
       "1818"
      ]
     },
     "execution_count": 426,
     "metadata": {},
     "output_type": "execute_result"
    }
   ],
   "source": [
    "20000 // 11"
   ]
  },
  {
   "cell_type": "code",
   "execution_count": 427,
   "metadata": {},
   "outputs": [],
   "source": [
    "def 부가세_계산(결제금액):\n",
    "    return 결제금액 // 11"
   ]
  },
  {
   "cell_type": "code",
   "execution_count": 431,
   "metadata": {},
   "outputs": [
    {
     "data": {
      "text/plain": [
       "1818"
      ]
     },
     "execution_count": 431,
     "metadata": {},
     "output_type": "execute_result"
    }
   ],
   "source": [
    "부가세 = 부가세_계산(20000)\n",
    "부가세"
   ]
  },
  {
   "cell_type": "code",
   "execution_count": 436,
   "metadata": {},
   "outputs": [],
   "source": [
    "def 부가세_계산2(결제금액):\n",
    "    부가세 = 결제금액 // 11\n",
    "    부가세_뺀_금액 = 결제금액 - 부가세\n",
    "    return 부가세_뺀_금액, 부가세"
   ]
  },
  {
   "cell_type": "code",
   "execution_count": 438,
   "metadata": {
    "scrolled": true
   },
   "outputs": [],
   "source": [
    "금액1, 금액2 = 부가세_계산2(20000)"
   ]
  },
  {
   "cell_type": "code",
   "execution_count": 439,
   "metadata": {},
   "outputs": [
    {
     "data": {
      "text/plain": [
       "18182"
      ]
     },
     "execution_count": 439,
     "metadata": {},
     "output_type": "execute_result"
    }
   ],
   "source": [
    "금액1"
   ]
  },
  {
   "cell_type": "code",
   "execution_count": 440,
   "metadata": {},
   "outputs": [
    {
     "data": {
      "text/plain": [
       "1818"
      ]
     },
     "execution_count": 440,
     "metadata": {},
     "output_type": "execute_result"
    }
   ],
   "source": [
    "금액2"
   ]
  },
  {
   "cell_type": "code",
   "execution_count": null,
   "metadata": {},
   "outputs": [],
   "source": []
  },
  {
   "cell_type": "code",
   "execution_count": 449,
   "metadata": {},
   "outputs": [],
   "source": [
    "def 부가세_계산3(결제금액):\n",
    "    부가세 = 결제금액 // 11\n",
    "    부가세_뺀_금액 = 결제금액 - 부가세\n",
    "    return 부가세_뺀_금액, 부가세"
   ]
  },
  {
   "cell_type": "code",
   "execution_count": 450,
   "metadata": {},
   "outputs": [],
   "source": [
    "금액1, 금액2 = 부가세_계산3(20000)  # IPython은 None이 아닌 값들만 Out으로 보여줍니다."
   ]
  },
  {
   "cell_type": "code",
   "execution_count": null,
   "metadata": {},
   "outputs": [],
   "source": []
  },
  {
   "cell_type": "code",
   "execution_count": 454,
   "metadata": {},
   "outputs": [],
   "source": [
    "import requests\n",
    "from bs4 import BeautifulSoup\n",
    "\n",
    "def 네이버_실검():\n",
    "    res = requests.get(\"http://naver.com\")\n",
    "    html = res.text\n",
    "    soup = BeautifulSoup(html, 'html.parser')\n",
    "    tag_list = soup.select('.PM_CL_realtimeKeyword_rolling .ah_k')\n",
    "\n",
    "    keyword_list = []\n",
    "    for rank, tag in enumerate(tag_list, 1): # 항상 하위 block 전에 콤마(:)를 씁니다.\n",
    "        keyword = tag.text\n",
    "        keyword_list.append(keyword)\n",
    "    \n",
    "    return keyword_list"
   ]
  },
  {
   "cell_type": "code",
   "execution_count": 458,
   "metadata": {},
   "outputs": [
    {
     "name": "stdout",
     "output_type": "stream",
     "text": [
      "왕종명\n",
      "나르샤\n",
      "백예린\n",
      "grn\n",
      "아소방 매트\n",
      "붐붐파워\n",
      "2019 스타벅스 벚꽃 md\n",
      "김경수\n",
      "폴루스바이오팜\n",
      "리바이포유\n",
      "부가티\n",
      "윤진이\n",
      "미래생명자원\n",
      "건축학개론\n",
      "세상에서 제일 예쁜 내딸\n",
      "분홍이초록이시즌3\n",
      "이강인\n",
      "이용진\n",
      "아이패드 미니\n",
      "김상교\n"
     ]
    }
   ],
   "source": [
    "keyword_list = 네이버_실검()\n",
    "for keyword in keyword_list:\n",
    "    print(keyword)"
   ]
  },
  {
   "cell_type": "code",
   "execution_count": null,
   "metadata": {},
   "outputs": [],
   "source": []
  },
  {
   "cell_type": "code",
   "execution_count": 461,
   "metadata": {},
   "outputs": [],
   "source": [
    "def 네이버_블로그_검색(keyword):\n",
    "    url = 'https://search.naver.com/search.naver'\n",
    "    params = {\n",
    "        'where': 'post',\n",
    "        'sm': 'tab_jum',\n",
    "        'query': keyword,\n",
    "    }\n",
    "    res = requests.get(url, params=params)\n",
    "    html = res.text\n",
    "    soup = BeautifulSoup(html, 'html.parser')\n",
    "    \n",
    "    post_list = []\n",
    "    for tag in soup.select('.sh_blog_title'):\n",
    "        title = tag.text\n",
    "        url = tag['href']\n",
    "        # TODO: 요약문, 대표이미지, 글쓴날짜\n",
    "        post_list.append({\n",
    "            'url': url,\n",
    "            'title': title,\n",
    "        })\n",
    "    return post_list"
   ]
  },
  {
   "cell_type": "code",
   "execution_count": 462,
   "metadata": {},
   "outputs": [
    {
     "data": {
      "text/plain": [
       "[{'url': 'https://blog.naver.com/jbh8170?Redirect=Log&logNo=221310259632',\n",
       "  'title': 'LS 그룹'},\n",
       " {'url': 'https://blog.naver.com/incruit1?Redirect=Log&logNo=221349826974',\n",
       "  'title': 'LS그룹 채용ㅣ서류부터 면접까지 합격자료 받기!'},\n",
       " {'url': 'https://blog.naver.com/karma1503?Redirect=Log&logNo=221453087681',\n",
       "  'title': '[시이오뉴스][CEONEWS]2월호 커버스토리 구자열 LS그룹 회장...'},\n",
       " {'url': 'https://blog.naver.com/ls_story?Redirect=Log&logNo=221474995449',\n",
       "  'title': '[LS그룹]LS 대학생 기자단, LS그룹 2019 신입사원 입사식을...'},\n",
       " {'url': 'https://blog.naver.com/guide_p?Redirect=Log&logNo=221330591606',\n",
       "  'title': \"LS그룹회장의 '바퀴예찬론'(20180730)\"},\n",
       " {'url': 'https://blog.naver.com/ktenpar?Redirect=Log&logNo=221459200370',\n",
       "  'title': 'LS그룹(LG전선, LG산전. 5남구평회의 장남 구자열)'},\n",
       " {'url': 'https://blog.naver.com/vbvb15?Redirect=Log&logNo=221363246440',\n",
       "  'title': 'LS그룹 채용설명회, 직접 다녀온 생생후기!'},\n",
       " {'url': 'https://blog.naver.com/andasom98?Redirect=Log&logNo=221473590482',\n",
       "  'title': '[LS그룹 대학생 기자단] 면접후기'},\n",
       " {'url': 'https://blog.naver.com/excellceo?Redirect=Log&logNo=221045177863',\n",
       "  'title': '구자열 LS그룹 회장, “디지털 트랜스포메이션을 주도하라”'},\n",
       " {'url': 'https://blog.naver.com/crs7171?Redirect=Log&logNo=221142528066',\n",
       "  'title': '[쉽문스크랩/246일차] LS그룹, 에너지 정책 수혜'}]"
      ]
     },
     "execution_count": 462,
     "metadata": {},
     "output_type": "execute_result"
    }
   ],
   "source": [
    "네이버_블로그_검색('LS그룹')"
   ]
  },
  {
   "cell_type": "code",
   "execution_count": null,
   "metadata": {},
   "outputs": [],
   "source": []
  },
  {
   "cell_type": "code",
   "execution_count": 463,
   "metadata": {},
   "outputs": [],
   "source": [
    "def 봉급계산(기본급, 야근시간):\n",
    "    return 기본급 + 야근시간 * 10000"
   ]
  },
  {
   "cell_type": "code",
   "execution_count": 464,
   "metadata": {},
   "outputs": [
    {
     "data": {
      "text/plain": [
       "1100000"
      ]
     },
     "execution_count": 464,
     "metadata": {},
     "output_type": "execute_result"
    }
   ],
   "source": [
    "봉급계산(1000000, 10)"
   ]
  },
  {
   "cell_type": "code",
   "execution_count": 465,
   "metadata": {},
   "outputs": [
    {
     "data": {
      "text/plain": [
       "10000000010"
      ]
     },
     "execution_count": 465,
     "metadata": {},
     "output_type": "execute_result"
    }
   ],
   "source": [
    "봉급계산(10, 1000000)"
   ]
  },
  {
   "cell_type": "code",
   "execution_count": 467,
   "metadata": {},
   "outputs": [
    {
     "data": {
      "text/plain": [
       "1100000"
      ]
     },
     "execution_count": 467,
     "metadata": {},
     "output_type": "execute_result"
    }
   ],
   "source": [
    "봉급계산(기본급=1000000, 야근시간=10)"
   ]
  },
  {
   "cell_type": "code",
   "execution_count": 468,
   "metadata": {},
   "outputs": [
    {
     "data": {
      "text/plain": [
       "1100000"
      ]
     },
     "execution_count": 468,
     "metadata": {},
     "output_type": "execute_result"
    }
   ],
   "source": [
    "봉급계산(야근시간=10, 기본급=1000000)"
   ]
  },
  {
   "cell_type": "code",
   "execution_count": 470,
   "metadata": {},
   "outputs": [
    {
     "data": {
      "text/plain": [
       "1100000"
      ]
     },
     "execution_count": 470,
     "metadata": {},
     "output_type": "execute_result"
    }
   ],
   "source": [
    "봉급계산(1000000, 야근시간=10)"
   ]
  },
  {
   "cell_type": "code",
   "execution_count": 471,
   "metadata": {},
   "outputs": [
    {
     "ename": "SyntaxError",
     "evalue": "positional argument follows keyword argument (<ipython-input-471-28b5fd4166cb>, line 1)",
     "output_type": "error",
     "traceback": [
      "\u001b[0;36m  File \u001b[0;32m\"<ipython-input-471-28b5fd4166cb>\"\u001b[0;36m, line \u001b[0;32m1\u001b[0m\n\u001b[0;31m    봉급계산(기본급=1000000, 10)\u001b[0m\n\u001b[0m                         \n^\u001b[0m\n\u001b[0;31mSyntaxError\u001b[0m\u001b[0;31m:\u001b[0m positional argument follows keyword argument\n"
     ]
    }
   ],
   "source": [
    "# 봉급계산(기본급=1000000, 10)"
   ]
  },
  {
   "cell_type": "code",
   "execution_count": 473,
   "metadata": {},
   "outputs": [
    {
     "data": {
      "text/plain": [
       "1000000"
      ]
     },
     "execution_count": 473,
     "metadata": {},
     "output_type": "execute_result"
    }
   ],
   "source": [
    "봉급계산(1000000, 0)"
   ]
  },
  {
   "cell_type": "code",
   "execution_count": 474,
   "metadata": {},
   "outputs": [
    {
     "ename": "TypeError",
     "evalue": "봉급계산() missing 1 required positional argument: '야근시간'",
     "output_type": "error",
     "traceback": [
      "\u001b[0;31m---------------------------------------------------------------------------\u001b[0m",
      "\u001b[0;31mTypeError\u001b[0m                                 Traceback (most recent call last)",
      "\u001b[0;32m<ipython-input-474-71b8f554ef4d>\u001b[0m in \u001b[0;36m<module>\u001b[0;34m()\u001b[0m\n\u001b[0;32m----> 1\u001b[0;31m \u001b[0m봉급계산\u001b[0m\u001b[0;34m(\u001b[0m\u001b[0;36m1000000\u001b[0m\u001b[0;34m)\u001b[0m\u001b[0;34m\u001b[0m\u001b[0m\n\u001b[0m",
      "\u001b[0;31mTypeError\u001b[0m: 봉급계산() missing 1 required positional argument: '야근시간'"
     ]
    }
   ],
   "source": [
    "봉급계산(1000000)"
   ]
  },
  {
   "cell_type": "code",
   "execution_count": 476,
   "metadata": {},
   "outputs": [],
   "source": [
    "def 봉급계산2(기본급, 야근시간=0):\n",
    "    return 기본급 + 야근시간 * 10000"
   ]
  },
  {
   "cell_type": "code",
   "execution_count": 478,
   "metadata": {},
   "outputs": [
    {
     "data": {
      "text/plain": [
       "1000000"
      ]
     },
     "execution_count": 478,
     "metadata": {},
     "output_type": "execute_result"
    }
   ],
   "source": [
    "봉급계산2(1000000)"
   ]
  },
  {
   "cell_type": "markdown",
   "metadata": {},
   "source": [
    "## 연습문제"
   ]
  },
  {
   "cell_type": "code",
   "execution_count": 481,
   "metadata": {},
   "outputs": [
    {
     "data": {
      "text/plain": [
       "3"
      ]
     },
     "execution_count": 481,
     "metadata": {},
     "output_type": "execute_result"
    }
   ],
   "source": [
    "len(\"우리는 파이썬을 즐겨요\".split())"
   ]
  },
  {
   "cell_type": "code",
   "execution_count": 482,
   "metadata": {
    "collapsed": true
   },
   "outputs": [
    {
     "name": "stdout",
     "output_type": "stream",
     "text": [
      "우\n",
      "리\n",
      "는\n",
      " \n",
      "파\n",
      "이\n",
      "썬\n",
      "을\n",
      " \n",
      "즐\n",
      "겨\n",
      "요\n"
     ]
    }
   ],
   "source": [
    "message = \"우리는 파이썬을 즐겨요\"\n",
    "\n",
    "for ch in message:\n",
    "#     if ch == ' '  # ch가 공백이라면?\n",
    "    print(ch)"
   ]
  },
  {
   "cell_type": "code",
   "execution_count": 484,
   "metadata": {},
   "outputs": [
    {
     "data": {
      "text/plain": [
       "1234000"
      ]
     },
     "execution_count": 484,
     "metadata": {},
     "output_type": "execute_result"
    }
   ],
   "source": [
    "(1234567 // 1000) * 1000"
   ]
  },
  {
   "cell_type": "code",
   "execution_count": null,
   "metadata": {},
   "outputs": [],
   "source": []
  },
  {
   "cell_type": "code",
   "execution_count": null,
   "metadata": {},
   "outputs": [],
   "source": [
    "def 단어수_세기(문장):\n",
    "    return len(문장.split())  # white spaces"
   ]
  },
  {
   "cell_type": "code",
   "execution_count": null,
   "metadata": {},
   "outputs": [],
   "source": []
  },
  {
   "cell_type": "code",
   "execution_count": 485,
   "metadata": {},
   "outputs": [
    {
     "data": {
      "text/plain": [
       "10"
      ]
     },
     "execution_count": 485,
     "metadata": {},
     "output_type": "execute_result"
    }
   ],
   "source": [
    "문장 = \"우리는 파이썬을 즐겨요\"\n",
    "\n",
    "counter = 0\n",
    "for ch in 문장:\n",
    "    if ch != ' ':\n",
    "        counter += 1\n",
    "counter"
   ]
  },
  {
   "cell_type": "code",
   "execution_count": 489,
   "metadata": {},
   "outputs": [
    {
     "data": {
      "text/plain": [
       "10"
      ]
     },
     "execution_count": 489,
     "metadata": {},
     "output_type": "execute_result"
    }
   ],
   "source": [
    "len(문장.replace(' ', ''))"
   ]
  },
  {
   "cell_type": "code",
   "execution_count": 486,
   "metadata": {},
   "outputs": [],
   "source": [
    "def 공백아닌_글자수_세기(문장):\n",
    "    counter = 0\n",
    "    for ch in 문장:\n",
    "        if ch != ' ':\n",
    "            counter += 1\n",
    "    return counter"
   ]
  },
  {
   "cell_type": "code",
   "execution_count": 490,
   "metadata": {},
   "outputs": [],
   "source": [
    "def 공백아닌_글자수_세기2(문장):\n",
    "    return len(문장.replace(' ', ''))"
   ]
  },
  {
   "cell_type": "code",
   "execution_count": 491,
   "metadata": {},
   "outputs": [
    {
     "data": {
      "text/plain": [
       "10"
      ]
     },
     "execution_count": 491,
     "metadata": {},
     "output_type": "execute_result"
    }
   ],
   "source": [
    "공백아닌_글자수_세기('우리는 파이썬을 즐겨요')"
   ]
  },
  {
   "cell_type": "code",
   "execution_count": 492,
   "metadata": {},
   "outputs": [
    {
     "data": {
      "text/plain": [
       "10"
      ]
     },
     "execution_count": 492,
     "metadata": {},
     "output_type": "execute_result"
    }
   ],
   "source": [
    "공백아닌_글자수_세기2('우리는 파이썬을 즐겨요')"
   ]
  },
  {
   "cell_type": "code",
   "execution_count": 493,
   "metadata": {},
   "outputs": [],
   "source": [
    "def 천단위_절사(숫자):\n",
    "    return 숫자 // 1000 * 1000"
   ]
  },
  {
   "cell_type": "code",
   "execution_count": 494,
   "metadata": {},
   "outputs": [
    {
     "data": {
      "text/plain": [
       "1234000"
      ]
     },
     "execution_count": 494,
     "metadata": {},
     "output_type": "execute_result"
    }
   ],
   "source": [
    "천단위_절사(1234567)"
   ]
  },
  {
   "cell_type": "code",
   "execution_count": null,
   "metadata": {},
   "outputs": [],
   "source": []
  },
  {
   "cell_type": "code",
   "execution_count": null,
   "metadata": {},
   "outputs": [],
   "source": []
  },
  {
   "cell_type": "code",
   "execution_count": null,
   "metadata": {},
   "outputs": [],
   "source": []
  },
  {
   "cell_type": "code",
   "execution_count": null,
   "metadata": {},
   "outputs": [],
   "source": []
  },
  {
   "cell_type": "code",
   "execution_count": null,
   "metadata": {},
   "outputs": [],
   "source": []
  }
 ],
 "metadata": {
  "kernelspec": {
   "display_name": "Python 3",
   "language": "python",
   "name": "python3"
  },
  "language_info": {
   "codemirror_mode": {
    "name": "ipython",
    "version": 3
   },
   "file_extension": ".py",
   "mimetype": "text/x-python",
   "name": "python",
   "nbconvert_exporter": "python",
   "pygments_lexer": "ipython3",
   "version": "3.7.0"
  }
 },
 "nbformat": 4,
 "nbformat_minor": 2
}
