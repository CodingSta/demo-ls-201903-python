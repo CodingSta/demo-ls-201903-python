{
 "cells": [
  {
   "cell_type": "code",
   "execution_count": 1,
   "metadata": {},
   "outputs": [
    {
     "data": {
      "text/plain": [
       "1267650600228229401496703205376"
      ]
     },
     "execution_count": 1,
     "metadata": {},
     "output_type": "execute_result"
    }
   ],
   "source": [
    "2 ** 100"
   ]
  },
  {
   "cell_type": "code",
   "execution_count": 7,
   "metadata": {},
   "outputs": [
    {
     "name": "stdout",
     "output_type": "stream",
     "text": [
      "0 0\n",
      "1 1\n",
      "2 4\n"
     ]
    }
   ],
   "source": [
    "for i in range(3):\n",
    "    print(i, i**2)"
   ]
  },
  {
   "cell_type": "code",
   "execution_count": 10,
   "metadata": {},
   "outputs": [
    {
     "ename": "IndentationError",
     "evalue": "unexpected indent (<ipython-input-10-b514392bf41c>, line 2)",
     "output_type": "error",
     "traceback": [
      "\u001b[0;36m  File \u001b[0;32m\"<ipython-input-10-b514392bf41c>\"\u001b[0;36m, line \u001b[0;32m2\u001b[0m\n\u001b[0;31m    print(\"world\")\u001b[0m\n\u001b[0m    ^\u001b[0m\n\u001b[0;31mIndentationError\u001b[0m\u001b[0;31m:\u001b[0m unexpected indent\n"
     ]
    }
   ],
   "source": [
    "print(\"hello\")\n",
    " print(\"world\")\n",
    "print(\"python\")"
   ]
  },
  {
   "cell_type": "markdown",
   "metadata": {},
   "source": [
    "네이버 실검"
   ]
  },
  {
   "cell_type": "code",
   "execution_count": 12,
   "metadata": {},
   "outputs": [
    {
     "name": "stdout",
     "output_type": "stream",
     "text": [
      "1: 이희진\n",
      "2: 청담동 이희진\n",
      "3: 위메프 반값특가\n",
      "4: 금명간\n",
      "5: 청년구직활동지원금\n",
      "6: 송다은\n",
      "7: 송선미\n",
      "8: 이미숙\n",
      "9: 지윤미\n",
      "10: 티몬데이1212타임\n",
      "11: 부산청년플랫폼\n",
      "12: 쿠시\n",
      "13: 왕밤빵\n",
      "14: 윤총경\n",
      "15: 호구의 연애\n",
      "16: 정세호\n",
      "17: 천궁\n",
      "18: 김종승\n",
      "19: 유장호\n",
      "20: 그레이트 월\n"
     ]
    }
   ],
   "source": [
    "import requests\n",
    "from bs4 import BeautifulSoup\n",
    "res = requests.get(\"http://naver.com\")\n",
    "html = res.text\n",
    "soup = BeautifulSoup(html, 'html.parser')\n",
    "tag_list = soup.select('.PM_CL_realtimeKeyword_rolling .ah_k')\n",
    "\n",
    "for rank, tag in enumerate(tag_list, 1): # 항상 하위 block 전에 콤마(:)를 씁니다.\n",
    "    label = tag.text\n",
    "    print('{}: {}'.format(rank, label))"
   ]
  },
  {
   "cell_type": "code",
   "execution_count": null,
   "metadata": {},
   "outputs": [],
   "source": []
  }
 ],
 "metadata": {
  "kernelspec": {
   "display_name": "Python 3",
   "language": "python",
   "name": "python3"
  },
  "language_info": {
   "codemirror_mode": {
    "name": "ipython",
    "version": 3
   },
   "file_extension": ".py",
   "mimetype": "text/x-python",
   "name": "python",
   "nbconvert_exporter": "python",
   "pygments_lexer": "ipython3",
   "version": "3.7.0"
  }
 },
 "nbformat": 4,
 "nbformat_minor": 2
}
